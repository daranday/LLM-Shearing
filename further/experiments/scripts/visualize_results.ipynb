{
 "cells": [
  {
   "cell_type": "code",
   "execution_count": 1,
   "metadata": {},
   "outputs": [
    {
     "name": "stdout",
     "output_type": "stream",
     "text": [
      "http://127.0.0.1:8787/status\n",
      "Launching workflow: convert_composer_to_hf\n",
      "Launching workflow: convert_composer_to_hf\n",
      "Launching workflow: convert_composer_to_hf\n",
      "Launching workflow: convert_composer_to_hf\n",
      "Launching workflow: convert_composer_to_hfLaunching workflow: evaluate_model\n",
      "\n",
      "Launching workflow: convert_composer_to_hf\n",
      "Launching workflow: evaluate_model\n",
      "Launching workflow: convert_composer_to_hf\n",
      "Launching workflow: convert_composer_to_hf\n",
      "Launching workflow: convert_composer_to_hf\n",
      "Launching workflow: convert_composer_to_hf\n",
      "Launching workflow: convert_composer_to_hfLaunching workflow: convert_composer_to_hf\n",
      "\n",
      "Launching workflow: convert_composer_to_hf\n",
      "Launching workflow: convert_composer_to_hf\n",
      "Launching workflow: convert_composer_to_hf\n",
      "Launching workflow: convert_composer_to_hf\n",
      "Launching workflow: convert_composer_to_hf\n",
      "Launching workflow: convert_composer_to_hf\n",
      "Launching workflow: convert_composer_to_hf\n",
      "Launching workflow: convert_composer_to_hf\n",
      "Launching workflow: convert_composer_to_hf\n",
      "Launching workflow: convert_composer_to_hf\n",
      "Launching workflow: convert_composer_to_hf\n",
      "Launching workflow: convert_composer_to_hf\n",
      "Launching workflow: convert_composer_to_hf\n",
      "Launching workflow: convert_composer_to_hf\n",
      "Launching workflow: convert_composer_to_hf\n",
      "Launching workflow: convert_composer_to_hf\n",
      "Launching workflow: convert_composer_to_hf\n",
      "Launching workflow: convert_composer_to_hf\n"
     ]
    },
    {
     "name": "stderr",
     "output_type": "stream",
     "text": [
      "/nvmefs1/daranhe/.conda/envs/default/lib/python3.10/site-packages/determined/common/experimental/checkpoint/_checkpoint.py:62: FutureWarning: 'CheckpointOrderBy' is deprecated and will be removed in a future release. Please use 'experimental.OrderBy' instead.\n",
      "  warnings.warn(\n",
      "/nvmefs1/daranhe/.conda/envs/default/lib/python3.10/site-packages/determined/common/experimental/checkpoint/_checkpoint.py:62: FutureWarning: 'CheckpointOrderBy' is deprecated and will be removed in a future release. Please use 'experimental.OrderBy' instead.\n",
      "  warnings.warn(\n",
      "/nvmefs1/daranhe/.conda/envs/default/lib/python3.10/site-packages/determined/common/experimental/checkpoint/_checkpoint.py:62: FutureWarning: 'CheckpointOrderBy' is deprecated and will be removed in a future release. Please use 'experimental.OrderBy' instead.\n",
      "  warnings.warn(\n",
      "/nvmefs1/daranhe/.conda/envs/default/lib/python3.10/site-packages/determined/common/experimental/checkpoint/_checkpoint.py:62: FutureWarning: 'CheckpointOrderBy' is deprecated and will be removed in a future release. Please use 'experimental.OrderBy' instead.\n",
      "  warnings.warn(\n",
      "/nvmefs1/daranhe/.conda/envs/default/lib/python3.10/site-packages/determined/common/experimental/checkpoint/_checkpoint.py:62: FutureWarning: 'CheckpointOrderBy' is deprecated and will be removed in a future release. Please use 'experimental.OrderBy' instead.\n",
      "  warnings.warn(\n",
      "/nvmefs1/daranhe/.conda/envs/default/lib/python3.10/site-packages/determined/common/experimental/checkpoint/_checkpoint.py:62: FutureWarning: 'CheckpointOrderBy' is deprecated and will be removed in a future release. Please use 'experimental.OrderBy' instead.\n",
      "  warnings.warn(\n",
      "/nvmefs1/daranhe/.conda/envs/default/lib/python3.10/site-packages/determined/common/experimental/checkpoint/_checkpoint.py:62: FutureWarning: 'CheckpointOrderBy' is deprecated and will be removed in a future release. Please use 'experimental.OrderBy' instead.\n",
      "  warnings.warn(\n",
      "/nvmefs1/daranhe/.conda/envs/default/lib/python3.10/site-packages/determined/common/experimental/checkpoint/_checkpoint.py:62: FutureWarning: 'CheckpointOrderBy' is deprecated and will be removed in a future release. Please use 'experimental.OrderBy' instead.\n",
      "  warnings.warn(\n",
      "/nvmefs1/daranhe/.conda/envs/default/lib/python3.10/site-packages/determined/common/experimental/checkpoint/_checkpoint.py:62: FutureWarning: 'CheckpointOrderBy' is deprecated and will be removed in a future release. Please use 'experimental.OrderBy' instead.\n",
      "  warnings.warn(\n",
      "/nvmefs1/daranhe/.conda/envs/default/lib/python3.10/site-packages/determined/common/experimental/checkpoint/_checkpoint.py:62: FutureWarning: 'CheckpointOrderBy' is deprecated and will be removed in a future release. Please use 'experimental.OrderBy' instead.\n",
      "  warnings.warn(\n",
      "/nvmefs1/daranhe/.conda/envs/default/lib/python3.10/site-packages/determined/common/experimental/checkpoint/_checkpoint.py:62: FutureWarning: 'CheckpointOrderBy' is deprecated and will be removed in a future release. Please use 'experimental.OrderBy' instead.\n",
      "  warnings.warn(\n",
      "/nvmefs1/daranhe/.conda/envs/default/lib/python3.10/site-packages/determined/common/experimental/checkpoint/_checkpoint.py:62: FutureWarning: 'CheckpointOrderBy' is deprecated and will be removed in a future release. Please use 'experimental.OrderBy' instead.\n",
      "  warnings.warn(\n",
      "/nvmefs1/daranhe/.conda/envs/default/lib/python3.10/site-packages/determined/common/experimental/checkpoint/_checkpoint.py:62: FutureWarning: 'CheckpointOrderBy' is deprecated and will be removed in a future release. Please use 'experimental.OrderBy' instead.\n",
      "  warnings.warn(\n",
      "/nvmefs1/daranhe/.conda/envs/default/lib/python3.10/site-packages/determined/common/experimental/checkpoint/_checkpoint.py:62: FutureWarning: 'CheckpointOrderBy' is deprecated and will be removed in a future release. Please use 'experimental.OrderBy' instead.\n",
      "  warnings.warn(\n",
      "/nvmefs1/daranhe/.conda/envs/default/lib/python3.10/site-packages/determined/common/experimental/checkpoint/_checkpoint.py:62: FutureWarning: 'CheckpointOrderBy' is deprecated and will be removed in a future release. Please use 'experimental.OrderBy' instead.\n",
      "  warnings.warn(\n",
      "/nvmefs1/daranhe/.conda/envs/default/lib/python3.10/site-packages/determined/common/experimental/checkpoint/_checkpoint.py:62: FutureWarning: 'CheckpointOrderBy' is deprecated and will be removed in a future release. Please use 'experimental.OrderBy' instead.\n",
      "  warnings.warn(\n",
      "/nvmefs1/daranhe/.conda/envs/default/lib/python3.10/site-packages/determined/common/experimental/checkpoint/_checkpoint.py:62: FutureWarning: 'CheckpointOrderBy' is deprecated and will be removed in a future release. Please use 'experimental.OrderBy' instead.\n",
      "  warnings.warn(\n",
      "/nvmefs1/daranhe/.conda/envs/default/lib/python3.10/site-packages/determined/common/experimental/checkpoint/_checkpoint.py:62: FutureWarning: 'CheckpointOrderBy' is deprecated and will be removed in a future release. Please use 'experimental.OrderBy' instead.\n",
      "  warnings.warn(\n",
      "/nvmefs1/daranhe/.conda/envs/default/lib/python3.10/site-packages/determined/common/experimental/checkpoint/_checkpoint.py:62: FutureWarning: 'CheckpointOrderBy' is deprecated and will be removed in a future release. Please use 'experimental.OrderBy' instead.\n",
      "  warnings.warn(\n",
      "/nvmefs1/daranhe/.conda/envs/default/lib/python3.10/site-packages/determined/common/experimental/checkpoint/_checkpoint.py:62: FutureWarning: 'CheckpointOrderBy' is deprecated and will be removed in a future release. Please use 'experimental.OrderBy' instead.\n",
      "  warnings.warn(\n",
      "/nvmefs1/daranhe/.conda/envs/default/lib/python3.10/site-packages/determined/common/experimental/checkpoint/_checkpoint.py:62: FutureWarning: 'CheckpointOrderBy' is deprecated and will be removed in a future release. Please use 'experimental.OrderBy' instead.\n",
      "  warnings.warn(\n",
      "/nvmefs1/daranhe/.conda/envs/default/lib/python3.10/site-packages/determined/common/experimental/checkpoint/_checkpoint.py:62: FutureWarning: 'CheckpointOrderBy' is deprecated and will be removed in a future release. Please use 'experimental.OrderBy' instead.\n",
      "  warnings.warn(\n",
      "/nvmefs1/daranhe/.conda/envs/default/lib/python3.10/site-packages/determined/common/experimental/checkpoint/_checkpoint.py:62: FutureWarning: 'CheckpointOrderBy' is deprecated and will be removed in a future release. Please use 'experimental.OrderBy' instead.\n",
      "  warnings.warn(\n",
      "/nvmefs1/daranhe/.conda/envs/default/lib/python3.10/site-packages/determined/common/experimental/checkpoint/_checkpoint.py:62: FutureWarning: 'CheckpointOrderBy' is deprecated and will be removed in a future release. Please use 'experimental.OrderBy' instead.\n",
      "  warnings.warn(\n",
      "/nvmefs1/daranhe/.conda/envs/default/lib/python3.10/site-packages/determined/common/experimental/checkpoint/_checkpoint.py:62: FutureWarning: 'CheckpointOrderBy' is deprecated and will be removed in a future release. Please use 'experimental.OrderBy' instead.\n",
      "  warnings.warn(\n",
      "/nvmefs1/daranhe/.conda/envs/default/lib/python3.10/site-packages/determined/common/experimental/checkpoint/_checkpoint.py:62: FutureWarning: 'CheckpointOrderBy' is deprecated and will be removed in a future release. Please use 'experimental.OrderBy' instead.\n",
      "  warnings.warn(\n",
      "/nvmefs1/daranhe/.conda/envs/default/lib/python3.10/site-packages/determined/common/experimental/checkpoint/_checkpoint.py:62: FutureWarning: 'CheckpointOrderBy' is deprecated and will be removed in a future release. Please use 'experimental.OrderBy' instead.\n",
      "  warnings.warn(\n",
      "/nvmefs1/daranhe/.conda/envs/default/lib/python3.10/site-packages/determined/common/experimental/checkpoint/_checkpoint.py:62: FutureWarning: 'CheckpointOrderBy' is deprecated and will be removed in a future release. Please use 'experimental.OrderBy' instead.\n",
      "  warnings.warn(\n",
      "/nvmefs1/daranhe/.conda/envs/default/lib/python3.10/site-packages/determined/common/experimental/checkpoint/_checkpoint.py:62: FutureWarning: 'CheckpointOrderBy' is deprecated and will be removed in a future release. Please use 'experimental.OrderBy' instead.\n",
      "  warnings.warn(\n",
      "/nvmefs1/daranhe/.conda/envs/default/lib/python3.10/site-packages/determined/common/experimental/checkpoint/_checkpoint.py:62: FutureWarning: 'CheckpointOrderBy' is deprecated and will be removed in a future release. Please use 'experimental.OrderBy' instead.\n",
      "  warnings.warn(\n",
      "/nvmefs1/daranhe/.conda/envs/default/lib/python3.10/site-packages/determined/common/experimental/checkpoint/_checkpoint.py:62: FutureWarning: 'CheckpointOrderBy' is deprecated and will be removed in a future release. Please use 'experimental.OrderBy' instead.\n",
      "  warnings.warn(\n",
      "/nvmefs1/daranhe/.conda/envs/default/lib/python3.10/site-packages/determined/common/experimental/trial.py:579: FutureWarning: 'TrialOrderBy' is deprecated and will be removed in a future release. Please use 'experimental.OrderBy' instead.\n",
      "  warnings.warn(\n",
      "/nvmefs1/daranhe/.conda/envs/default/lib/python3.10/site-packages/determined/common/experimental/trial.py:579: FutureWarning: 'TrialOrderBy' is deprecated and will be removed in a future release. Please use 'experimental.OrderBy' instead.\n",
      "  warnings.warn(\n",
      "/nvmefs1/daranhe/.conda/envs/default/lib/python3.10/site-packages/determined/common/experimental/trial.py:579: FutureWarning: 'TrialOrderBy' is deprecated and will be removed in a future release. Please use 'experimental.OrderBy' instead.\n",
      "  warnings.warn(\n",
      "/nvmefs1/daranhe/.conda/envs/default/lib/python3.10/site-packages/determined/common/experimental/trial.py:579: FutureWarning: 'TrialOrderBy' is deprecated and will be removed in a future release. Please use 'experimental.OrderBy' instead.\n",
      "  warnings.warn(\n",
      "/nvmefs1/daranhe/.conda/envs/default/lib/python3.10/site-packages/determined/common/experimental/trial.py:579: FutureWarning: 'TrialOrderBy' is deprecated and will be removed in a future release. Please use 'experimental.OrderBy' instead.\n",
      "  warnings.warn(\n",
      "/nvmefs1/daranhe/.conda/envs/default/lib/python3.10/site-packages/determined/common/experimental/trial.py:579: FutureWarning: 'TrialOrderBy' is deprecated and will be removed in a future release. Please use 'experimental.OrderBy' instead.\n",
      "  warnings.warn(\n",
      "/nvmefs1/daranhe/.conda/envs/default/lib/python3.10/site-packages/determined/common/experimental/trial.py:579: FutureWarning: 'TrialOrderBy' is deprecated and will be removed in a future release. Please use 'experimental.OrderBy' instead.\n",
      "  warnings.warn(\n",
      "/nvmefs1/daranhe/.conda/envs/default/lib/python3.10/site-packages/determined/common/experimental/trial.py:579: FutureWarning: 'TrialOrderBy' is deprecated and will be removed in a future release. Please use 'experimental.OrderBy' instead.\n",
      "  warnings.warn(\n",
      "/nvmefs1/daranhe/.conda/envs/default/lib/python3.10/site-packages/determined/common/experimental/trial.py:579: FutureWarning: 'TrialOrderBy' is deprecated and will be removed in a future release. Please use 'experimental.OrderBy' instead.\n",
      "  warnings.warn(\n",
      "/nvmefs1/daranhe/.conda/envs/default/lib/python3.10/site-packages/determined/common/experimental/trial.py:579: FutureWarning: 'TrialOrderBy' is deprecated and will be removed in a future release. Please use 'experimental.OrderBy' instead.\n",
      "  warnings.warn(\n",
      "/nvmefs1/daranhe/.conda/envs/default/lib/python3.10/site-packages/determined/common/experimental/trial.py:579: FutureWarning: 'TrialOrderBy' is deprecated and will be removed in a future release. Please use 'experimental.OrderBy' instead.\n",
      "  warnings.warn(\n",
      "/nvmefs1/daranhe/.conda/envs/default/lib/python3.10/site-packages/determined/common/experimental/trial.py:579: FutureWarning: 'TrialOrderBy' is deprecated and will be removed in a future release. Please use 'experimental.OrderBy' instead.\n",
      "  warnings.warn(\n",
      "/nvmefs1/daranhe/.conda/envs/default/lib/python3.10/site-packages/determined/common/experimental/trial.py:579: FutureWarning: 'TrialOrderBy' is deprecated and will be removed in a future release. Please use 'experimental.OrderBy' instead.\n",
      "  warnings.warn(\n",
      "/nvmefs1/daranhe/.conda/envs/default/lib/python3.10/site-packages/determined/common/experimental/trial.py:579: FutureWarning: 'TrialOrderBy' is deprecated and will be removed in a future release. Please use 'experimental.OrderBy' instead.\n",
      "  warnings.warn(\n",
      "/nvmefs1/daranhe/.conda/envs/default/lib/python3.10/site-packages/determined/common/experimental/trial.py:579: FutureWarning: 'TrialOrderBy' is deprecated and will be removed in a future release. Please use 'experimental.OrderBy' instead.\n",
      "  warnings.warn(\n",
      "/nvmefs1/daranhe/.conda/envs/default/lib/python3.10/site-packages/determined/common/experimental/trial.py:579: FutureWarning: 'TrialOrderBy' is deprecated and will be removed in a future release. Please use 'experimental.OrderBy' instead.\n",
      "  warnings.warn(\n",
      "/nvmefs1/daranhe/.conda/envs/default/lib/python3.10/site-packages/determined/common/experimental/trial.py:579: FutureWarning: 'TrialOrderBy' is deprecated and will be removed in a future release. Please use 'experimental.OrderBy' instead.\n",
      "  warnings.warn(\n",
      "/nvmefs1/daranhe/.conda/envs/default/lib/python3.10/site-packages/determined/common/experimental/trial.py:579: FutureWarning: 'TrialOrderBy' is deprecated and will be removed in a future release. Please use 'experimental.OrderBy' instead.\n",
      "  warnings.warn(\n",
      "/nvmefs1/daranhe/.conda/envs/default/lib/python3.10/site-packages/determined/common/experimental/trial.py:579: FutureWarning: 'TrialOrderBy' is deprecated and will be removed in a future release. Please use 'experimental.OrderBy' instead.\n",
      "  warnings.warn(\n",
      "/nvmefs1/daranhe/.conda/envs/default/lib/python3.10/site-packages/determined/common/experimental/trial.py:579: FutureWarning: 'TrialOrderBy' is deprecated and will be removed in a future release. Please use 'experimental.OrderBy' instead.\n",
      "  warnings.warn(\n",
      "/nvmefs1/daranhe/.conda/envs/default/lib/python3.10/site-packages/determined/common/experimental/trial.py:579: FutureWarning: 'TrialOrderBy' is deprecated and will be removed in a future release. Please use 'experimental.OrderBy' instead.\n",
      "  warnings.warn(\n",
      "/nvmefs1/daranhe/.conda/envs/default/lib/python3.10/site-packages/determined/common/experimental/trial.py:579: FutureWarning: 'TrialOrderBy' is deprecated and will be removed in a future release. Please use 'experimental.OrderBy' instead.\n",
      "  warnings.warn(\n",
      "/nvmefs1/daranhe/.conda/envs/default/lib/python3.10/site-packages/determined/common/experimental/trial.py:579: FutureWarning: 'TrialOrderBy' is deprecated and will be removed in a future release. Please use 'experimental.OrderBy' instead.\n",
      "  warnings.warn(\n",
      "/nvmefs1/daranhe/.conda/envs/default/lib/python3.10/site-packages/determined/common/experimental/trial.py:579: FutureWarning: 'TrialOrderBy' is deprecated and will be removed in a future release. Please use 'experimental.OrderBy' instead.\n",
      "  warnings.warn(\n",
      "/nvmefs1/daranhe/.conda/envs/default/lib/python3.10/site-packages/determined/common/experimental/trial.py:579: FutureWarning: 'TrialOrderBy' is deprecated and will be removed in a future release. Please use 'experimental.OrderBy' instead.\n",
      "  warnings.warn(\n",
      "/nvmefs1/daranhe/.conda/envs/default/lib/python3.10/site-packages/determined/common/experimental/trial.py:579: FutureWarning: 'TrialOrderBy' is deprecated and will be removed in a future release. Please use 'experimental.OrderBy' instead.\n",
      "  warnings.warn(\n",
      "/nvmefs1/daranhe/.conda/envs/default/lib/python3.10/site-packages/determined/common/experimental/trial.py:579: FutureWarning: 'TrialOrderBy' is deprecated and will be removed in a future release. Please use 'experimental.OrderBy' instead.\n",
      "  warnings.warn(\n",
      "/nvmefs1/daranhe/.conda/envs/default/lib/python3.10/site-packages/determined/common/experimental/trial.py:579: FutureWarning: 'TrialOrderBy' is deprecated and will be removed in a future release. Please use 'experimental.OrderBy' instead.\n",
      "  warnings.warn(\n",
      "/nvmefs1/daranhe/.conda/envs/default/lib/python3.10/site-packages/determined/common/experimental/trial.py:579: FutureWarning: 'TrialOrderBy' is deprecated and will be removed in a future release. Please use 'experimental.OrderBy' instead.\n",
      "  warnings.warn(\n",
      "/nvmefs1/daranhe/.conda/envs/default/lib/python3.10/site-packages/determined/common/experimental/trial.py:579: FutureWarning: 'TrialOrderBy' is deprecated and will be removed in a future release. Please use 'experimental.OrderBy' instead.\n",
      "  warnings.warn(\n",
      "/nvmefs1/daranhe/.conda/envs/default/lib/python3.10/site-packages/determined/common/experimental/trial.py:579: FutureWarning: 'TrialOrderBy' is deprecated and will be removed in a future release. Please use 'experimental.OrderBy' instead.\n",
      "  warnings.warn(\n",
      "/nvmefs1/daranhe/.conda/envs/default/lib/python3.10/site-packages/determined/common/experimental/checkpoint/_checkpoint.py:62: FutureWarning: 'CheckpointOrderBy' is deprecated and will be removed in a future release. Please use 'experimental.OrderBy' instead.\n",
      "  warnings.warn(\n",
      "/nvmefs1/daranhe/.conda/envs/default/lib/python3.10/site-packages/determined/common/experimental/experiment.py:78: FutureWarning: 'ExperimentOrderBy' is deprecated and will be removed in a future release. Please use 'experimental.OrderBy' instead.\n",
      "  warnings.warn(\n",
      "/nvmefs1/daranhe/.conda/envs/default/lib/python3.10/site-packages/determined/common/experimental/experiment.py:78: FutureWarning: 'ExperimentOrderBy' is deprecated and will be removed in a future release. Please use 'experimental.OrderBy' instead.\n",
      "  warnings.warn(\n",
      "/nvmefs1/daranhe/.conda/envs/default/lib/python3.10/site-packages/determined/common/experimental/experiment.py:78: FutureWarning: 'ExperimentOrderBy' is deprecated and will be removed in a future release. Please use 'experimental.OrderBy' instead.\n",
      "  warnings.warn(\n",
      "/nvmefs1/daranhe/.conda/envs/default/lib/python3.10/site-packages/determined/common/experimental/experiment.py:78: FutureWarning: 'ExperimentOrderBy' is deprecated and will be removed in a future release. Please use 'experimental.OrderBy' instead.\n",
      "  warnings.warn(\n",
      "/nvmefs1/daranhe/.conda/envs/default/lib/python3.10/site-packages/determined/common/experimental/experiment.py:78: FutureWarning: 'ExperimentOrderBy' is deprecated and will be removed in a future release. Please use 'experimental.OrderBy' instead.\n",
      "  warnings.warn(\n",
      "/nvmefs1/daranhe/.conda/envs/default/lib/python3.10/site-packages/determined/common/experimental/experiment.py:78: FutureWarning: 'ExperimentOrderBy' is deprecated and will be removed in a future release. Please use 'experimental.OrderBy' instead.\n",
      "  warnings.warn(\n",
      "/nvmefs1/daranhe/.conda/envs/default/lib/python3.10/site-packages/determined/common/experimental/experiment.py:78: FutureWarning: 'ExperimentOrderBy' is deprecated and will be removed in a future release. Please use 'experimental.OrderBy' instead.\n",
      "  warnings.warn(\n",
      "/nvmefs1/daranhe/.conda/envs/default/lib/python3.10/site-packages/determined/common/experimental/experiment.py:78: FutureWarning: 'ExperimentOrderBy' is deprecated and will be removed in a future release. Please use 'experimental.OrderBy' instead.\n",
      "  warnings.warn(\n",
      "/nvmefs1/daranhe/.conda/envs/default/lib/python3.10/site-packages/determined/common/experimental/experiment.py:78: FutureWarning: 'ExperimentOrderBy' is deprecated and will be removed in a future release. Please use 'experimental.OrderBy' instead.\n",
      "  warnings.warn(\n",
      "/nvmefs1/daranhe/.conda/envs/default/lib/python3.10/site-packages/determined/common/experimental/experiment.py:78: FutureWarning: 'ExperimentOrderBy' is deprecated and will be removed in a future release. Please use 'experimental.OrderBy' instead.\n",
      "  warnings.warn(\n",
      "/nvmefs1/daranhe/.conda/envs/default/lib/python3.10/site-packages/determined/common/experimental/experiment.py:78: FutureWarning: 'ExperimentOrderBy' is deprecated and will be removed in a future release. Please use 'experimental.OrderBy' instead.\n",
      "  warnings.warn(\n",
      "/nvmefs1/daranhe/.conda/envs/default/lib/python3.10/site-packages/determined/common/experimental/experiment.py:78: FutureWarning: 'ExperimentOrderBy' is deprecated and will be removed in a future release. Please use 'experimental.OrderBy' instead.\n",
      "  warnings.warn(\n",
      "/nvmefs1/daranhe/.conda/envs/default/lib/python3.10/site-packages/determined/common/experimental/experiment.py:78: FutureWarning: 'ExperimentOrderBy' is deprecated and will be removed in a future release. Please use 'experimental.OrderBy' instead.\n",
      "  warnings.warn(\n",
      "/nvmefs1/daranhe/.conda/envs/default/lib/python3.10/site-packages/determined/common/experimental/experiment.py:78: FutureWarning: 'ExperimentOrderBy' is deprecated and will be removed in a future release. Please use 'experimental.OrderBy' instead.\n",
      "  warnings.warn(\n",
      "/nvmefs1/daranhe/.conda/envs/default/lib/python3.10/site-packages/determined/common/experimental/experiment.py:78: FutureWarning: 'ExperimentOrderBy' is deprecated and will be removed in a future release. Please use 'experimental.OrderBy' instead.\n",
      "  warnings.warn(\n",
      "/nvmefs1/daranhe/.conda/envs/default/lib/python3.10/site-packages/determined/common/experimental/experiment.py:78: FutureWarning: 'ExperimentOrderBy' is deprecated and will be removed in a future release. Please use 'experimental.OrderBy' instead.\n",
      "  warnings.warn(\n",
      "/nvmefs1/daranhe/.conda/envs/default/lib/python3.10/site-packages/determined/common/experimental/experiment.py:78: FutureWarning: 'ExperimentOrderBy' is deprecated and will be removed in a future release. Please use 'experimental.OrderBy' instead.\n",
      "  warnings.warn(\n",
      "/nvmefs1/daranhe/.conda/envs/default/lib/python3.10/site-packages/determined/common/experimental/experiment.py:78: FutureWarning: 'ExperimentOrderBy' is deprecated and will be removed in a future release. Please use 'experimental.OrderBy' instead.\n",
      "  warnings.warn(\n",
      "/nvmefs1/daranhe/.conda/envs/default/lib/python3.10/site-packages/determined/common/experimental/experiment.py:78: FutureWarning: 'ExperimentOrderBy' is deprecated and will be removed in a future release. Please use 'experimental.OrderBy' instead.\n",
      "  warnings.warn(\n",
      "/nvmefs1/daranhe/.conda/envs/default/lib/python3.10/site-packages/determined/common/experimental/experiment.py:78: FutureWarning: 'ExperimentOrderBy' is deprecated and will be removed in a future release. Please use 'experimental.OrderBy' instead.\n",
      "  warnings.warn(\n",
      "/nvmefs1/daranhe/.conda/envs/default/lib/python3.10/site-packages/determined/common/experimental/experiment.py:78: FutureWarning: 'ExperimentOrderBy' is deprecated and will be removed in a future release. Please use 'experimental.OrderBy' instead.\n",
      "  warnings.warn(\n",
      "/nvmefs1/daranhe/.conda/envs/default/lib/python3.10/site-packages/determined/common/experimental/experiment.py:78: FutureWarning: 'ExperimentOrderBy' is deprecated and will be removed in a future release. Please use 'experimental.OrderBy' instead.\n",
      "  warnings.warn(\n",
      "/nvmefs1/daranhe/.conda/envs/default/lib/python3.10/site-packages/determined/common/experimental/experiment.py:78: FutureWarning: 'ExperimentOrderBy' is deprecated and will be removed in a future release. Please use 'experimental.OrderBy' instead.\n",
      "  warnings.warn(\n",
      "/nvmefs1/daranhe/.conda/envs/default/lib/python3.10/site-packages/determined/common/experimental/experiment.py:78: FutureWarning: 'ExperimentOrderBy' is deprecated and will be removed in a future release. Please use 'experimental.OrderBy' instead.\n",
      "  warnings.warn(\n",
      "/nvmefs1/daranhe/.conda/envs/default/lib/python3.10/site-packages/determined/common/experimental/experiment.py:78: FutureWarning: 'ExperimentOrderBy' is deprecated and will be removed in a future release. Please use 'experimental.OrderBy' instead.\n",
      "  warnings.warn(\n",
      "/nvmefs1/daranhe/.conda/envs/default/lib/python3.10/site-packages/determined/common/experimental/experiment.py:78: FutureWarning: 'ExperimentOrderBy' is deprecated and will be removed in a future release. Please use 'experimental.OrderBy' instead.\n",
      "  warnings.warn(\n",
      "/nvmefs1/daranhe/.conda/envs/default/lib/python3.10/site-packages/determined/common/experimental/experiment.py:78: FutureWarning: 'ExperimentOrderBy' is deprecated and will be removed in a future release. Please use 'experimental.OrderBy' instead.\n",
      "  warnings.warn(\n",
      "/nvmefs1/daranhe/.conda/envs/default/lib/python3.10/site-packages/determined/common/experimental/experiment.py:78: FutureWarning: 'ExperimentOrderBy' is deprecated and will be removed in a future release. Please use 'experimental.OrderBy' instead.\n",
      "  warnings.warn(\n",
      "/nvmefs1/daranhe/.conda/envs/default/lib/python3.10/site-packages/determined/common/experimental/experiment.py:78: FutureWarning: 'ExperimentOrderBy' is deprecated and will be removed in a future release. Please use 'experimental.OrderBy' instead.\n",
      "  warnings.warn(\n",
      "/nvmefs1/daranhe/.conda/envs/default/lib/python3.10/site-packages/determined/common/experimental/experiment.py:78: FutureWarning: 'ExperimentOrderBy' is deprecated and will be removed in a future release. Please use 'experimental.OrderBy' instead.\n",
      "  warnings.warn(\n",
      "/nvmefs1/daranhe/.conda/envs/default/lib/python3.10/site-packages/determined/common/experimental/experiment.py:78: FutureWarning: 'ExperimentOrderBy' is deprecated and will be removed in a future release. Please use 'experimental.OrderBy' instead.\n",
      "  warnings.warn(\n",
      "/nvmefs1/daranhe/.conda/envs/default/lib/python3.10/site-packages/determined/common/experimental/model.py:186: FutureWarning: 'ModelOrderBy' is deprecated and will be removed in a future release. Please use 'experimental.OrderBy' instead.\n",
      "  warnings.warn(\n",
      "/nvmefs1/daranhe/.conda/envs/default/lib/python3.10/site-packages/determined/common/experimental/model.py:186: FutureWarning: 'ModelOrderBy' is deprecated and will be removed in a future release. Please use 'experimental.OrderBy' instead.\n",
      "  warnings.warn(\n",
      "/nvmefs1/daranhe/.conda/envs/default/lib/python3.10/site-packages/determined/common/experimental/trial.py:579: FutureWarning: 'TrialOrderBy' is deprecated and will be removed in a future release. Please use 'experimental.OrderBy' instead.\n",
      "  warnings.warn(\n",
      "/nvmefs1/daranhe/.conda/envs/default/lib/python3.10/site-packages/determined/common/experimental/model.py:186: FutureWarning: 'ModelOrderBy' is deprecated and will be removed in a future release. Please use 'experimental.OrderBy' instead.\n",
      "  warnings.warn(\n",
      "/nvmefs1/daranhe/.conda/envs/default/lib/python3.10/site-packages/determined/common/experimental/model.py:186: FutureWarning: 'ModelOrderBy' is deprecated and will be removed in a future release. Please use 'experimental.OrderBy' instead.\n",
      "  warnings.warn(\n",
      "/nvmefs1/daranhe/.conda/envs/default/lib/python3.10/site-packages/determined/common/experimental/model.py:186: FutureWarning: 'ModelOrderBy' is deprecated and will be removed in a future release. Please use 'experimental.OrderBy' instead.\n",
      "  warnings.warn(\n",
      "/nvmefs1/daranhe/.conda/envs/default/lib/python3.10/site-packages/determined/common/experimental/model.py:186: FutureWarning: 'ModelOrderBy' is deprecated and will be removed in a future release. Please use 'experimental.OrderBy' instead.\n",
      "  warnings.warn(\n",
      "/nvmefs1/daranhe/.conda/envs/default/lib/python3.10/site-packages/determined/common/experimental/model.py:186: FutureWarning: 'ModelOrderBy' is deprecated and will be removed in a future release. Please use 'experimental.OrderBy' instead.\n",
      "  warnings.warn(\n",
      "/nvmefs1/daranhe/.conda/envs/default/lib/python3.10/site-packages/determined/common/experimental/model.py:186: FutureWarning: 'ModelOrderBy' is deprecated and will be removed in a future release. Please use 'experimental.OrderBy' instead.\n",
      "  warnings.warn(\n",
      "/nvmefs1/daranhe/.conda/envs/default/lib/python3.10/site-packages/determined/common/experimental/model.py:186: FutureWarning: 'ModelOrderBy' is deprecated and will be removed in a future release. Please use 'experimental.OrderBy' instead.\n",
      "  warnings.warn(\n",
      "/nvmefs1/daranhe/.conda/envs/default/lib/python3.10/site-packages/determined/common/experimental/model.py:186: FutureWarning: 'ModelOrderBy' is deprecated and will be removed in a future release. Please use 'experimental.OrderBy' instead.\n",
      "  warnings.warn(\n",
      "/nvmefs1/daranhe/.conda/envs/default/lib/python3.10/site-packages/determined/common/experimental/model.py:186: FutureWarning: 'ModelOrderBy' is deprecated and will be removed in a future release. Please use 'experimental.OrderBy' instead.\n",
      "  warnings.warn(\n",
      "/nvmefs1/daranhe/.conda/envs/default/lib/python3.10/site-packages/determined/common/experimental/model.py:186: FutureWarning: 'ModelOrderBy' is deprecated and will be removed in a future release. Please use 'experimental.OrderBy' instead.\n",
      "  warnings.warn(\n",
      "/nvmefs1/daranhe/.conda/envs/default/lib/python3.10/site-packages/determined/common/experimental/model.py:186: FutureWarning: 'ModelOrderBy' is deprecated and will be removed in a future release. Please use 'experimental.OrderBy' instead.\n",
      "  warnings.warn(\n",
      "/nvmefs1/daranhe/.conda/envs/default/lib/python3.10/site-packages/determined/common/experimental/model.py:186: FutureWarning: 'ModelOrderBy' is deprecated and will be removed in a future release. Please use 'experimental.OrderBy' instead.\n",
      "  warnings.warn(\n",
      "/nvmefs1/daranhe/.conda/envs/default/lib/python3.10/site-packages/determined/common/experimental/model.py:186: FutureWarning: 'ModelOrderBy' is deprecated and will be removed in a future release. Please use 'experimental.OrderBy' instead.\n",
      "  warnings.warn(\n",
      "/nvmefs1/daranhe/.conda/envs/default/lib/python3.10/site-packages/determined/common/experimental/model.py:186: FutureWarning: 'ModelOrderBy' is deprecated and will be removed in a future release. Please use 'experimental.OrderBy' instead.\n",
      "  warnings.warn(\n",
      "/nvmefs1/daranhe/.conda/envs/default/lib/python3.10/site-packages/determined/common/experimental/model.py:186: FutureWarning: 'ModelOrderBy' is deprecated and will be removed in a future release. Please use 'experimental.OrderBy' instead.\n",
      "  warnings.warn(\n",
      "/nvmefs1/daranhe/.conda/envs/default/lib/python3.10/site-packages/determined/common/experimental/model.py:186: FutureWarning: 'ModelOrderBy' is deprecated and will be removed in a future release. Please use 'experimental.OrderBy' instead.\n",
      "  warnings.warn(\n",
      "/nvmefs1/daranhe/.conda/envs/default/lib/python3.10/site-packages/determined/common/experimental/model.py:186: FutureWarning: 'ModelOrderBy' is deprecated and will be removed in a future release. Please use 'experimental.OrderBy' instead.\n",
      "  warnings.warn(\n",
      "/nvmefs1/daranhe/.conda/envs/default/lib/python3.10/site-packages/determined/common/experimental/model.py:186: FutureWarning: 'ModelOrderBy' is deprecated and will be removed in a future release. Please use 'experimental.OrderBy' instead.\n",
      "  warnings.warn(\n",
      "/nvmefs1/daranhe/.conda/envs/default/lib/python3.10/site-packages/determined/common/experimental/model.py:186: FutureWarning: 'ModelOrderBy' is deprecated and will be removed in a future release. Please use 'experimental.OrderBy' instead.\n",
      "  warnings.warn(\n",
      "/nvmefs1/daranhe/llm-shearing/LLM-Shearing/further/experiments/launch.py:7: FutureWarning: The 'determined.common.experimental' module is deprecated and will be removed in future versions. Please import from 'determined.experimental' instead. Example: `from determined.experimental import Determined`\n",
      "  from determined.common.experimental import Determined, experiment\n",
      "/nvmefs1/daranhe/llm-shearing/LLM-Shearing/further/experiments/launch.py:7: FutureWarning: The 'determined.common.experimental' module is deprecated and will be removed in future versions. Please import from 'determined.experimental' instead. Example: `from determined.experimental import Determined`\n",
      "  from determined.common.experimental import Determined, experiment\n",
      "/nvmefs1/daranhe/llm-shearing/LLM-Shearing/further/experiments/launch.py:7: FutureWarning: The 'determined.common.experimental' module is deprecated and will be removed in future versions. Please import from 'determined.experimental' instead. Example: `from determined.experimental import Determined`\n",
      "  from determined.common.experimental import Determined, experiment\n",
      "/nvmefs1/daranhe/llm-shearing/LLM-Shearing/further/experiments/launch.py:7: FutureWarning: The 'determined.common.experimental' module is deprecated and will be removed in future versions. Please import from 'determined.experimental' instead. Example: `from determined.experimental import Determined`\n",
      "  from determined.common.experimental import Determined, experiment\n",
      "/nvmefs1/daranhe/llm-shearing/LLM-Shearing/further/experiments/launch.py:7: FutureWarning: The 'determined.common.experimental' module is deprecated and will be removed in future versions. Please import from 'determined.experimental' instead. Example: `from determined.experimental import Determined`\n",
      "  from determined.common.experimental import Determined, experiment\n",
      "/nvmefs1/daranhe/llm-shearing/LLM-Shearing/further/experiments/launch.py:7: FutureWarning: The 'determined.common.experimental' module is deprecated and will be removed in future versions. Please import from 'determined.experimental' instead. Example: `from determined.experimental import Determined`\n",
      "  from determined.common.experimental import Determined, experiment\n",
      "/nvmefs1/daranhe/llm-shearing/LLM-Shearing/further/experiments/launch.py:7: FutureWarning: The 'determined.common.experimental' module is deprecated and will be removed in future versions. Please import from 'determined.experimental' instead. Example: `from determined.experimental import Determined`\n",
      "  from determined.common.experimental import Determined, experiment\n",
      "/nvmefs1/daranhe/llm-shearing/LLM-Shearing/further/experiments/launch.py:7: FutureWarning: The 'determined.common.experimental' module is deprecated and will be removed in future versions. Please import from 'determined.experimental' instead. Example: `from determined.experimental import Determined`\n",
      "  from determined.common.experimental import Determined, experiment\n",
      "/nvmefs1/daranhe/llm-shearing/LLM-Shearing/further/experiments/launch.py:7: FutureWarning: The 'determined.common.experimental' module is deprecated and will be removed in future versions. Please import from 'determined.experimental' instead. Example: `from determined.experimental import Determined`\n",
      "  from determined.common.experimental import Determined, experiment\n",
      "/nvmefs1/daranhe/llm-shearing/LLM-Shearing/further/experiments/launch.py:7: FutureWarning: The 'determined.common.experimental' module is deprecated and will be removed in future versions. Please import from 'determined.experimental' instead. Example: `from determined.experimental import Determined`\n",
      "  from determined.common.experimental import Determined, experiment\n",
      "/nvmefs1/daranhe/llm-shearing/LLM-Shearing/further/experiments/launch.py:7: FutureWarning: The 'determined.common.experimental' module is deprecated and will be removed in future versions. Please import from 'determined.experimental' instead. Example: `from determined.experimental import Determined`\n",
      "  from determined.common.experimental import Determined, experiment\n",
      "/nvmefs1/daranhe/llm-shearing/LLM-Shearing/further/experiments/launch.py:7: FutureWarning: The 'determined.common.experimental' module is deprecated and will be removed in future versions. Please import from 'determined.experimental' instead. Example: `from determined.experimental import Determined`\n",
      "  from determined.common.experimental import Determined, experiment\n",
      "/nvmefs1/daranhe/llm-shearing/LLM-Shearing/further/experiments/launch.py:7: FutureWarning: The 'determined.common.experimental' module is deprecated and will be removed in future versions. Please import from 'determined.experimental' instead. Example: `from determined.experimental import Determined`\n",
      "  from determined.common.experimental import Determined, experiment\n",
      "/nvmefs1/daranhe/llm-shearing/LLM-Shearing/further/experiments/launch.py:7: FutureWarning: The 'determined.common.experimental' module is deprecated and will be removed in future versions. Please import from 'determined.experimental' instead. Example: `from determined.experimental import Determined`\n",
      "  from determined.common.experimental import Determined, experiment\n",
      "/nvmefs1/daranhe/llm-shearing/LLM-Shearing/further/experiments/launch.py:7: FutureWarning: The 'determined.common.experimental' module is deprecated and will be removed in future versions. Please import from 'determined.experimental' instead. Example: `from determined.experimental import Determined`\n",
      "  from determined.common.experimental import Determined, experiment\n",
      "/nvmefs1/daranhe/llm-shearing/LLM-Shearing/further/experiments/launch.py:7: FutureWarning: The 'determined.common.experimental' module is deprecated and will be removed in future versions. Please import from 'determined.experimental' instead. Example: `from determined.experimental import Determined`\n",
      "  from determined.common.experimental import Determined, experiment\n",
      "/nvmefs1/daranhe/llm-shearing/LLM-Shearing/further/experiments/launch.py:7: FutureWarning: The 'determined.common.experimental' module is deprecated and will be removed in future versions. Please import from 'determined.experimental' instead. Example: `from determined.experimental import Determined`\n",
      "  from determined.common.experimental import Determined, experiment\n",
      "/nvmefs1/daranhe/llm-shearing/LLM-Shearing/further/experiments/launch.py:7: FutureWarning: The 'determined.common.experimental' module is deprecated and will be removed in future versions. Please import from 'determined.experimental' instead. Example: `from determined.experimental import Determined`\n",
      "  from determined.common.experimental import Determined, experiment\n",
      "/nvmefs1/daranhe/llm-shearing/LLM-Shearing/further/experiments/launch.py:7: FutureWarning: The 'determined.common.experimental' module is deprecated and will be removed in future versions. Please import from 'determined.experimental' instead. Example: `from determined.experimental import Determined`\n",
      "  from determined.common.experimental import Determined, experiment\n",
      "/nvmefs1/daranhe/llm-shearing/LLM-Shearing/further/experiments/launch.py:7: FutureWarning: The 'determined.common.experimental' module is deprecated and will be removed in future versions. Please import from 'determined.experimental' instead. Example: `from determined.experimental import Determined`\n",
      "  from determined.common.experimental import Determined, experiment\n",
      "/nvmefs1/daranhe/.conda/envs/default/lib/python3.10/site-packages/determined/common/experimental/experiment.py:78: FutureWarning: 'ExperimentOrderBy' is deprecated and will be removed in a future release. Please use 'experimental.OrderBy' instead.\n",
      "  warnings.warn(\n",
      "/nvmefs1/daranhe/llm-shearing/LLM-Shearing/further/experiments/launch.py:7: FutureWarning: The 'determined.common.experimental' module is deprecated and will be removed in future versions. Please import from 'determined.experimental' instead. Example: `from determined.experimental import Determined`\n",
      "  from determined.common.experimental import Determined, experiment\n",
      "/nvmefs1/daranhe/.conda/envs/default/lib/python3.10/site-packages/determined/common/experimental/model.py:186: FutureWarning: 'ModelOrderBy' is deprecated and will be removed in a future release. Please use 'experimental.OrderBy' instead.\n",
      "  warnings.warn(\n",
      "/nvmefs1/daranhe/llm-shearing/LLM-Shearing/further/experiments/launch.py:7: FutureWarning: The 'determined.common.experimental' module is deprecated and will be removed in future versions. Please import from 'determined.experimental' instead. Example: `from determined.experimental import Determined`\n",
      "  from determined.common.experimental import Determined, experiment\n",
      "/nvmefs1/daranhe/.conda/envs/default/lib/python3.10/site-packages/determined/common/experimental/model.py:186: FutureWarning: 'ModelOrderBy' is deprecated and will be removed in a future release. Please use 'experimental.OrderBy' instead.\n",
      "  warnings.warn(\n",
      "/nvmefs1/daranhe/.conda/envs/default/lib/python3.10/site-packages/determined/common/experimental/model.py:186: FutureWarning: 'ModelOrderBy' is deprecated and will be removed in a future release. Please use 'experimental.OrderBy' instead.\n",
      "  warnings.warn(\n",
      "/nvmefs1/daranhe/.conda/envs/default/lib/python3.10/site-packages/determined/common/experimental/model.py:186: FutureWarning: 'ModelOrderBy' is deprecated and will be removed in a future release. Please use 'experimental.OrderBy' instead.\n",
      "  warnings.warn(\n",
      "/nvmefs1/daranhe/.conda/envs/default/lib/python3.10/site-packages/determined/common/experimental/model.py:186: FutureWarning: 'ModelOrderBy' is deprecated and will be removed in a future release. Please use 'experimental.OrderBy' instead.\n",
      "  warnings.warn(\n",
      "/nvmefs1/daranhe/.conda/envs/default/lib/python3.10/site-packages/determined/common/experimental/model.py:186: FutureWarning: 'ModelOrderBy' is deprecated and will be removed in a future release. Please use 'experimental.OrderBy' instead.\n",
      "  warnings.warn(\n",
      "/nvmefs1/daranhe/.conda/envs/default/lib/python3.10/site-packages/determined/common/experimental/model.py:186: FutureWarning: 'ModelOrderBy' is deprecated and will be removed in a future release. Please use 'experimental.OrderBy' instead.\n",
      "  warnings.warn(\n",
      "/nvmefs1/daranhe/.conda/envs/default/lib/python3.10/site-packages/determined/common/experimental/model.py:186: FutureWarning: 'ModelOrderBy' is deprecated and will be removed in a future release. Please use 'experimental.OrderBy' instead.\n",
      "  warnings.warn(\n",
      "/nvmefs1/daranhe/.conda/envs/default/lib/python3.10/site-packages/determined/common/experimental/model.py:186: FutureWarning: 'ModelOrderBy' is deprecated and will be removed in a future release. Please use 'experimental.OrderBy' instead.\n",
      "  warnings.warn(\n",
      "/nvmefs1/daranhe/.conda/envs/default/lib/python3.10/site-packages/determined/common/experimental/model.py:186: FutureWarning: 'ModelOrderBy' is deprecated and will be removed in a future release. Please use 'experimental.OrderBy' instead.\n",
      "  warnings.warn(\n",
      "/nvmefs1/daranhe/.conda/envs/default/lib/python3.10/site-packages/determined/common/experimental/model.py:186: FutureWarning: 'ModelOrderBy' is deprecated and will be removed in a future release. Please use 'experimental.OrderBy' instead.\n",
      "  warnings.warn(\n",
      "/nvmefs1/daranhe/llm-shearing/LLM-Shearing/further/experiments/launch.py:7: FutureWarning: The 'determined.common.experimental' module is deprecated and will be removed in future versions. Please import from 'determined.experimental' instead. Example: `from determined.experimental import Determined`\n",
      "  from determined.common.experimental import Determined, experiment\n",
      "/nvmefs1/daranhe/llm-shearing/LLM-Shearing/further/experiments/launch.py:7: FutureWarning: The 'determined.common.experimental' module is deprecated and will be removed in future versions. Please import from 'determined.experimental' instead. Example: `from determined.experimental import Determined`\n",
      "  from determined.common.experimental import Determined, experiment\n",
      "/nvmefs1/daranhe/llm-shearing/LLM-Shearing/further/experiments/launch.py:7: FutureWarning: The 'determined.common.experimental' module is deprecated and will be removed in future versions. Please import from 'determined.experimental' instead. Example: `from determined.experimental import Determined`\n",
      "  from determined.common.experimental import Determined, experiment\n",
      "/nvmefs1/daranhe/llm-shearing/LLM-Shearing/further/experiments/launch.py:7: FutureWarning: The 'determined.common.experimental' module is deprecated and will be removed in future versions. Please import from 'determined.experimental' instead. Example: `from determined.experimental import Determined`\n",
      "  from determined.common.experimental import Determined, experiment\n",
      "/nvmefs1/daranhe/llm-shearing/LLM-Shearing/further/experiments/launch.py:7: FutureWarning: The 'determined.common.experimental' module is deprecated and will be removed in future versions. Please import from 'determined.experimental' instead. Example: `from determined.experimental import Determined`\n",
      "  from determined.common.experimental import Determined, experiment\n",
      "/nvmefs1/daranhe/llm-shearing/LLM-Shearing/further/experiments/launch.py:7: FutureWarning: The 'determined.common.experimental' module is deprecated and will be removed in future versions. Please import from 'determined.experimental' instead. Example: `from determined.experimental import Determined`\n",
      "  from determined.common.experimental import Determined, experiment\n",
      "/nvmefs1/daranhe/llm-shearing/LLM-Shearing/further/experiments/launch.py:7: FutureWarning: The 'determined.common.experimental' module is deprecated and will be removed in future versions. Please import from 'determined.experimental' instead. Example: `from determined.experimental import Determined`\n",
      "  from determined.common.experimental import Determined, experiment\n",
      "/nvmefs1/daranhe/llm-shearing/LLM-Shearing/further/experiments/launch.py:7: FutureWarning: The 'determined.common.experimental' module is deprecated and will be removed in future versions. Please import from 'determined.experimental' instead. Example: `from determined.experimental import Determined`\n",
      "  from determined.common.experimental import Determined, experiment\n",
      "/nvmefs1/daranhe/llm-shearing/LLM-Shearing/further/experiments/launch.py:7: FutureWarning: The 'determined.common.experimental' module is deprecated and will be removed in future versions. Please import from 'determined.experimental' instead. Example: `from determined.experimental import Determined`\n",
      "  from determined.common.experimental import Determined, experiment\n",
      "/nvmefs1/daranhe/llm-shearing/LLM-Shearing/further/experiments/launch.py:7: FutureWarning: The 'determined.common.experimental' module is deprecated and will be removed in future versions. Please import from 'determined.experimental' instead. Example: `from determined.experimental import Determined`\n",
      "  from determined.common.experimental import Determined, experiment\n"
     ]
    },
    {
     "name": "stdout",
     "output_type": "stream",
     "text": [
      "                                                                                                                  Preparing files to send to master... 508.1KB and 86 files                                                                                                                  Preparing files to send to master... 507.4KB and 74 files                                                         \n",
      "Preparing files to send to master... 508.4KB and 90 files\n",
      "Preparing files to send to master... 508.4KB and 90 files\n",
      "                                                         \n",
      "Preparing files to send to master... 508.3KB and 89 files                                                         \n",
      "                                                         \n",
      "Preparing files to send to master... 508.4KB and 90 files                                                         \n",
      "                                                         \n",
      "Preparing files to send to master... 508.4KB and 90 filesPreparing files to send to master... 0.0B and 0 files                                                         \n",
      "Preparing files to send to master... 508.4KB and 90 files\n",
      "\n",
      "                                                                                                                  \n",
      "\n",
      "Preparing files to send to master... 508.4KB and 90 files\n",
      "\n",
      "Preparing files to send to master... 508.4KB and 90 files\n",
      "Preparing files to send to master... 508.3KB and 89 files\n",
      "Preparing files to send to master... 0.0B and 5 filesiles\n",
      "\n",
      "Preparing files to send to master... 0.0B and 6 filesiles\n",
      "Preparing files to send to master... 508.4KB and 90 files\n",
      "Preparing files to send to master... 508.4KB and 90 files\n",
      "Preparing files to send to master... 6.2KB and 13 fileses\n",
      "Preparing files to send to master... 128.2KB and 35 filesPreparing files to send to master... 115.7KB and 32 files                                                     \n",
      "Preparing files to send to master... 508.4KB and 90 files                                                         Preparing files to send to master... 507.4KB and 68 files\n",
      "Preparing files to send to master... 508.4KB and 90 files\n",
      "Preparing files to send to master... 508.4KB and 90 filesPreparing files to send to master... 508.3KB and 89 files\n",
      "Preparing files to send to master... 508.4KB and 90 files\n",
      "Preparing files to send to master... 508.4KB and 90 files                                                         \n",
      "Preparing files to send to master... 508.4KB and 90 files\n",
      "Preparing files to send to master... 508.4KB and 90 files\n",
      "Preparing files to send to master... 508.4KB and 90 files\n",
      "Experiment started at http://mlds-determined.us.rdlabs.hpecorp.net:8080/det/experiments/13547/logs\n",
      "Experiment started at http://mlds-determined.us.rdlabs.hpecorp.net:8080/det/experiments/13546/logs\n",
      "Experiment started at http://mlds-determined.us.rdlabs.hpecorp.net:8080/det/experiments/13551/logs\n",
      "Experiment started at http://mlds-determined.us.rdlabs.hpecorp.net:8080/det/experiments/13545/logs\n",
      "Experiment started at http://mlds-determined.us.rdlabs.hpecorp.net:8080/det/experiments/13548/logs\n",
      "Experiment started at http://mlds-determined.us.rdlabs.hpecorp.net:8080/det/experiments/13549/logs\n",
      "Experiment started at http://mlds-determined.us.rdlabs.hpecorp.net:8080/det/experiments/13550/logs\n",
      "Experiment started at http://mlds-determined.us.rdlabs.hpecorp.net:8080/det/experiments/13557/logs\n",
      "Experiment started at http://mlds-determined.us.rdlabs.hpecorp.net:8080/det/experiments/13554/logs\n",
      "Experiment started at http://mlds-determined.us.rdlabs.hpecorp.net:8080/det/experiments/13552/logs\n",
      "Experiment started at http://mlds-determined.us.rdlabs.hpecorp.net:8080/det/experiments/13555/logs\n",
      "Experiment started at http://mlds-determined.us.rdlabs.hpecorp.net:8080/det/experiments/13558/logs\n",
      "Experiment started at http://mlds-determined.us.rdlabs.hpecorp.net:8080/det/experiments/13556/logs\n",
      "Experiment started at http://mlds-determined.us.rdlabs.hpecorp.net:8080/det/experiments/13553/logs\n",
      "Experiment started at http://mlds-determined.us.rdlabs.hpecorp.net:8080/det/experiments/13560/logs\n",
      "Experiment started at http://mlds-determined.us.rdlabs.hpecorp.net:8080/det/experiments/13566/logs\n",
      "Experiment started at http://mlds-determined.us.rdlabs.hpecorp.net:8080/det/experiments/13561/logs\n",
      "Experiment started at http://mlds-determined.us.rdlabs.hpecorp.net:8080/det/experiments/13559/logs\n",
      "Experiment started at http://mlds-determined.us.rdlabs.hpecorp.net:8080/det/experiments/13567/logs\n",
      "Experiment started at http://mlds-determined.us.rdlabs.hpecorp.net:8080/det/experiments/13569/logs\n",
      "Experiment started at http://mlds-determined.us.rdlabs.hpecorp.net:8080/det/experiments/13568/logs\n",
      "Experiment started at http://mlds-determined.us.rdlabs.hpecorp.net:8080/det/experiments/13563/logs\n",
      "Experiment started at http://mlds-determined.us.rdlabs.hpecorp.net:8080/det/experiments/13562/logs\n",
      "Experiment started at http://mlds-determined.us.rdlabs.hpecorp.net:8080/det/experiments/13565/logs\n",
      "Experiment started at http://mlds-determined.us.rdlabs.hpecorp.net:8080/det/experiments/13564/logs\n",
      "Experiment started at http://mlds-determined.us.rdlabs.hpecorp.net:8080/det/experiments/13572/logs\n",
      "Experiment started at http://mlds-determined.us.rdlabs.hpecorp.net:8080/det/experiments/13575/logs\n",
      "Experiment started at http://mlds-determined.us.rdlabs.hpecorp.net:8080/det/experiments/13570/logs\n",
      "Experiment started at http://mlds-determined.us.rdlabs.hpecorp.net:8080/det/experiments/13571/logs\n",
      "Experiment started at http://mlds-determined.us.rdlabs.hpecorp.net:8080/det/experiments/13573/logs\n",
      "Experiment started at http://mlds-determined.us.rdlabs.hpecorp.net:8080/det/experiments/13574/logs\n",
      "Experiment started at http://mlds-determined.us.rdlabs.hpecorp.net:8080/det/experiments/13576/logs\n",
      "Experiment 13563 completed with state ExperimentState.COMPLETED\n",
      "Launching workflow: convert_composer_to_hf\n"
     ]
    },
    {
     "name": "stderr",
     "output_type": "stream",
     "text": [
      "/nvmefs1/daranhe/.conda/envs/default/lib/python3.10/site-packages/determined/common/experimental/checkpoint/_checkpoint.py:62: FutureWarning: 'CheckpointOrderBy' is deprecated and will be removed in a future release. Please use 'experimental.OrderBy' instead.\n",
      "  warnings.warn(\n",
      "/nvmefs1/daranhe/.conda/envs/default/lib/python3.10/site-packages/determined/common/experimental/trial.py:579: FutureWarning: 'TrialOrderBy' is deprecated and will be removed in a future release. Please use 'experimental.OrderBy' instead.\n",
      "  warnings.warn(\n",
      "/nvmefs1/daranhe/.conda/envs/default/lib/python3.10/site-packages/determined/common/experimental/experiment.py:78: FutureWarning: 'ExperimentOrderBy' is deprecated and will be removed in a future release. Please use 'experimental.OrderBy' instead.\n",
      "  warnings.warn(\n",
      "/nvmefs1/daranhe/.conda/envs/default/lib/python3.10/site-packages/determined/common/experimental/model.py:186: FutureWarning: 'ModelOrderBy' is deprecated and will be removed in a future release. Please use 'experimental.OrderBy' instead.\n",
      "  warnings.warn(\n",
      "/nvmefs1/daranhe/llm-shearing/LLM-Shearing/further/experiments/launch.py:7: FutureWarning: The 'determined.common.experimental' module is deprecated and will be removed in future versions. Please import from 'determined.experimental' instead. Example: `from determined.experimental import Determined`\n",
      "  from determined.common.experimental import Determined, experiment\n"
     ]
    },
    {
     "name": "stdout",
     "output_type": "stream",
     "text": [
      "Preparing files to send to master... 508.4KB and 90 files\n",
      "Experiment started at http://mlds-determined.us.rdlabs.hpecorp.net:8080/det/experiments/13577/logs\n",
      "Experiment 13547 completed with state ExperimentState.COMPLETED\n",
      "Experiment 13550 completed with state ExperimentState.COMPLETED\n",
      "Launching workflow: convert_composer_to_hf\n",
      "Experiment 13562 completed with state ExperimentState.COMPLETED\n",
      "Experiment 13554 completed with state ExperimentState.COMPLETED\n",
      "Experiment 13560 completed with state ExperimentState.COMPLETED\n",
      "Experiment 13557 completed with state ExperimentState.COMPLETED\n",
      "Experiment 13569 completed with state ExperimentState.COMPLETED\n",
      "Experiment 13567 completed with state ExperimentState.COMPLETED\n",
      "Experiment 13572 completed with state ExperimentState.COMPLETED\n",
      "Launching workflow: convert_composer_to_hf\n",
      "Launching workflow: convert_composer_to_hf\n",
      "Launching workflow: convert_composer_to_hf\n",
      "Launching workflow: convert_composer_to_hf\n",
      "Launching workflow: convert_composer_to_hf\n",
      "Launching workflow: convert_composer_to_hf\n",
      "Launching workflow: convert_composer_to_hf\n",
      "Launching workflow: convert_composer_to_hf\n",
      "Preparing files to send to master... 508.4KB and 90 files\n"
     ]
    },
    {
     "name": "stderr",
     "output_type": "stream",
     "text": [
      "/nvmefs1/daranhe/.conda/envs/default/lib/python3.10/site-packages/determined/common/experimental/checkpoint/_checkpoint.py:62: FutureWarning: 'CheckpointOrderBy' is deprecated and will be removed in a future release. Please use 'experimental.OrderBy' instead.\n",
      "  warnings.warn(\n",
      "/nvmefs1/daranhe/.conda/envs/default/lib/python3.10/site-packages/determined/common/experimental/trial.py:579: FutureWarning: 'TrialOrderBy' is deprecated and will be removed in a future release. Please use 'experimental.OrderBy' instead.\n",
      "  warnings.warn(\n",
      "/nvmefs1/daranhe/.conda/envs/default/lib/python3.10/site-packages/determined/common/experimental/experiment.py:78: FutureWarning: 'ExperimentOrderBy' is deprecated and will be removed in a future release. Please use 'experimental.OrderBy' instead.\n",
      "  warnings.warn(\n",
      "/nvmefs1/daranhe/.conda/envs/default/lib/python3.10/site-packages/determined/common/experimental/model.py:186: FutureWarning: 'ModelOrderBy' is deprecated and will be removed in a future release. Please use 'experimental.OrderBy' instead.\n",
      "  warnings.warn(\n",
      "/nvmefs1/daranhe/llm-shearing/LLM-Shearing/further/experiments/launch.py:7: FutureWarning: The 'determined.common.experimental' module is deprecated and will be removed in future versions. Please import from 'determined.experimental' instead. Example: `from determined.experimental import Determined`\n",
      "  from determined.common.experimental import Determined, experiment\n",
      "/nvmefs1/daranhe/.conda/envs/default/lib/python3.10/site-packages/determined/common/experimental/checkpoint/_checkpoint.py:62: FutureWarning: 'CheckpointOrderBy' is deprecated and will be removed in a future release. Please use 'experimental.OrderBy' instead.\n",
      "  warnings.warn(\n",
      "/nvmefs1/daranhe/.conda/envs/default/lib/python3.10/site-packages/determined/common/experimental/trial.py:579: FutureWarning: 'TrialOrderBy' is deprecated and will be removed in a future release. Please use 'experimental.OrderBy' instead.\n",
      "  warnings.warn(\n",
      "/nvmefs1/daranhe/.conda/envs/default/lib/python3.10/site-packages/determined/common/experimental/experiment.py:78: FutureWarning: 'ExperimentOrderBy' is deprecated and will be removed in a future release. Please use 'experimental.OrderBy' instead.\n",
      "  warnings.warn(\n",
      "/nvmefs1/daranhe/.conda/envs/default/lib/python3.10/site-packages/determined/common/experimental/model.py:186: FutureWarning: 'ModelOrderBy' is deprecated and will be removed in a future release. Please use 'experimental.OrderBy' instead.\n",
      "  warnings.warn(\n",
      "/nvmefs1/daranhe/llm-shearing/LLM-Shearing/further/experiments/launch.py:7: FutureWarning: The 'determined.common.experimental' module is deprecated and will be removed in future versions. Please import from 'determined.experimental' instead. Example: `from determined.experimental import Determined`\n",
      "  from determined.common.experimental import Determined, experiment\n",
      "/nvmefs1/daranhe/.conda/envs/default/lib/python3.10/site-packages/determined/common/experimental/checkpoint/_checkpoint.py:62: FutureWarning: 'CheckpointOrderBy' is deprecated and will be removed in a future release. Please use 'experimental.OrderBy' instead.\n",
      "  warnings.warn(\n",
      "/nvmefs1/daranhe/.conda/envs/default/lib/python3.10/site-packages/determined/common/experimental/trial.py:579: FutureWarning: 'TrialOrderBy' is deprecated and will be removed in a future release. Please use 'experimental.OrderBy' instead.\n",
      "  warnings.warn(\n",
      "/nvmefs1/daranhe/.conda/envs/default/lib/python3.10/site-packages/determined/common/experimental/experiment.py:78: FutureWarning: 'ExperimentOrderBy' is deprecated and will be removed in a future release. Please use 'experimental.OrderBy' instead.\n",
      "  warnings.warn(\n",
      "/nvmefs1/daranhe/.conda/envs/default/lib/python3.10/site-packages/determined/common/experimental/model.py:186: FutureWarning: 'ModelOrderBy' is deprecated and will be removed in a future release. Please use 'experimental.OrderBy' instead.\n",
      "  warnings.warn(\n",
      "/nvmefs1/daranhe/llm-shearing/LLM-Shearing/further/experiments/launch.py:7: FutureWarning: The 'determined.common.experimental' module is deprecated and will be removed in future versions. Please import from 'determined.experimental' instead. Example: `from determined.experimental import Determined`\n",
      "  from determined.common.experimental import Determined, experiment\n",
      "/nvmefs1/daranhe/.conda/envs/default/lib/python3.10/site-packages/determined/common/experimental/checkpoint/_checkpoint.py:62: FutureWarning: 'CheckpointOrderBy' is deprecated and will be removed in a future release. Please use 'experimental.OrderBy' instead.\n",
      "  warnings.warn(\n",
      "/nvmefs1/daranhe/.conda/envs/default/lib/python3.10/site-packages/determined/common/experimental/trial.py:579: FutureWarning: 'TrialOrderBy' is deprecated and will be removed in a future release. Please use 'experimental.OrderBy' instead.\n",
      "  warnings.warn(\n",
      "/nvmefs1/daranhe/.conda/envs/default/lib/python3.10/site-packages/determined/common/experimental/experiment.py:78: FutureWarning: 'ExperimentOrderBy' is deprecated and will be removed in a future release. Please use 'experimental.OrderBy' instead.\n",
      "  warnings.warn(\n",
      "/nvmefs1/daranhe/.conda/envs/default/lib/python3.10/site-packages/determined/common/experimental/model.py:186: FutureWarning: 'ModelOrderBy' is deprecated and will be removed in a future release. Please use 'experimental.OrderBy' instead.\n",
      "  warnings.warn(\n",
      "/nvmefs1/daranhe/llm-shearing/LLM-Shearing/further/experiments/launch.py:7: FutureWarning: The 'determined.common.experimental' module is deprecated and will be removed in future versions. Please import from 'determined.experimental' instead. Example: `from determined.experimental import Determined`\n",
      "  from determined.common.experimental import Determined, experiment\n",
      "/nvmefs1/daranhe/.conda/envs/default/lib/python3.10/site-packages/determined/common/experimental/checkpoint/_checkpoint.py:62: FutureWarning: 'CheckpointOrderBy' is deprecated and will be removed in a future release. Please use 'experimental.OrderBy' instead.\n",
      "  warnings.warn(\n",
      "/nvmefs1/daranhe/.conda/envs/default/lib/python3.10/site-packages/determined/common/experimental/trial.py:579: FutureWarning: 'TrialOrderBy' is deprecated and will be removed in a future release. Please use 'experimental.OrderBy' instead.\n",
      "  warnings.warn(\n",
      "/nvmefs1/daranhe/.conda/envs/default/lib/python3.10/site-packages/determined/common/experimental/experiment.py:78: FutureWarning: 'ExperimentOrderBy' is deprecated and will be removed in a future release. Please use 'experimental.OrderBy' instead.\n",
      "  warnings.warn(\n",
      "/nvmefs1/daranhe/.conda/envs/default/lib/python3.10/site-packages/determined/common/experimental/model.py:186: FutureWarning: 'ModelOrderBy' is deprecated and will be removed in a future release. Please use 'experimental.OrderBy' instead.\n",
      "  warnings.warn(\n",
      "/nvmefs1/daranhe/.conda/envs/default/lib/python3.10/site-packages/determined/common/experimental/checkpoint/_checkpoint.py:62: FutureWarning: 'CheckpointOrderBy' is deprecated and will be removed in a future release. Please use 'experimental.OrderBy' instead.\n",
      "  warnings.warn(\n",
      "/nvmefs1/daranhe/llm-shearing/LLM-Shearing/further/experiments/launch.py:7: FutureWarning: The 'determined.common.experimental' module is deprecated and will be removed in future versions. Please import from 'determined.experimental' instead. Example: `from determined.experimental import Determined`\n",
      "  from determined.common.experimental import Determined, experiment\n",
      "/nvmefs1/daranhe/.conda/envs/default/lib/python3.10/site-packages/determined/common/experimental/checkpoint/_checkpoint.py:62: FutureWarning: 'CheckpointOrderBy' is deprecated and will be removed in a future release. Please use 'experimental.OrderBy' instead.\n",
      "  warnings.warn(\n",
      "/nvmefs1/daranhe/.conda/envs/default/lib/python3.10/site-packages/determined/common/experimental/trial.py:579: FutureWarning: 'TrialOrderBy' is deprecated and will be removed in a future release. Please use 'experimental.OrderBy' instead.\n",
      "  warnings.warn(\n",
      "/nvmefs1/daranhe/.conda/envs/default/lib/python3.10/site-packages/determined/common/experimental/checkpoint/_checkpoint.py:62: FutureWarning: 'CheckpointOrderBy' is deprecated and will be removed in a future release. Please use 'experimental.OrderBy' instead.\n",
      "  warnings.warn(\n",
      "/nvmefs1/daranhe/.conda/envs/default/lib/python3.10/site-packages/determined/common/experimental/experiment.py:78: FutureWarning: 'ExperimentOrderBy' is deprecated and will be removed in a future release. Please use 'experimental.OrderBy' instead.\n",
      "  warnings.warn(\n",
      "/nvmefs1/daranhe/.conda/envs/default/lib/python3.10/site-packages/determined/common/experimental/model.py:186: FutureWarning: 'ModelOrderBy' is deprecated and will be removed in a future release. Please use 'experimental.OrderBy' instead.\n",
      "  warnings.warn(\n",
      "/nvmefs1/daranhe/.conda/envs/default/lib/python3.10/site-packages/determined/common/experimental/trial.py:579: FutureWarning: 'TrialOrderBy' is deprecated and will be removed in a future release. Please use 'experimental.OrderBy' instead.\n",
      "  warnings.warn(\n",
      "/nvmefs1/daranhe/.conda/envs/default/lib/python3.10/site-packages/determined/common/experimental/trial.py:579: FutureWarning: 'TrialOrderBy' is deprecated and will be removed in a future release. Please use 'experimental.OrderBy' instead.\n",
      "  warnings.warn(\n",
      "/nvmefs1/daranhe/llm-shearing/LLM-Shearing/further/experiments/launch.py:7: FutureWarning: The 'determined.common.experimental' module is deprecated and will be removed in future versions. Please import from 'determined.experimental' instead. Example: `from determined.experimental import Determined`\n",
      "  from determined.common.experimental import Determined, experiment\n",
      "/nvmefs1/daranhe/.conda/envs/default/lib/python3.10/site-packages/determined/common/experimental/experiment.py:78: FutureWarning: 'ExperimentOrderBy' is deprecated and will be removed in a future release. Please use 'experimental.OrderBy' instead.\n",
      "  warnings.warn(\n",
      "/nvmefs1/daranhe/.conda/envs/default/lib/python3.10/site-packages/determined/common/experimental/experiment.py:78: FutureWarning: 'ExperimentOrderBy' is deprecated and will be removed in a future release. Please use 'experimental.OrderBy' instead.\n",
      "  warnings.warn(\n",
      "/nvmefs1/daranhe/.conda/envs/default/lib/python3.10/site-packages/determined/common/experimental/model.py:186: FutureWarning: 'ModelOrderBy' is deprecated and will be removed in a future release. Please use 'experimental.OrderBy' instead.\n",
      "  warnings.warn(\n",
      "/nvmefs1/daranhe/.conda/envs/default/lib/python3.10/site-packages/determined/common/experimental/model.py:186: FutureWarning: 'ModelOrderBy' is deprecated and will be removed in a future release. Please use 'experimental.OrderBy' instead.\n",
      "  warnings.warn(\n",
      "/nvmefs1/daranhe/llm-shearing/LLM-Shearing/further/experiments/launch.py:7: FutureWarning: The 'determined.common.experimental' module is deprecated and will be removed in future versions. Please import from 'determined.experimental' instead. Example: `from determined.experimental import Determined`\n",
      "  from determined.common.experimental import Determined, experiment\n",
      "/nvmefs1/daranhe/llm-shearing/LLM-Shearing/further/experiments/launch.py:7: FutureWarning: The 'determined.common.experimental' module is deprecated and will be removed in future versions. Please import from 'determined.experimental' instead. Example: `from determined.experimental import Determined`\n",
      "  from determined.common.experimental import Determined, experiment\n",
      "/nvmefs1/daranhe/.conda/envs/default/lib/python3.10/site-packages/determined/common/experimental/checkpoint/_checkpoint.py:62: FutureWarning: 'CheckpointOrderBy' is deprecated and will be removed in a future release. Please use 'experimental.OrderBy' instead.\n",
      "  warnings.warn(\n",
      "/nvmefs1/daranhe/.conda/envs/default/lib/python3.10/site-packages/determined/common/experimental/trial.py:579: FutureWarning: 'TrialOrderBy' is deprecated and will be removed in a future release. Please use 'experimental.OrderBy' instead.\n",
      "  warnings.warn(\n",
      "/nvmefs1/daranhe/.conda/envs/default/lib/python3.10/site-packages/determined/common/experimental/experiment.py:78: FutureWarning: 'ExperimentOrderBy' is deprecated and will be removed in a future release. Please use 'experimental.OrderBy' instead.\n",
      "  warnings.warn(\n",
      "/nvmefs1/daranhe/.conda/envs/default/lib/python3.10/site-packages/determined/common/experimental/model.py:186: FutureWarning: 'ModelOrderBy' is deprecated and will be removed in a future release. Please use 'experimental.OrderBy' instead.\n",
      "  warnings.warn(\n",
      "/nvmefs1/daranhe/llm-shearing/LLM-Shearing/further/experiments/launch.py:7: FutureWarning: The 'determined.common.experimental' module is deprecated and will be removed in future versions. Please import from 'determined.experimental' instead. Example: `from determined.experimental import Determined`\n",
      "  from determined.common.experimental import Determined, experiment\n"
     ]
    },
    {
     "name": "stdout",
     "output_type": "stream",
     "text": [
      "Preparing files to send to master... 508.4KB and 90 files\n",
      "Preparing files to send to master... 508.4KB and 90 files\n",
      "Preparing files to send to master... 508.4KB and 90 files\n",
      "Preparing files to send to master... 508.4KB and 90 filesPreparing files to send to master... 346.3KB and 62 filesPreparing files to send to master... 7.7KB and 16 files\n",
      "Preparing files to send to master... 508.4KB and 90 filesPreparing files to send to master... 0.0B and 0 filesiles\n",
      "Preparing files to send to master... 3.2KB and 10 fileses\n",
      "Preparing files to send to master... 508.4KB and 90 files\n",
      "Preparing files to send to master... 508.4KB and 90 files\n",
      "Experiment started at http://mlds-determined.us.rdlabs.hpecorp.net:8080/det/experiments/13578/logs\n",
      "Experiment started at http://mlds-determined.us.rdlabs.hpecorp.net:8080/det/experiments/13580/logs\n",
      "Experiment started at http://mlds-determined.us.rdlabs.hpecorp.net:8080/det/experiments/13579/logs\n",
      "Experiment started at http://mlds-determined.us.rdlabs.hpecorp.net:8080/det/experiments/13581/logs\n",
      "Experiment started at http://mlds-determined.us.rdlabs.hpecorp.net:8080/det/experiments/13582/logs\n",
      "Experiment started at http://mlds-determined.us.rdlabs.hpecorp.net:8080/det/experiments/13583/logs\n",
      "Experiment started at http://mlds-determined.us.rdlabs.hpecorp.net:8080/det/experiments/13584/logs\n",
      "Experiment started at http://mlds-determined.us.rdlabs.hpecorp.net:8080/det/experiments/13585/logs\n",
      "Experiment started at http://mlds-determined.us.rdlabs.hpecorp.net:8080/det/experiments/13586/logs\n",
      "Experiment 13571 completed with state ExperimentState.COMPLETED\n",
      "Experiment 13548 completed with state ExperimentState.COMPLETED\n",
      "Experiment 13546 completed with state ExperimentState.COMPLETED\n",
      "Experiment 13559 completed with state ExperimentState.COMPLETED\n",
      "Experiment 13549 completed with state ExperimentState.COMPLETED\n",
      "Launching workflow: convert_composer_to_hf\n",
      "Launching workflow: convert_composer_to_hf\n",
      "Launching workflow: convert_composer_to_hf\n",
      "Launching workflow: convert_composer_to_hf\n",
      "Launching workflow: convert_composer_to_hf\n"
     ]
    },
    {
     "name": "stderr",
     "output_type": "stream",
     "text": [
      "/nvmefs1/daranhe/.conda/envs/default/lib/python3.10/site-packages/determined/common/experimental/checkpoint/_checkpoint.py:62: FutureWarning: 'CheckpointOrderBy' is deprecated and will be removed in a future release. Please use 'experimental.OrderBy' instead.\n",
      "  warnings.warn(\n",
      "/nvmefs1/daranhe/.conda/envs/default/lib/python3.10/site-packages/determined/common/experimental/trial.py:579: FutureWarning: 'TrialOrderBy' is deprecated and will be removed in a future release. Please use 'experimental.OrderBy' instead.\n",
      "  warnings.warn(\n",
      "/nvmefs1/daranhe/.conda/envs/default/lib/python3.10/site-packages/determined/common/experimental/experiment.py:78: FutureWarning: 'ExperimentOrderBy' is deprecated and will be removed in a future release. Please use 'experimental.OrderBy' instead.\n",
      "  warnings.warn(\n",
      "/nvmefs1/daranhe/.conda/envs/default/lib/python3.10/site-packages/determined/common/experimental/model.py:186: FutureWarning: 'ModelOrderBy' is deprecated and will be removed in a future release. Please use 'experimental.OrderBy' instead.\n",
      "  warnings.warn(\n",
      "/nvmefs1/daranhe/llm-shearing/LLM-Shearing/further/experiments/launch.py:7: FutureWarning: The 'determined.common.experimental' module is deprecated and will be removed in future versions. Please import from 'determined.experimental' instead. Example: `from determined.experimental import Determined`\n",
      "  from determined.common.experimental import Determined, experiment\n",
      "/nvmefs1/daranhe/.conda/envs/default/lib/python3.10/site-packages/determined/common/experimental/checkpoint/_checkpoint.py:62: FutureWarning: 'CheckpointOrderBy' is deprecated and will be removed in a future release. Please use 'experimental.OrderBy' instead.\n",
      "  warnings.warn(\n",
      "/nvmefs1/daranhe/.conda/envs/default/lib/python3.10/site-packages/determined/common/experimental/trial.py:579: FutureWarning: 'TrialOrderBy' is deprecated and will be removed in a future release. Please use 'experimental.OrderBy' instead.\n",
      "  warnings.warn(\n",
      "/nvmefs1/daranhe/.conda/envs/default/lib/python3.10/site-packages/determined/common/experimental/experiment.py:78: FutureWarning: 'ExperimentOrderBy' is deprecated and will be removed in a future release. Please use 'experimental.OrderBy' instead.\n",
      "  warnings.warn(\n",
      "/nvmefs1/daranhe/.conda/envs/default/lib/python3.10/site-packages/determined/common/experimental/model.py:186: FutureWarning: 'ModelOrderBy' is deprecated and will be removed in a future release. Please use 'experimental.OrderBy' instead.\n",
      "  warnings.warn(\n",
      "/nvmefs1/daranhe/llm-shearing/LLM-Shearing/further/experiments/launch.py:7: FutureWarning: The 'determined.common.experimental' module is deprecated and will be removed in future versions. Please import from 'determined.experimental' instead. Example: `from determined.experimental import Determined`\n",
      "  from determined.common.experimental import Determined, experiment\n",
      "/nvmefs1/daranhe/.conda/envs/default/lib/python3.10/site-packages/determined/common/experimental/checkpoint/_checkpoint.py:62: FutureWarning: 'CheckpointOrderBy' is deprecated and will be removed in a future release. Please use 'experimental.OrderBy' instead.\n",
      "  warnings.warn(\n",
      "/nvmefs1/daranhe/.conda/envs/default/lib/python3.10/site-packages/determined/common/experimental/trial.py:579: FutureWarning: 'TrialOrderBy' is deprecated and will be removed in a future release. Please use 'experimental.OrderBy' instead.\n",
      "  warnings.warn(\n",
      "/nvmefs1/daranhe/.conda/envs/default/lib/python3.10/site-packages/determined/common/experimental/experiment.py:78: FutureWarning: 'ExperimentOrderBy' is deprecated and will be removed in a future release. Please use 'experimental.OrderBy' instead.\n",
      "  warnings.warn(\n",
      "/nvmefs1/daranhe/.conda/envs/default/lib/python3.10/site-packages/determined/common/experimental/model.py:186: FutureWarning: 'ModelOrderBy' is deprecated and will be removed in a future release. Please use 'experimental.OrderBy' instead.\n",
      "  warnings.warn(\n",
      "/nvmefs1/daranhe/llm-shearing/LLM-Shearing/further/experiments/launch.py:7: FutureWarning: The 'determined.common.experimental' module is deprecated and will be removed in future versions. Please import from 'determined.experimental' instead. Example: `from determined.experimental import Determined`\n",
      "  from determined.common.experimental import Determined, experiment\n",
      "/nvmefs1/daranhe/.conda/envs/default/lib/python3.10/site-packages/determined/common/experimental/checkpoint/_checkpoint.py:62: FutureWarning: 'CheckpointOrderBy' is deprecated and will be removed in a future release. Please use 'experimental.OrderBy' instead.\n",
      "  warnings.warn(\n",
      "/nvmefs1/daranhe/.conda/envs/default/lib/python3.10/site-packages/determined/common/experimental/trial.py:579: FutureWarning: 'TrialOrderBy' is deprecated and will be removed in a future release. Please use 'experimental.OrderBy' instead.\n",
      "  warnings.warn(\n",
      "/nvmefs1/daranhe/.conda/envs/default/lib/python3.10/site-packages/determined/common/experimental/checkpoint/_checkpoint.py:62: FutureWarning: 'CheckpointOrderBy' is deprecated and will be removed in a future release. Please use 'experimental.OrderBy' instead.\n",
      "  warnings.warn(\n",
      "/nvmefs1/daranhe/.conda/envs/default/lib/python3.10/site-packages/determined/common/experimental/experiment.py:78: FutureWarning: 'ExperimentOrderBy' is deprecated and will be removed in a future release. Please use 'experimental.OrderBy' instead.\n",
      "  warnings.warn(\n",
      "/nvmefs1/daranhe/.conda/envs/default/lib/python3.10/site-packages/determined/common/experimental/model.py:186: FutureWarning: 'ModelOrderBy' is deprecated and will be removed in a future release. Please use 'experimental.OrderBy' instead.\n",
      "  warnings.warn(\n",
      "/nvmefs1/daranhe/.conda/envs/default/lib/python3.10/site-packages/determined/common/experimental/trial.py:579: FutureWarning: 'TrialOrderBy' is deprecated and will be removed in a future release. Please use 'experimental.OrderBy' instead.\n",
      "  warnings.warn(\n",
      "/nvmefs1/daranhe/llm-shearing/LLM-Shearing/further/experiments/launch.py:7: FutureWarning: The 'determined.common.experimental' module is deprecated and will be removed in future versions. Please import from 'determined.experimental' instead. Example: `from determined.experimental import Determined`\n",
      "  from determined.common.experimental import Determined, experiment\n",
      "/nvmefs1/daranhe/.conda/envs/default/lib/python3.10/site-packages/determined/common/experimental/experiment.py:78: FutureWarning: 'ExperimentOrderBy' is deprecated and will be removed in a future release. Please use 'experimental.OrderBy' instead.\n",
      "  warnings.warn(\n",
      "/nvmefs1/daranhe/.conda/envs/default/lib/python3.10/site-packages/determined/common/experimental/model.py:186: FutureWarning: 'ModelOrderBy' is deprecated and will be removed in a future release. Please use 'experimental.OrderBy' instead.\n",
      "  warnings.warn(\n",
      "/nvmefs1/daranhe/llm-shearing/LLM-Shearing/further/experiments/launch.py:7: FutureWarning: The 'determined.common.experimental' module is deprecated and will be removed in future versions. Please import from 'determined.experimental' instead. Example: `from determined.experimental import Determined`\n",
      "  from determined.common.experimental import Determined, experiment\n"
     ]
    },
    {
     "name": "stdout",
     "output_type": "stream",
     "text": [
      "Preparing files to send to master... 508.4KB and 90 files\n",
      "Preparing files to send to master... 508.4KB and 90 filesPreparing files to send to master... 0.0B and 1 filesles\n",
      "Preparing files to send to master... 508.4KB and 90 filesPreparing files to send to master... 508.1KB and 87 files\n",
      "Preparing files to send to master... 508.4KB and 90 filesPreparing files to send to master... 426.1KB and 65 files\n",
      "Preparing files to send to master... 508.4KB and 90 files\n",
      "Experiment started at http://mlds-determined.us.rdlabs.hpecorp.net:8080/det/experiments/13587/logs\n",
      "Experiment started at http://mlds-determined.us.rdlabs.hpecorp.net:8080/det/experiments/13590/logs\n",
      "Experiment started at http://mlds-determined.us.rdlabs.hpecorp.net:8080/det/experiments/13588/logs\n",
      "Experiment started at http://mlds-determined.us.rdlabs.hpecorp.net:8080/det/experiments/13591/logs\n",
      "Experiment started at http://mlds-determined.us.rdlabs.hpecorp.net:8080/det/experiments/13589/logs\n",
      "Experiment 13576 completed with state ExperimentState.COMPLETED\n",
      "Launching workflow: convert_composer_to_hf\n"
     ]
    },
    {
     "name": "stderr",
     "output_type": "stream",
     "text": [
      "/nvmefs1/daranhe/.conda/envs/default/lib/python3.10/site-packages/determined/common/experimental/checkpoint/_checkpoint.py:62: FutureWarning: 'CheckpointOrderBy' is deprecated and will be removed in a future release. Please use 'experimental.OrderBy' instead.\n",
      "  warnings.warn(\n",
      "/nvmefs1/daranhe/.conda/envs/default/lib/python3.10/site-packages/determined/common/experimental/trial.py:579: FutureWarning: 'TrialOrderBy' is deprecated and will be removed in a future release. Please use 'experimental.OrderBy' instead.\n",
      "  warnings.warn(\n",
      "/nvmefs1/daranhe/.conda/envs/default/lib/python3.10/site-packages/determined/common/experimental/experiment.py:78: FutureWarning: 'ExperimentOrderBy' is deprecated and will be removed in a future release. Please use 'experimental.OrderBy' instead.\n",
      "  warnings.warn(\n",
      "/nvmefs1/daranhe/.conda/envs/default/lib/python3.10/site-packages/determined/common/experimental/model.py:186: FutureWarning: 'ModelOrderBy' is deprecated and will be removed in a future release. Please use 'experimental.OrderBy' instead.\n",
      "  warnings.warn(\n",
      "/nvmefs1/daranhe/llm-shearing/LLM-Shearing/further/experiments/launch.py:7: FutureWarning: The 'determined.common.experimental' module is deprecated and will be removed in future versions. Please import from 'determined.experimental' instead. Example: `from determined.experimental import Determined`\n",
      "  from determined.common.experimental import Determined, experiment\n"
     ]
    },
    {
     "name": "stdout",
     "output_type": "stream",
     "text": [
      "Preparing files to send to master... 508.4KB and 90 files\n",
      "Experiment started at http://mlds-determined.us.rdlabs.hpecorp.net:8080/det/experiments/13592/logs\n"
     ]
    },
    {
     "name": "stderr",
     "output_type": "stream",
     "text": [
      "Waiting for Experiment 13553 to complete. Elapsed 1.0 minutes\n",
      "Waiting for Experiment 13575 to complete. Elapsed 1.0 minutes\n",
      "Waiting for Experiment 13564 to complete. Elapsed 1.0 minutes\n",
      "Waiting for Experiment 13556 to complete. Elapsed 1.0 minutes\n",
      "Waiting for Experiment 13545 to complete. Elapsed 1.0 minutes\n",
      "Waiting for Experiment 13551 to complete. Elapsed 1.0 minutes\n",
      "Waiting for Experiment 13568 to complete. Elapsed 1.0 minutes\n",
      "Waiting for Experiment 13558 to complete. Elapsed 1.0 minutes\n",
      "Waiting for Experiment 13573 to complete. Elapsed 1.0 minutes\n",
      "Waiting for Experiment 13574 to complete. Elapsed 1.0 minutes\n",
      "Waiting for Experiment 13566 to complete. Elapsed 1.0 minutes\n"
     ]
    },
    {
     "name": "stdout",
     "output_type": "stream",
     "text": [
      "Experiment 13553 completed with state ExperimentState.COMPLETED\n",
      "Launching workflow: convert_composer_to_hf\n"
     ]
    },
    {
     "name": "stderr",
     "output_type": "stream",
     "text": [
      "/nvmefs1/daranhe/.conda/envs/default/lib/python3.10/site-packages/determined/common/experimental/checkpoint/_checkpoint.py:62: FutureWarning: 'CheckpointOrderBy' is deprecated and will be removed in a future release. Please use 'experimental.OrderBy' instead.\n",
      "  warnings.warn(\n",
      "/nvmefs1/daranhe/.conda/envs/default/lib/python3.10/site-packages/determined/common/experimental/trial.py:579: FutureWarning: 'TrialOrderBy' is deprecated and will be removed in a future release. Please use 'experimental.OrderBy' instead.\n",
      "  warnings.warn(\n",
      "/nvmefs1/daranhe/.conda/envs/default/lib/python3.10/site-packages/determined/common/experimental/experiment.py:78: FutureWarning: 'ExperimentOrderBy' is deprecated and will be removed in a future release. Please use 'experimental.OrderBy' instead.\n",
      "  warnings.warn(\n",
      "/nvmefs1/daranhe/.conda/envs/default/lib/python3.10/site-packages/determined/common/experimental/model.py:186: FutureWarning: 'ModelOrderBy' is deprecated and will be removed in a future release. Please use 'experimental.OrderBy' instead.\n",
      "  warnings.warn(\n",
      "/nvmefs1/daranhe/llm-shearing/LLM-Shearing/further/experiments/launch.py:7: FutureWarning: The 'determined.common.experimental' module is deprecated and will be removed in future versions. Please import from 'determined.experimental' instead. Example: `from determined.experimental import Determined`\n",
      "  from determined.common.experimental import Determined, experiment\n"
     ]
    },
    {
     "name": "stdout",
     "output_type": "stream",
     "text": [
      "Preparing files to send to master... 508.4KB and 90 files\n"
     ]
    },
    {
     "name": "stderr",
     "output_type": "stream",
     "text": [
      "Waiting for Experiment 13555 to complete. Elapsed 1.0 minutes\n",
      "Waiting for Experiment 13565 to complete. Elapsed 1.0 minutes\n",
      "Waiting for Experiment 13561 to complete. Elapsed 1.0 minutes\n",
      "Waiting for Experiment 13570 to complete. Elapsed 1.0 minutes\n",
      "Waiting for Experiment 13552 to complete. Elapsed 1.0 minutes\n"
     ]
    },
    {
     "name": "stdout",
     "output_type": "stream",
     "text": [
      "Experiment started at http://mlds-determined.us.rdlabs.hpecorp.net:8080/det/experiments/13593/logs\n",
      "Experiment 13578 completed with state ExperimentState.COMPLETED\n",
      "Experiment 13577 completed with state ExperimentState.COMPLETED\n",
      "Experiment 13552 completed with state ExperimentState.COMPLETED\n",
      "Launching workflow: convert_composer_to_hf\n",
      "Launching workflow: convert_composer_to_hf\n",
      "Launching workflow: evaluate_model\n",
      "Experiment 13583 completed with state ExperimentState.COMPLETED\n",
      "Experiment 13586 completed with state ExperimentState.COMPLETED\n",
      "Launching workflow: evaluate_model\n",
      "Launching workflow: evaluate_model\n",
      "Preparing files to send to master... 508.4KB and 90 files\n",
      "Preparing files to send to master... 508.4KB and 90 filesreparing files to send to master... 507.4KB and 72 files\n",
      "Preparing files to send to master... 508.4KB and 90 files\n"
     ]
    },
    {
     "name": "stderr",
     "output_type": "stream",
     "text": [
      "/nvmefs1/daranhe/.conda/envs/default/lib/python3.10/site-packages/determined/common/experimental/checkpoint/_checkpoint.py:62: FutureWarning: 'CheckpointOrderBy' is deprecated and will be removed in a future release. Please use 'experimental.OrderBy' instead.\n",
      "  warnings.warn(\n",
      "/nvmefs1/daranhe/.conda/envs/default/lib/python3.10/site-packages/determined/common/experimental/trial.py:579: FutureWarning: 'TrialOrderBy' is deprecated and will be removed in a future release. Please use 'experimental.OrderBy' instead.\n",
      "  warnings.warn(\n",
      "/nvmefs1/daranhe/.conda/envs/default/lib/python3.10/site-packages/determined/common/experimental/experiment.py:78: FutureWarning: 'ExperimentOrderBy' is deprecated and will be removed in a future release. Please use 'experimental.OrderBy' instead.\n",
      "  warnings.warn(\n",
      "/nvmefs1/daranhe/.conda/envs/default/lib/python3.10/site-packages/determined/common/experimental/model.py:186: FutureWarning: 'ModelOrderBy' is deprecated and will be removed in a future release. Please use 'experimental.OrderBy' instead.\n",
      "  warnings.warn(\n",
      "/nvmefs1/daranhe/llm-shearing/LLM-Shearing/further/experiments/launch.py:7: FutureWarning: The 'determined.common.experimental' module is deprecated and will be removed in future versions. Please import from 'determined.experimental' instead. Example: `from determined.experimental import Determined`\n",
      "  from determined.common.experimental import Determined, experiment\n",
      "/nvmefs1/daranhe/.conda/envs/default/lib/python3.10/site-packages/determined/common/experimental/checkpoint/_checkpoint.py:62: FutureWarning: 'CheckpointOrderBy' is deprecated and will be removed in a future release. Please use 'experimental.OrderBy' instead.\n",
      "  warnings.warn(\n",
      "/nvmefs1/daranhe/.conda/envs/default/lib/python3.10/site-packages/determined/common/experimental/trial.py:579: FutureWarning: 'TrialOrderBy' is deprecated and will be removed in a future release. Please use 'experimental.OrderBy' instead.\n",
      "  warnings.warn(\n",
      "/nvmefs1/daranhe/.conda/envs/default/lib/python3.10/site-packages/determined/common/experimental/experiment.py:78: FutureWarning: 'ExperimentOrderBy' is deprecated and will be removed in a future release. Please use 'experimental.OrderBy' instead.\n",
      "  warnings.warn(\n",
      "/nvmefs1/daranhe/.conda/envs/default/lib/python3.10/site-packages/determined/common/experimental/model.py:186: FutureWarning: 'ModelOrderBy' is deprecated and will be removed in a future release. Please use 'experimental.OrderBy' instead.\n",
      "  warnings.warn(\n",
      "/nvmefs1/daranhe/llm-shearing/LLM-Shearing/further/experiments/launch.py:7: FutureWarning: The 'determined.common.experimental' module is deprecated and will be removed in future versions. Please import from 'determined.experimental' instead. Example: `from determined.experimental import Determined`\n",
      "  from determined.common.experimental import Determined, experiment\n",
      "/nvmefs1/daranhe/.conda/envs/default/lib/python3.10/site-packages/determined/common/experimental/checkpoint/_checkpoint.py:62: FutureWarning: 'CheckpointOrderBy' is deprecated and will be removed in a future release. Please use 'experimental.OrderBy' instead.\n",
      "  warnings.warn(\n",
      "/nvmefs1/daranhe/.conda/envs/default/lib/python3.10/site-packages/determined/common/experimental/trial.py:579: FutureWarning: 'TrialOrderBy' is deprecated and will be removed in a future release. Please use 'experimental.OrderBy' instead.\n",
      "  warnings.warn(\n",
      "/nvmefs1/daranhe/.conda/envs/default/lib/python3.10/site-packages/determined/common/experimental/experiment.py:78: FutureWarning: 'ExperimentOrderBy' is deprecated and will be removed in a future release. Please use 'experimental.OrderBy' instead.\n",
      "  warnings.warn(\n",
      "/nvmefs1/daranhe/.conda/envs/default/lib/python3.10/site-packages/determined/common/experimental/model.py:186: FutureWarning: 'ModelOrderBy' is deprecated and will be removed in a future release. Please use 'experimental.OrderBy' instead.\n",
      "  warnings.warn(\n",
      "/nvmefs1/daranhe/llm-shearing/LLM-Shearing/further/experiments/launch.py:7: FutureWarning: The 'determined.common.experimental' module is deprecated and will be removed in future versions. Please import from 'determined.experimental' instead. Example: `from determined.experimental import Determined`\n",
      "  from determined.common.experimental import Determined, experiment\n",
      "/nvmefs1/daranhe/.conda/envs/default/lib/python3.10/site-packages/determined/common/experimental/checkpoint/_checkpoint.py:62: FutureWarning: 'CheckpointOrderBy' is deprecated and will be removed in a future release. Please use 'experimental.OrderBy' instead.\n",
      "  warnings.warn(\n",
      "/nvmefs1/daranhe/.conda/envs/default/lib/python3.10/site-packages/determined/common/experimental/trial.py:579: FutureWarning: 'TrialOrderBy' is deprecated and will be removed in a future release. Please use 'experimental.OrderBy' instead.\n",
      "  warnings.warn(\n",
      "/nvmefs1/daranhe/.conda/envs/default/lib/python3.10/site-packages/determined/common/experimental/experiment.py:78: FutureWarning: 'ExperimentOrderBy' is deprecated and will be removed in a future release. Please use 'experimental.OrderBy' instead.\n",
      "  warnings.warn(\n",
      "/nvmefs1/daranhe/.conda/envs/default/lib/python3.10/site-packages/determined/common/experimental/model.py:186: FutureWarning: 'ModelOrderBy' is deprecated and will be removed in a future release. Please use 'experimental.OrderBy' instead.\n",
      "  warnings.warn(\n",
      "/nvmefs1/daranhe/llm-shearing/LLM-Shearing/further/experiments/launch.py:7: FutureWarning: The 'determined.common.experimental' module is deprecated and will be removed in future versions. Please import from 'determined.experimental' instead. Example: `from determined.experimental import Determined`\n",
      "  from determined.common.experimental import Determined, experiment\n",
      "/nvmefs1/daranhe/.conda/envs/default/lib/python3.10/site-packages/determined/common/experimental/checkpoint/_checkpoint.py:62: FutureWarning: 'CheckpointOrderBy' is deprecated and will be removed in a future release. Please use 'experimental.OrderBy' instead.\n",
      "  warnings.warn(\n",
      "/nvmefs1/daranhe/.conda/envs/default/lib/python3.10/site-packages/determined/common/experimental/trial.py:579: FutureWarning: 'TrialOrderBy' is deprecated and will be removed in a future release. Please use 'experimental.OrderBy' instead.\n",
      "  warnings.warn(\n",
      "/nvmefs1/daranhe/.conda/envs/default/lib/python3.10/site-packages/determined/common/experimental/experiment.py:78: FutureWarning: 'ExperimentOrderBy' is deprecated and will be removed in a future release. Please use 'experimental.OrderBy' instead.\n",
      "  warnings.warn(\n",
      "/nvmefs1/daranhe/.conda/envs/default/lib/python3.10/site-packages/determined/common/experimental/model.py:186: FutureWarning: 'ModelOrderBy' is deprecated and will be removed in a future release. Please use 'experimental.OrderBy' instead.\n",
      "  warnings.warn(\n",
      "/nvmefs1/daranhe/llm-shearing/LLM-Shearing/further/experiments/launch.py:7: FutureWarning: The 'determined.common.experimental' module is deprecated and will be removed in future versions. Please import from 'determined.experimental' instead. Example: `from determined.experimental import Determined`\n",
      "  from determined.common.experimental import Determined, experiment\n"
     ]
    },
    {
     "name": "stdout",
     "output_type": "stream",
     "text": [
      "Preparing files to send to master... 508.4KB and 90 files\n",
      "Preparing files to send to master... 508.4KB and 90 files\n",
      "Experiment started at http://mlds-determined.us.rdlabs.hpecorp.net:8080/det/experiments/13594/logs\n",
      "Experiment started at http://mlds-determined.us.rdlabs.hpecorp.net:8080/det/experiments/13596/logs\n",
      "Experiment started at http://mlds-determined.us.rdlabs.hpecorp.net:8080/det/experiments/13595/logs\n",
      "Experiment started at http://mlds-determined.us.rdlabs.hpecorp.net:8080/det/experiments/13597/logs\n",
      "Experiment started at http://mlds-determined.us.rdlabs.hpecorp.net:8080/det/experiments/13598/logs\n",
      "Experiment 13580 completed with state ExperimentState.COMPLETED\n",
      "Experiment 13581 completed with state ExperimentState.COMPLETED\n",
      "Launching workflow: evaluate_model\n",
      "Launching workflow: evaluate_model\n",
      "Experiment 13584 completed with state ExperimentState.COMPLETED\n",
      "Experiment 13588 completed with state ExperimentState.COMPLETED\n",
      "Experiment 13582 completed with state ExperimentState.COMPLETED\n",
      "Experiment 13585 completed with state ExperimentState.COMPLETED\n",
      "Launching workflow: evaluate_model\n",
      "Launching workflow: evaluate_model\n",
      "Launching workflow: convert_composer_to_hf\n",
      "Launching workflow: evaluate_model\n",
      "Preparing files to send to master... 508.4KB and 90 files\n",
      "Preparing files to send to master... 508.4KB and 90 files\n"
     ]
    },
    {
     "name": "stderr",
     "output_type": "stream",
     "text": [
      "/nvmefs1/daranhe/.conda/envs/default/lib/python3.10/site-packages/determined/common/experimental/checkpoint/_checkpoint.py:62: FutureWarning: 'CheckpointOrderBy' is deprecated and will be removed in a future release. Please use 'experimental.OrderBy' instead.\n",
      "  warnings.warn(\n",
      "/nvmefs1/daranhe/.conda/envs/default/lib/python3.10/site-packages/determined/common/experimental/trial.py:579: FutureWarning: 'TrialOrderBy' is deprecated and will be removed in a future release. Please use 'experimental.OrderBy' instead.\n",
      "  warnings.warn(\n",
      "/nvmefs1/daranhe/.conda/envs/default/lib/python3.10/site-packages/determined/common/experimental/experiment.py:78: FutureWarning: 'ExperimentOrderBy' is deprecated and will be removed in a future release. Please use 'experimental.OrderBy' instead.\n",
      "  warnings.warn(\n",
      "/nvmefs1/daranhe/.conda/envs/default/lib/python3.10/site-packages/determined/common/experimental/model.py:186: FutureWarning: 'ModelOrderBy' is deprecated and will be removed in a future release. Please use 'experimental.OrderBy' instead.\n",
      "  warnings.warn(\n",
      "/nvmefs1/daranhe/llm-shearing/LLM-Shearing/further/experiments/launch.py:7: FutureWarning: The 'determined.common.experimental' module is deprecated and will be removed in future versions. Please import from 'determined.experimental' instead. Example: `from determined.experimental import Determined`\n",
      "  from determined.common.experimental import Determined, experiment\n",
      "/nvmefs1/daranhe/.conda/envs/default/lib/python3.10/site-packages/determined/common/experimental/checkpoint/_checkpoint.py:62: FutureWarning: 'CheckpointOrderBy' is deprecated and will be removed in a future release. Please use 'experimental.OrderBy' instead.\n",
      "  warnings.warn(\n",
      "/nvmefs1/daranhe/.conda/envs/default/lib/python3.10/site-packages/determined/common/experimental/trial.py:579: FutureWarning: 'TrialOrderBy' is deprecated and will be removed in a future release. Please use 'experimental.OrderBy' instead.\n",
      "  warnings.warn(\n",
      "/nvmefs1/daranhe/.conda/envs/default/lib/python3.10/site-packages/determined/common/experimental/experiment.py:78: FutureWarning: 'ExperimentOrderBy' is deprecated and will be removed in a future release. Please use 'experimental.OrderBy' instead.\n",
      "  warnings.warn(\n",
      "/nvmefs1/daranhe/.conda/envs/default/lib/python3.10/site-packages/determined/common/experimental/model.py:186: FutureWarning: 'ModelOrderBy' is deprecated and will be removed in a future release. Please use 'experimental.OrderBy' instead.\n",
      "  warnings.warn(\n",
      "/nvmefs1/daranhe/llm-shearing/LLM-Shearing/further/experiments/launch.py:7: FutureWarning: The 'determined.common.experimental' module is deprecated and will be removed in future versions. Please import from 'determined.experimental' instead. Example: `from determined.experimental import Determined`\n",
      "  from determined.common.experimental import Determined, experiment\n",
      "/nvmefs1/daranhe/.conda/envs/default/lib/python3.10/site-packages/determined/common/experimental/checkpoint/_checkpoint.py:62: FutureWarning: 'CheckpointOrderBy' is deprecated and will be removed in a future release. Please use 'experimental.OrderBy' instead.\n",
      "  warnings.warn(\n",
      "/nvmefs1/daranhe/.conda/envs/default/lib/python3.10/site-packages/determined/common/experimental/trial.py:579: FutureWarning: 'TrialOrderBy' is deprecated and will be removed in a future release. Please use 'experimental.OrderBy' instead.\n",
      "  warnings.warn(\n",
      "/nvmefs1/daranhe/.conda/envs/default/lib/python3.10/site-packages/determined/common/experimental/experiment.py:78: FutureWarning: 'ExperimentOrderBy' is deprecated and will be removed in a future release. Please use 'experimental.OrderBy' instead.\n",
      "  warnings.warn(\n",
      "/nvmefs1/daranhe/.conda/envs/default/lib/python3.10/site-packages/determined/common/experimental/model.py:186: FutureWarning: 'ModelOrderBy' is deprecated and will be removed in a future release. Please use 'experimental.OrderBy' instead.\n",
      "  warnings.warn(\n",
      "/nvmefs1/daranhe/llm-shearing/LLM-Shearing/further/experiments/launch.py:7: FutureWarning: The 'determined.common.experimental' module is deprecated and will be removed in future versions. Please import from 'determined.experimental' instead. Example: `from determined.experimental import Determined`\n",
      "  from determined.common.experimental import Determined, experiment\n",
      "/nvmefs1/daranhe/.conda/envs/default/lib/python3.10/site-packages/determined/common/experimental/checkpoint/_checkpoint.py:62: FutureWarning: 'CheckpointOrderBy' is deprecated and will be removed in a future release. Please use 'experimental.OrderBy' instead.\n",
      "  warnings.warn(\n",
      "/nvmefs1/daranhe/.conda/envs/default/lib/python3.10/site-packages/determined/common/experimental/trial.py:579: FutureWarning: 'TrialOrderBy' is deprecated and will be removed in a future release. Please use 'experimental.OrderBy' instead.\n",
      "  warnings.warn(\n",
      "/nvmefs1/daranhe/.conda/envs/default/lib/python3.10/site-packages/determined/common/experimental/experiment.py:78: FutureWarning: 'ExperimentOrderBy' is deprecated and will be removed in a future release. Please use 'experimental.OrderBy' instead.\n",
      "  warnings.warn(\n",
      "/nvmefs1/daranhe/.conda/envs/default/lib/python3.10/site-packages/determined/common/experimental/model.py:186: FutureWarning: 'ModelOrderBy' is deprecated and will be removed in a future release. Please use 'experimental.OrderBy' instead.\n",
      "  warnings.warn(\n",
      "/nvmefs1/daranhe/llm-shearing/LLM-Shearing/further/experiments/launch.py:7: FutureWarning: The 'determined.common.experimental' module is deprecated and will be removed in future versions. Please import from 'determined.experimental' instead. Example: `from determined.experimental import Determined`\n",
      "  from determined.common.experimental import Determined, experiment\n",
      "/nvmefs1/daranhe/.conda/envs/default/lib/python3.10/site-packages/determined/common/experimental/checkpoint/_checkpoint.py:62: FutureWarning: 'CheckpointOrderBy' is deprecated and will be removed in a future release. Please use 'experimental.OrderBy' instead.\n",
      "  warnings.warn(\n",
      "/nvmefs1/daranhe/.conda/envs/default/lib/python3.10/site-packages/determined/common/experimental/trial.py:579: FutureWarning: 'TrialOrderBy' is deprecated and will be removed in a future release. Please use 'experimental.OrderBy' instead.\n",
      "  warnings.warn(\n"
     ]
    },
    {
     "name": "stdout",
     "output_type": "stream",
     "text": [
      "Preparing files to send to master... 508.4KB and 90 files\n",
      "Preparing files to send to master... 508.4KB and 90 files\n",
      "Preparing files to send to master... 508.4KB and 90 filesPreparing files to send to master... 508.1KB and 87 files\n",
      "Preparing files to send to master... 508.4KB and 90 files\n",
      "Experiment started at http://mlds-determined.us.rdlabs.hpecorp.net:8080/det/experiments/13599/logs\n"
     ]
    },
    {
     "name": "stderr",
     "output_type": "stream",
     "text": [
      "/nvmefs1/daranhe/.conda/envs/default/lib/python3.10/site-packages/determined/common/experimental/experiment.py:78: FutureWarning: 'ExperimentOrderBy' is deprecated and will be removed in a future release. Please use 'experimental.OrderBy' instead.\n",
      "  warnings.warn(\n",
      "/nvmefs1/daranhe/.conda/envs/default/lib/python3.10/site-packages/determined/common/experimental/model.py:186: FutureWarning: 'ModelOrderBy' is deprecated and will be removed in a future release. Please use 'experimental.OrderBy' instead.\n",
      "  warnings.warn(\n",
      "/nvmefs1/daranhe/llm-shearing/LLM-Shearing/further/experiments/launch.py:7: FutureWarning: The 'determined.common.experimental' module is deprecated and will be removed in future versions. Please import from 'determined.experimental' instead. Example: `from determined.experimental import Determined`\n",
      "  from determined.common.experimental import Determined, experiment\n",
      "/nvmefs1/daranhe/.conda/envs/default/lib/python3.10/site-packages/determined/common/experimental/checkpoint/_checkpoint.py:62: FutureWarning: 'CheckpointOrderBy' is deprecated and will be removed in a future release. Please use 'experimental.OrderBy' instead.\n",
      "  warnings.warn(\n",
      "/nvmefs1/daranhe/.conda/envs/default/lib/python3.10/site-packages/determined/common/experimental/trial.py:579: FutureWarning: 'TrialOrderBy' is deprecated and will be removed in a future release. Please use 'experimental.OrderBy' instead.\n",
      "  warnings.warn(\n",
      "/nvmefs1/daranhe/.conda/envs/default/lib/python3.10/site-packages/determined/common/experimental/experiment.py:78: FutureWarning: 'ExperimentOrderBy' is deprecated and will be removed in a future release. Please use 'experimental.OrderBy' instead.\n",
      "  warnings.warn(\n",
      "/nvmefs1/daranhe/.conda/envs/default/lib/python3.10/site-packages/determined/common/experimental/model.py:186: FutureWarning: 'ModelOrderBy' is deprecated and will be removed in a future release. Please use 'experimental.OrderBy' instead.\n",
      "  warnings.warn(\n",
      "/nvmefs1/daranhe/llm-shearing/LLM-Shearing/further/experiments/launch.py:7: FutureWarning: The 'determined.common.experimental' module is deprecated and will be removed in future versions. Please import from 'determined.experimental' instead. Example: `from determined.experimental import Determined`\n",
      "  from determined.common.experimental import Determined, experiment\n"
     ]
    },
    {
     "name": "stdout",
     "output_type": "stream",
     "text": [
      "Experiment started at http://mlds-determined.us.rdlabs.hpecorp.net:8080/det/experiments/13600/logs\n",
      "Experiment started at http://mlds-determined.us.rdlabs.hpecorp.net:8080/det/experiments/13601/logs\n",
      "Experiment started at http://mlds-determined.us.rdlabs.hpecorp.net:8080/det/experiments/13602/logs\n",
      "Experiment started at http://mlds-determined.us.rdlabs.hpecorp.net:8080/det/experiments/13603/logs\n",
      "Experiment started at http://mlds-determined.us.rdlabs.hpecorp.net:8080/det/experiments/13604/logs\n",
      "Experiment 13551 completed with state ExperimentState.COMPLETED\n",
      "Launching workflow: evaluate_model\n"
     ]
    },
    {
     "name": "stderr",
     "output_type": "stream",
     "text": [
      "/nvmefs1/daranhe/.conda/envs/default/lib/python3.10/site-packages/determined/common/experimental/checkpoint/_checkpoint.py:62: FutureWarning: 'CheckpointOrderBy' is deprecated and will be removed in a future release. Please use 'experimental.OrderBy' instead.\n",
      "  warnings.warn(\n",
      "/nvmefs1/daranhe/.conda/envs/default/lib/python3.10/site-packages/determined/common/experimental/trial.py:579: FutureWarning: 'TrialOrderBy' is deprecated and will be removed in a future release. Please use 'experimental.OrderBy' instead.\n",
      "  warnings.warn(\n",
      "/nvmefs1/daranhe/.conda/envs/default/lib/python3.10/site-packages/determined/common/experimental/experiment.py:78: FutureWarning: 'ExperimentOrderBy' is deprecated and will be removed in a future release. Please use 'experimental.OrderBy' instead.\n",
      "  warnings.warn(\n",
      "/nvmefs1/daranhe/.conda/envs/default/lib/python3.10/site-packages/determined/common/experimental/model.py:186: FutureWarning: 'ModelOrderBy' is deprecated and will be removed in a future release. Please use 'experimental.OrderBy' instead.\n",
      "  warnings.warn(\n",
      "/nvmefs1/daranhe/llm-shearing/LLM-Shearing/further/experiments/launch.py:7: FutureWarning: The 'determined.common.experimental' module is deprecated and will be removed in future versions. Please import from 'determined.experimental' instead. Example: `from determined.experimental import Determined`\n",
      "  from determined.common.experimental import Determined, experiment\n"
     ]
    },
    {
     "name": "stdout",
     "output_type": "stream",
     "text": [
      "Preparing files to send to master... 508.4KB and 90 files\n",
      "Experiment started at http://mlds-determined.us.rdlabs.hpecorp.net:8080/det/experiments/13605/logs\n",
      "Experiment 13579 completed with state ExperimentState.COMPLETED\n",
      "Experiment 13590 completed with state ExperimentState.COMPLETED\n",
      "Launching workflow: evaluate_model\n",
      "Launching workflow: evaluate_model\n"
     ]
    },
    {
     "name": "stderr",
     "output_type": "stream",
     "text": [
      "/nvmefs1/daranhe/.conda/envs/default/lib/python3.10/site-packages/determined/common/experimental/checkpoint/_checkpoint.py:62: FutureWarning: 'CheckpointOrderBy' is deprecated and will be removed in a future release. Please use 'experimental.OrderBy' instead.\n",
      "  warnings.warn(\n",
      "/nvmefs1/daranhe/.conda/envs/default/lib/python3.10/site-packages/determined/common/experimental/trial.py:579: FutureWarning: 'TrialOrderBy' is deprecated and will be removed in a future release. Please use 'experimental.OrderBy' instead.\n",
      "  warnings.warn(\n",
      "/nvmefs1/daranhe/.conda/envs/default/lib/python3.10/site-packages/determined/common/experimental/experiment.py:78: FutureWarning: 'ExperimentOrderBy' is deprecated and will be removed in a future release. Please use 'experimental.OrderBy' instead.\n",
      "  warnings.warn(\n",
      "/nvmefs1/daranhe/.conda/envs/default/lib/python3.10/site-packages/determined/common/experimental/model.py:186: FutureWarning: 'ModelOrderBy' is deprecated and will be removed in a future release. Please use 'experimental.OrderBy' instead.\n",
      "  warnings.warn(\n",
      "/nvmefs1/daranhe/llm-shearing/LLM-Shearing/further/experiments/launch.py:7: FutureWarning: The 'determined.common.experimental' module is deprecated and will be removed in future versions. Please import from 'determined.experimental' instead. Example: `from determined.experimental import Determined`\n",
      "  from determined.common.experimental import Determined, experiment\n",
      "/nvmefs1/daranhe/.conda/envs/default/lib/python3.10/site-packages/determined/common/experimental/checkpoint/_checkpoint.py:62: FutureWarning: 'CheckpointOrderBy' is deprecated and will be removed in a future release. Please use 'experimental.OrderBy' instead.\n",
      "  warnings.warn(\n",
      "/nvmefs1/daranhe/.conda/envs/default/lib/python3.10/site-packages/determined/common/experimental/trial.py:579: FutureWarning: 'TrialOrderBy' is deprecated and will be removed in a future release. Please use 'experimental.OrderBy' instead.\n",
      "  warnings.warn(\n",
      "/nvmefs1/daranhe/.conda/envs/default/lib/python3.10/site-packages/determined/common/experimental/experiment.py:78: FutureWarning: 'ExperimentOrderBy' is deprecated and will be removed in a future release. Please use 'experimental.OrderBy' instead.\n",
      "  warnings.warn(\n",
      "/nvmefs1/daranhe/.conda/envs/default/lib/python3.10/site-packages/determined/common/experimental/model.py:186: FutureWarning: 'ModelOrderBy' is deprecated and will be removed in a future release. Please use 'experimental.OrderBy' instead.\n",
      "  warnings.warn(\n",
      "/nvmefs1/daranhe/llm-shearing/LLM-Shearing/further/experiments/launch.py:7: FutureWarning: The 'determined.common.experimental' module is deprecated and will be removed in future versions. Please import from 'determined.experimental' instead. Example: `from determined.experimental import Determined`\n",
      "  from determined.common.experimental import Determined, experiment\n"
     ]
    },
    {
     "name": "stdout",
     "output_type": "stream",
     "text": [
      "Preparing files to send to master... 508.4KB and 90 files\n",
      "Preparing files to send to master... 508.4KB and 90 files\n",
      "Experiment started at http://mlds-determined.us.rdlabs.hpecorp.net:8080/det/experiments/13606/logs\n",
      "Experiment started at http://mlds-determined.us.rdlabs.hpecorp.net:8080/det/experiments/13607/logs\n",
      "Experiment 13599 completed with state ExperimentState.COMPLETED\n",
      "Experiment 13595 completed with state ExperimentState.COMPLETED\n",
      "Launching workflow: evaluate_model\n",
      "Launching workflow: evaluate_model\n"
     ]
    },
    {
     "name": "stderr",
     "output_type": "stream",
     "text": [
      "/nvmefs1/daranhe/.conda/envs/default/lib/python3.10/site-packages/determined/common/experimental/checkpoint/_checkpoint.py:62: FutureWarning: 'CheckpointOrderBy' is deprecated and will be removed in a future release. Please use 'experimental.OrderBy' instead.\n",
      "  warnings.warn(\n",
      "/nvmefs1/daranhe/.conda/envs/default/lib/python3.10/site-packages/determined/common/experimental/trial.py:579: FutureWarning: 'TrialOrderBy' is deprecated and will be removed in a future release. Please use 'experimental.OrderBy' instead.\n",
      "  warnings.warn(\n",
      "/nvmefs1/daranhe/.conda/envs/default/lib/python3.10/site-packages/determined/common/experimental/experiment.py:78: FutureWarning: 'ExperimentOrderBy' is deprecated and will be removed in a future release. Please use 'experimental.OrderBy' instead.\n",
      "  warnings.warn(\n",
      "/nvmefs1/daranhe/.conda/envs/default/lib/python3.10/site-packages/determined/common/experimental/model.py:186: FutureWarning: 'ModelOrderBy' is deprecated and will be removed in a future release. Please use 'experimental.OrderBy' instead.\n",
      "  warnings.warn(\n",
      "/nvmefs1/daranhe/llm-shearing/LLM-Shearing/further/experiments/launch.py:7: FutureWarning: The 'determined.common.experimental' module is deprecated and will be removed in future versions. Please import from 'determined.experimental' instead. Example: `from determined.experimental import Determined`\n",
      "  from determined.common.experimental import Determined, experiment\n",
      "/nvmefs1/daranhe/.conda/envs/default/lib/python3.10/site-packages/determined/common/experimental/checkpoint/_checkpoint.py:62: FutureWarning: 'CheckpointOrderBy' is deprecated and will be removed in a future release. Please use 'experimental.OrderBy' instead.\n",
      "  warnings.warn(\n",
      "/nvmefs1/daranhe/.conda/envs/default/lib/python3.10/site-packages/determined/common/experimental/trial.py:579: FutureWarning: 'TrialOrderBy' is deprecated and will be removed in a future release. Please use 'experimental.OrderBy' instead.\n",
      "  warnings.warn(\n",
      "/nvmefs1/daranhe/.conda/envs/default/lib/python3.10/site-packages/determined/common/experimental/experiment.py:78: FutureWarning: 'ExperimentOrderBy' is deprecated and will be removed in a future release. Please use 'experimental.OrderBy' instead.\n",
      "  warnings.warn(\n",
      "/nvmefs1/daranhe/.conda/envs/default/lib/python3.10/site-packages/determined/common/experimental/model.py:186: FutureWarning: 'ModelOrderBy' is deprecated and will be removed in a future release. Please use 'experimental.OrderBy' instead.\n",
      "  warnings.warn(\n",
      "/nvmefs1/daranhe/llm-shearing/LLM-Shearing/further/experiments/launch.py:7: FutureWarning: The 'determined.common.experimental' module is deprecated and will be removed in future versions. Please import from 'determined.experimental' instead. Example: `from determined.experimental import Determined`\n",
      "  from determined.common.experimental import Determined, experiment\n"
     ]
    },
    {
     "name": "stdout",
     "output_type": "stream",
     "text": [
      "Preparing files to send to master... 508.4KB and 90 files\n",
      "Preparing files to send to master... 508.4KB and 90 files\n",
      "Experiment started at http://mlds-determined.us.rdlabs.hpecorp.net:8080/det/experiments/13609/logs\n",
      "Experiment started at http://mlds-determined.us.rdlabs.hpecorp.net:8080/det/experiments/13608/logs\n",
      "Experiment 13592 completed with state ExperimentState.COMPLETED\n",
      "Launching workflow: convert_composer_to_hf\n"
     ]
    },
    {
     "name": "stderr",
     "output_type": "stream",
     "text": [
      "/nvmefs1/daranhe/.conda/envs/default/lib/python3.10/site-packages/determined/common/experimental/checkpoint/_checkpoint.py:62: FutureWarning: 'CheckpointOrderBy' is deprecated and will be removed in a future release. Please use 'experimental.OrderBy' instead.\n",
      "  warnings.warn(\n",
      "/nvmefs1/daranhe/.conda/envs/default/lib/python3.10/site-packages/determined/common/experimental/trial.py:579: FutureWarning: 'TrialOrderBy' is deprecated and will be removed in a future release. Please use 'experimental.OrderBy' instead.\n",
      "  warnings.warn(\n",
      "/nvmefs1/daranhe/.conda/envs/default/lib/python3.10/site-packages/determined/common/experimental/experiment.py:78: FutureWarning: 'ExperimentOrderBy' is deprecated and will be removed in a future release. Please use 'experimental.OrderBy' instead.\n",
      "  warnings.warn(\n",
      "/nvmefs1/daranhe/.conda/envs/default/lib/python3.10/site-packages/determined/common/experimental/model.py:186: FutureWarning: 'ModelOrderBy' is deprecated and will be removed in a future release. Please use 'experimental.OrderBy' instead.\n",
      "  warnings.warn(\n",
      "/nvmefs1/daranhe/llm-shearing/LLM-Shearing/further/experiments/launch.py:7: FutureWarning: The 'determined.common.experimental' module is deprecated and will be removed in future versions. Please import from 'determined.experimental' instead. Example: `from determined.experimental import Determined`\n",
      "  from determined.common.experimental import Determined, experiment\n"
     ]
    },
    {
     "name": "stdout",
     "output_type": "stream",
     "text": [
      "Preparing files to send to master... 508.4KB and 90 files\n",
      "Experiment started at http://mlds-determined.us.rdlabs.hpecorp.net:8080/det/experiments/13610/logs\n",
      "Experiment 13565 completed with state ExperimentState.COMPLETED\n",
      "Experiment 13593 completed with state ExperimentState.COMPLETED\n",
      "Launching workflow: convert_composer_to_hf\n",
      "Launching workflow: evaluate_model\n",
      "Experiment 13587 completed with state ExperimentState.COMPLETED\n",
      "Experiment 13591 completed with state ExperimentState.COMPLETED\n",
      "Launching workflow: evaluate_model\n",
      "Launching workflow: convert_composer_to_hf\n",
      "Preparing files to send to master... 508.4KB and 90 files\n",
      "Preparing files to send to master... 508.4KB and 90 files\n"
     ]
    },
    {
     "name": "stderr",
     "output_type": "stream",
     "text": [
      "/nvmefs1/daranhe/.conda/envs/default/lib/python3.10/site-packages/determined/common/experimental/checkpoint/_checkpoint.py:62: FutureWarning: 'CheckpointOrderBy' is deprecated and will be removed in a future release. Please use 'experimental.OrderBy' instead.\n",
      "  warnings.warn(\n",
      "/nvmefs1/daranhe/.conda/envs/default/lib/python3.10/site-packages/determined/common/experimental/trial.py:579: FutureWarning: 'TrialOrderBy' is deprecated and will be removed in a future release. Please use 'experimental.OrderBy' instead.\n",
      "  warnings.warn(\n",
      "/nvmefs1/daranhe/.conda/envs/default/lib/python3.10/site-packages/determined/common/experimental/experiment.py:78: FutureWarning: 'ExperimentOrderBy' is deprecated and will be removed in a future release. Please use 'experimental.OrderBy' instead.\n",
      "  warnings.warn(\n",
      "/nvmefs1/daranhe/.conda/envs/default/lib/python3.10/site-packages/determined/common/experimental/model.py:186: FutureWarning: 'ModelOrderBy' is deprecated and will be removed in a future release. Please use 'experimental.OrderBy' instead.\n",
      "  warnings.warn(\n",
      "/nvmefs1/daranhe/llm-shearing/LLM-Shearing/further/experiments/launch.py:7: FutureWarning: The 'determined.common.experimental' module is deprecated and will be removed in future versions. Please import from 'determined.experimental' instead. Example: `from determined.experimental import Determined`\n",
      "  from determined.common.experimental import Determined, experiment\n",
      "/nvmefs1/daranhe/.conda/envs/default/lib/python3.10/site-packages/determined/common/experimental/checkpoint/_checkpoint.py:62: FutureWarning: 'CheckpointOrderBy' is deprecated and will be removed in a future release. Please use 'experimental.OrderBy' instead.\n",
      "  warnings.warn(\n",
      "/nvmefs1/daranhe/.conda/envs/default/lib/python3.10/site-packages/determined/common/experimental/trial.py:579: FutureWarning: 'TrialOrderBy' is deprecated and will be removed in a future release. Please use 'experimental.OrderBy' instead.\n",
      "  warnings.warn(\n",
      "/nvmefs1/daranhe/.conda/envs/default/lib/python3.10/site-packages/determined/common/experimental/experiment.py:78: FutureWarning: 'ExperimentOrderBy' is deprecated and will be removed in a future release. Please use 'experimental.OrderBy' instead.\n",
      "  warnings.warn(\n",
      "/nvmefs1/daranhe/.conda/envs/default/lib/python3.10/site-packages/determined/common/experimental/model.py:186: FutureWarning: 'ModelOrderBy' is deprecated and will be removed in a future release. Please use 'experimental.OrderBy' instead.\n",
      "  warnings.warn(\n",
      "/nvmefs1/daranhe/llm-shearing/LLM-Shearing/further/experiments/launch.py:7: FutureWarning: The 'determined.common.experimental' module is deprecated and will be removed in future versions. Please import from 'determined.experimental' instead. Example: `from determined.experimental import Determined`\n",
      "  from determined.common.experimental import Determined, experiment\n",
      "/nvmefs1/daranhe/.conda/envs/default/lib/python3.10/site-packages/determined/common/experimental/checkpoint/_checkpoint.py:62: FutureWarning: 'CheckpointOrderBy' is deprecated and will be removed in a future release. Please use 'experimental.OrderBy' instead.\n",
      "  warnings.warn(\n",
      "/nvmefs1/daranhe/.conda/envs/default/lib/python3.10/site-packages/determined/common/experimental/trial.py:579: FutureWarning: 'TrialOrderBy' is deprecated and will be removed in a future release. Please use 'experimental.OrderBy' instead.\n",
      "  warnings.warn(\n",
      "/nvmefs1/daranhe/.conda/envs/default/lib/python3.10/site-packages/determined/common/experimental/experiment.py:78: FutureWarning: 'ExperimentOrderBy' is deprecated and will be removed in a future release. Please use 'experimental.OrderBy' instead.\n",
      "  warnings.warn(\n",
      "/nvmefs1/daranhe/.conda/envs/default/lib/python3.10/site-packages/determined/common/experimental/model.py:186: FutureWarning: 'ModelOrderBy' is deprecated and will be removed in a future release. Please use 'experimental.OrderBy' instead.\n",
      "  warnings.warn(\n",
      "/nvmefs1/daranhe/llm-shearing/LLM-Shearing/further/experiments/launch.py:7: FutureWarning: The 'determined.common.experimental' module is deprecated and will be removed in future versions. Please import from 'determined.experimental' instead. Example: `from determined.experimental import Determined`\n",
      "  from determined.common.experimental import Determined, experiment\n",
      "/nvmefs1/daranhe/.conda/envs/default/lib/python3.10/site-packages/determined/common/experimental/checkpoint/_checkpoint.py:62: FutureWarning: 'CheckpointOrderBy' is deprecated and will be removed in a future release. Please use 'experimental.OrderBy' instead.\n",
      "  warnings.warn(\n",
      "/nvmefs1/daranhe/.conda/envs/default/lib/python3.10/site-packages/determined/common/experimental/trial.py:579: FutureWarning: 'TrialOrderBy' is deprecated and will be removed in a future release. Please use 'experimental.OrderBy' instead.\n",
      "  warnings.warn(\n",
      "/nvmefs1/daranhe/.conda/envs/default/lib/python3.10/site-packages/determined/common/experimental/experiment.py:78: FutureWarning: 'ExperimentOrderBy' is deprecated and will be removed in a future release. Please use 'experimental.OrderBy' instead.\n",
      "  warnings.warn(\n",
      "/nvmefs1/daranhe/.conda/envs/default/lib/python3.10/site-packages/determined/common/experimental/model.py:186: FutureWarning: 'ModelOrderBy' is deprecated and will be removed in a future release. Please use 'experimental.OrderBy' instead.\n",
      "  warnings.warn(\n",
      "/nvmefs1/daranhe/llm-shearing/LLM-Shearing/further/experiments/launch.py:7: FutureWarning: The 'determined.common.experimental' module is deprecated and will be removed in future versions. Please import from 'determined.experimental' instead. Example: `from determined.experimental import Determined`\n",
      "  from determined.common.experimental import Determined, experiment\n"
     ]
    },
    {
     "name": "stdout",
     "output_type": "stream",
     "text": [
      "Experiment started at http://mlds-determined.us.rdlabs.hpecorp.net:8080/det/experiments/13611/logs\n",
      "Preparing files to send to master... 508.4KB and 90 files\n",
      "Preparing files to send to master... 508.4KB and 90 files\n",
      "Experiment started at http://mlds-determined.us.rdlabs.hpecorp.net:8080/det/experiments/13612/logs\n",
      "Experiment 13594 completed with state ExperimentState.COMPLETED\n",
      "Experiment started at http://mlds-determined.us.rdlabs.hpecorp.net:8080/det/experiments/13613/logs\n",
      "Experiment started at http://mlds-determined.us.rdlabs.hpecorp.net:8080/det/experiments/13614/logs\n",
      "Launching workflow: evaluate_model\n"
     ]
    },
    {
     "name": "stderr",
     "output_type": "stream",
     "text": [
      "/nvmefs1/daranhe/.conda/envs/default/lib/python3.10/site-packages/determined/common/experimental/checkpoint/_checkpoint.py:62: FutureWarning: 'CheckpointOrderBy' is deprecated and will be removed in a future release. Please use 'experimental.OrderBy' instead.\n",
      "  warnings.warn(\n",
      "/nvmefs1/daranhe/.conda/envs/default/lib/python3.10/site-packages/determined/common/experimental/trial.py:579: FutureWarning: 'TrialOrderBy' is deprecated and will be removed in a future release. Please use 'experimental.OrderBy' instead.\n",
      "  warnings.warn(\n",
      "/nvmefs1/daranhe/.conda/envs/default/lib/python3.10/site-packages/determined/common/experimental/experiment.py:78: FutureWarning: 'ExperimentOrderBy' is deprecated and will be removed in a future release. Please use 'experimental.OrderBy' instead.\n",
      "  warnings.warn(\n",
      "/nvmefs1/daranhe/.conda/envs/default/lib/python3.10/site-packages/determined/common/experimental/model.py:186: FutureWarning: 'ModelOrderBy' is deprecated and will be removed in a future release. Please use 'experimental.OrderBy' instead.\n",
      "  warnings.warn(\n",
      "/nvmefs1/daranhe/llm-shearing/LLM-Shearing/further/experiments/launch.py:7: FutureWarning: The 'determined.common.experimental' module is deprecated and will be removed in future versions. Please import from 'determined.experimental' instead. Example: `from determined.experimental import Determined`\n",
      "  from determined.common.experimental import Determined, experiment\n"
     ]
    },
    {
     "name": "stdout",
     "output_type": "stream",
     "text": [
      "Preparing files to send to master... 508.4KB and 90 files\n",
      "Experiment started at http://mlds-determined.us.rdlabs.hpecorp.net:8080/det/experiments/13615/logs\n",
      "Experiment 13556 completed with state ExperimentState.COMPLETED\n",
      "Launching workflow: evaluate_model\n"
     ]
    },
    {
     "name": "stderr",
     "output_type": "stream",
     "text": [
      "/nvmefs1/daranhe/.conda/envs/default/lib/python3.10/site-packages/determined/common/experimental/checkpoint/_checkpoint.py:62: FutureWarning: 'CheckpointOrderBy' is deprecated and will be removed in a future release. Please use 'experimental.OrderBy' instead.\n",
      "  warnings.warn(\n",
      "/nvmefs1/daranhe/.conda/envs/default/lib/python3.10/site-packages/determined/common/experimental/trial.py:579: FutureWarning: 'TrialOrderBy' is deprecated and will be removed in a future release. Please use 'experimental.OrderBy' instead.\n",
      "  warnings.warn(\n",
      "/nvmefs1/daranhe/.conda/envs/default/lib/python3.10/site-packages/determined/common/experimental/experiment.py:78: FutureWarning: 'ExperimentOrderBy' is deprecated and will be removed in a future release. Please use 'experimental.OrderBy' instead.\n",
      "  warnings.warn(\n",
      "/nvmefs1/daranhe/.conda/envs/default/lib/python3.10/site-packages/determined/common/experimental/model.py:186: FutureWarning: 'ModelOrderBy' is deprecated and will be removed in a future release. Please use 'experimental.OrderBy' instead.\n",
      "  warnings.warn(\n",
      "/nvmefs1/daranhe/llm-shearing/LLM-Shearing/further/experiments/launch.py:7: FutureWarning: The 'determined.common.experimental' module is deprecated and will be removed in future versions. Please import from 'determined.experimental' instead. Example: `from determined.experimental import Determined`\n",
      "  from determined.common.experimental import Determined, experiment\n"
     ]
    },
    {
     "name": "stdout",
     "output_type": "stream",
     "text": [
      "Preparing files to send to master... 508.4KB and 90 files\n",
      "Experiment started at http://mlds-determined.us.rdlabs.hpecorp.net:8080/det/experiments/13616/logs\n"
     ]
    },
    {
     "name": "stderr",
     "output_type": "stream",
     "text": [
      "Waiting for Experiment 13589 to complete. Elapsed 1.0 minutes\n"
     ]
    },
    {
     "name": "stdout",
     "output_type": "stream",
     "text": [
      "Experiment 13589 completed with state ExperimentState.COMPLETED\n",
      "Launching workflow: evaluate_model\n"
     ]
    },
    {
     "name": "stderr",
     "output_type": "stream",
     "text": [
      "/nvmefs1/daranhe/.conda/envs/default/lib/python3.10/site-packages/determined/common/experimental/checkpoint/_checkpoint.py:62: FutureWarning: 'CheckpointOrderBy' is deprecated and will be removed in a future release. Please use 'experimental.OrderBy' instead.\n",
      "  warnings.warn(\n",
      "/nvmefs1/daranhe/.conda/envs/default/lib/python3.10/site-packages/determined/common/experimental/trial.py:579: FutureWarning: 'TrialOrderBy' is deprecated and will be removed in a future release. Please use 'experimental.OrderBy' instead.\n",
      "  warnings.warn(\n",
      "/nvmefs1/daranhe/.conda/envs/default/lib/python3.10/site-packages/determined/common/experimental/experiment.py:78: FutureWarning: 'ExperimentOrderBy' is deprecated and will be removed in a future release. Please use 'experimental.OrderBy' instead.\n",
      "  warnings.warn(\n",
      "/nvmefs1/daranhe/.conda/envs/default/lib/python3.10/site-packages/determined/common/experimental/model.py:186: FutureWarning: 'ModelOrderBy' is deprecated and will be removed in a future release. Please use 'experimental.OrderBy' instead.\n",
      "  warnings.warn(\n",
      "/nvmefs1/daranhe/llm-shearing/LLM-Shearing/further/experiments/launch.py:7: FutureWarning: The 'determined.common.experimental' module is deprecated and will be removed in future versions. Please import from 'determined.experimental' instead. Example: `from determined.experimental import Determined`\n",
      "  from determined.common.experimental import Determined, experiment\n"
     ]
    },
    {
     "name": "stdout",
     "output_type": "stream",
     "text": [
      "Preparing files to send to master... 508.4KB and 90 files\n",
      "Experiment 13596 completed with state ExperimentState.COMPLETED\n",
      "Experiment started at http://mlds-determined.us.rdlabs.hpecorp.net:8080/det/experiments/13617/logs\n",
      "Launching workflow: evaluate_model\n"
     ]
    },
    {
     "name": "stderr",
     "output_type": "stream",
     "text": [
      "/nvmefs1/daranhe/.conda/envs/default/lib/python3.10/site-packages/determined/common/experimental/checkpoint/_checkpoint.py:62: FutureWarning: 'CheckpointOrderBy' is deprecated and will be removed in a future release. Please use 'experimental.OrderBy' instead.\n",
      "  warnings.warn(\n",
      "/nvmefs1/daranhe/.conda/envs/default/lib/python3.10/site-packages/determined/common/experimental/trial.py:579: FutureWarning: 'TrialOrderBy' is deprecated and will be removed in a future release. Please use 'experimental.OrderBy' instead.\n",
      "  warnings.warn(\n",
      "/nvmefs1/daranhe/.conda/envs/default/lib/python3.10/site-packages/determined/common/experimental/experiment.py:78: FutureWarning: 'ExperimentOrderBy' is deprecated and will be removed in a future release. Please use 'experimental.OrderBy' instead.\n",
      "  warnings.warn(\n",
      "/nvmefs1/daranhe/.conda/envs/default/lib/python3.10/site-packages/determined/common/experimental/model.py:186: FutureWarning: 'ModelOrderBy' is deprecated and will be removed in a future release. Please use 'experimental.OrderBy' instead.\n",
      "  warnings.warn(\n",
      "/nvmefs1/daranhe/llm-shearing/LLM-Shearing/further/experiments/launch.py:7: FutureWarning: The 'determined.common.experimental' module is deprecated and will be removed in future versions. Please import from 'determined.experimental' instead. Example: `from determined.experimental import Determined`\n",
      "  from determined.common.experimental import Determined, experiment\n"
     ]
    },
    {
     "name": "stdout",
     "output_type": "stream",
     "text": [
      "Preparing files to send to master... 508.4KB and 90 files\n",
      "Experiment started at http://mlds-determined.us.rdlabs.hpecorp.net:8080/det/experiments/13618/logs\n",
      "Experiment 13570 completed with state ExperimentState.COMPLETED\n",
      "Launching workflow: evaluate_model\n"
     ]
    },
    {
     "name": "stderr",
     "output_type": "stream",
     "text": [
      "/nvmefs1/daranhe/.conda/envs/default/lib/python3.10/site-packages/determined/common/experimental/checkpoint/_checkpoint.py:62: FutureWarning: 'CheckpointOrderBy' is deprecated and will be removed in a future release. Please use 'experimental.OrderBy' instead.\n",
      "  warnings.warn(\n",
      "/nvmefs1/daranhe/.conda/envs/default/lib/python3.10/site-packages/determined/common/experimental/trial.py:579: FutureWarning: 'TrialOrderBy' is deprecated and will be removed in a future release. Please use 'experimental.OrderBy' instead.\n",
      "  warnings.warn(\n",
      "/nvmefs1/daranhe/.conda/envs/default/lib/python3.10/site-packages/determined/common/experimental/experiment.py:78: FutureWarning: 'ExperimentOrderBy' is deprecated and will be removed in a future release. Please use 'experimental.OrderBy' instead.\n",
      "  warnings.warn(\n",
      "/nvmefs1/daranhe/.conda/envs/default/lib/python3.10/site-packages/determined/common/experimental/model.py:186: FutureWarning: 'ModelOrderBy' is deprecated and will be removed in a future release. Please use 'experimental.OrderBy' instead.\n",
      "  warnings.warn(\n",
      "/nvmefs1/daranhe/llm-shearing/LLM-Shearing/further/experiments/launch.py:7: FutureWarning: The 'determined.common.experimental' module is deprecated and will be removed in future versions. Please import from 'determined.experimental' instead. Example: `from determined.experimental import Determined`\n",
      "  from determined.common.experimental import Determined, experiment\n"
     ]
    },
    {
     "name": "stdout",
     "output_type": "stream",
     "text": [
      "Preparing files to send to master... 508.4KB and 90 files\n",
      "Experiment started at http://mlds-determined.us.rdlabs.hpecorp.net:8080/det/experiments/13619/logs\n",
      "Experiment 13598 completed with state ExperimentState.COMPLETED\n",
      "Experiment 13601 completed with state ExperimentState.COMPLETED\n",
      "Launching workflow: evaluate_model\n",
      "Launching workflow: evaluate_model\n"
     ]
    },
    {
     "name": "stderr",
     "output_type": "stream",
     "text": [
      "/nvmefs1/daranhe/.conda/envs/default/lib/python3.10/site-packages/determined/common/experimental/checkpoint/_checkpoint.py:62: FutureWarning: 'CheckpointOrderBy' is deprecated and will be removed in a future release. Please use 'experimental.OrderBy' instead.\n",
      "  warnings.warn(\n",
      "/nvmefs1/daranhe/.conda/envs/default/lib/python3.10/site-packages/determined/common/experimental/trial.py:579: FutureWarning: 'TrialOrderBy' is deprecated and will be removed in a future release. Please use 'experimental.OrderBy' instead.\n",
      "  warnings.warn(\n",
      "/nvmefs1/daranhe/.conda/envs/default/lib/python3.10/site-packages/determined/common/experimental/experiment.py:78: FutureWarning: 'ExperimentOrderBy' is deprecated and will be removed in a future release. Please use 'experimental.OrderBy' instead.\n",
      "  warnings.warn(\n",
      "/nvmefs1/daranhe/.conda/envs/default/lib/python3.10/site-packages/determined/common/experimental/model.py:186: FutureWarning: 'ModelOrderBy' is deprecated and will be removed in a future release. Please use 'experimental.OrderBy' instead.\n",
      "  warnings.warn(\n",
      "/nvmefs1/daranhe/llm-shearing/LLM-Shearing/further/experiments/launch.py:7: FutureWarning: The 'determined.common.experimental' module is deprecated and will be removed in future versions. Please import from 'determined.experimental' instead. Example: `from determined.experimental import Determined`\n",
      "  from determined.common.experimental import Determined, experiment\n",
      "/nvmefs1/daranhe/.conda/envs/default/lib/python3.10/site-packages/determined/common/experimental/checkpoint/_checkpoint.py:62: FutureWarning: 'CheckpointOrderBy' is deprecated and will be removed in a future release. Please use 'experimental.OrderBy' instead.\n",
      "  warnings.warn(\n",
      "/nvmefs1/daranhe/.conda/envs/default/lib/python3.10/site-packages/determined/common/experimental/trial.py:579: FutureWarning: 'TrialOrderBy' is deprecated and will be removed in a future release. Please use 'experimental.OrderBy' instead.\n",
      "  warnings.warn(\n",
      "/nvmefs1/daranhe/.conda/envs/default/lib/python3.10/site-packages/determined/common/experimental/experiment.py:78: FutureWarning: 'ExperimentOrderBy' is deprecated and will be removed in a future release. Please use 'experimental.OrderBy' instead.\n",
      "  warnings.warn(\n",
      "/nvmefs1/daranhe/.conda/envs/default/lib/python3.10/site-packages/determined/common/experimental/model.py:186: FutureWarning: 'ModelOrderBy' is deprecated and will be removed in a future release. Please use 'experimental.OrderBy' instead.\n",
      "  warnings.warn(\n",
      "/nvmefs1/daranhe/llm-shearing/LLM-Shearing/further/experiments/launch.py:7: FutureWarning: The 'determined.common.experimental' module is deprecated and will be removed in future versions. Please import from 'determined.experimental' instead. Example: `from determined.experimental import Determined`\n",
      "  from determined.common.experimental import Determined, experiment\n"
     ]
    },
    {
     "name": "stdout",
     "output_type": "stream",
     "text": [
      "Preparing files to send to master... 508.4KB and 90 files\n",
      "Preparing files to send to master... 508.4KB and 90 files\n",
      "Experiment started at http://mlds-determined.us.rdlabs.hpecorp.net:8080/det/experiments/13620/logs\n",
      "Experiment started at http://mlds-determined.us.rdlabs.hpecorp.net:8080/det/experiments/13621/logs\n",
      "Experiment 13564 completed with state ExperimentState.COMPLETED\n",
      "Launching workflow: evaluate_model\n"
     ]
    },
    {
     "name": "stderr",
     "output_type": "stream",
     "text": [
      "/nvmefs1/daranhe/.conda/envs/default/lib/python3.10/site-packages/determined/common/experimental/checkpoint/_checkpoint.py:62: FutureWarning: 'CheckpointOrderBy' is deprecated and will be removed in a future release. Please use 'experimental.OrderBy' instead.\n",
      "  warnings.warn(\n",
      "/nvmefs1/daranhe/.conda/envs/default/lib/python3.10/site-packages/determined/common/experimental/trial.py:579: FutureWarning: 'TrialOrderBy' is deprecated and will be removed in a future release. Please use 'experimental.OrderBy' instead.\n",
      "  warnings.warn(\n",
      "/nvmefs1/daranhe/.conda/envs/default/lib/python3.10/site-packages/determined/common/experimental/experiment.py:78: FutureWarning: 'ExperimentOrderBy' is deprecated and will be removed in a future release. Please use 'experimental.OrderBy' instead.\n",
      "  warnings.warn(\n",
      "/nvmefs1/daranhe/.conda/envs/default/lib/python3.10/site-packages/determined/common/experimental/model.py:186: FutureWarning: 'ModelOrderBy' is deprecated and will be removed in a future release. Please use 'experimental.OrderBy' instead.\n",
      "  warnings.warn(\n",
      "/nvmefs1/daranhe/llm-shearing/LLM-Shearing/further/experiments/launch.py:7: FutureWarning: The 'determined.common.experimental' module is deprecated and will be removed in future versions. Please import from 'determined.experimental' instead. Example: `from determined.experimental import Determined`\n",
      "  from determined.common.experimental import Determined, experiment\n"
     ]
    },
    {
     "name": "stdout",
     "output_type": "stream",
     "text": [
      "Preparing files to send to master... 508.4KB and 90 files\n",
      "Experiment started at http://mlds-determined.us.rdlabs.hpecorp.net:8080/det/experiments/13622/logs\n",
      "Experiment 13609 completed with state ExperimentState.COMPLETED\n",
      "Launching workflow: evaluate_model\n"
     ]
    },
    {
     "name": "stderr",
     "output_type": "stream",
     "text": [
      "/nvmefs1/daranhe/.conda/envs/default/lib/python3.10/site-packages/determined/common/experimental/checkpoint/_checkpoint.py:62: FutureWarning: 'CheckpointOrderBy' is deprecated and will be removed in a future release. Please use 'experimental.OrderBy' instead.\n",
      "  warnings.warn(\n",
      "/nvmefs1/daranhe/.conda/envs/default/lib/python3.10/site-packages/determined/common/experimental/trial.py:579: FutureWarning: 'TrialOrderBy' is deprecated and will be removed in a future release. Please use 'experimental.OrderBy' instead.\n",
      "  warnings.warn(\n",
      "/nvmefs1/daranhe/.conda/envs/default/lib/python3.10/site-packages/determined/common/experimental/experiment.py:78: FutureWarning: 'ExperimentOrderBy' is deprecated and will be removed in a future release. Please use 'experimental.OrderBy' instead.\n",
      "  warnings.warn(\n",
      "/nvmefs1/daranhe/.conda/envs/default/lib/python3.10/site-packages/determined/common/experimental/model.py:186: FutureWarning: 'ModelOrderBy' is deprecated and will be removed in a future release. Please use 'experimental.OrderBy' instead.\n",
      "  warnings.warn(\n",
      "/nvmefs1/daranhe/llm-shearing/LLM-Shearing/further/experiments/launch.py:7: FutureWarning: The 'determined.common.experimental' module is deprecated and will be removed in future versions. Please import from 'determined.experimental' instead. Example: `from determined.experimental import Determined`\n",
      "  from determined.common.experimental import Determined, experiment\n"
     ]
    },
    {
     "name": "stdout",
     "output_type": "stream",
     "text": [
      "Preparing files to send to master... 508.4KB and 90 files\n",
      "Experiment started at http://mlds-determined.us.rdlabs.hpecorp.net:8080/det/experiments/13623/logs\n",
      "Experiment 13613 completed with state ExperimentState.COMPLETED\n",
      "Launching workflow: evaluate_model\n",
      "Experiment 13604 completed with state ExperimentState.COMPLETED\n",
      "Launching workflow: evaluate_model.. 127.5KB and 34 files\n",
      "Preparing files to send to master... 508.4KB and 90 files\n"
     ]
    },
    {
     "name": "stderr",
     "output_type": "stream",
     "text": [
      "/nvmefs1/daranhe/.conda/envs/default/lib/python3.10/site-packages/determined/common/experimental/checkpoint/_checkpoint.py:62: FutureWarning: 'CheckpointOrderBy' is deprecated and will be removed in a future release. Please use 'experimental.OrderBy' instead.\n",
      "  warnings.warn(\n",
      "/nvmefs1/daranhe/.conda/envs/default/lib/python3.10/site-packages/determined/common/experimental/trial.py:579: FutureWarning: 'TrialOrderBy' is deprecated and will be removed in a future release. Please use 'experimental.OrderBy' instead.\n",
      "  warnings.warn(\n",
      "/nvmefs1/daranhe/.conda/envs/default/lib/python3.10/site-packages/determined/common/experimental/experiment.py:78: FutureWarning: 'ExperimentOrderBy' is deprecated and will be removed in a future release. Please use 'experimental.OrderBy' instead.\n",
      "  warnings.warn(\n",
      "/nvmefs1/daranhe/.conda/envs/default/lib/python3.10/site-packages/determined/common/experimental/model.py:186: FutureWarning: 'ModelOrderBy' is deprecated and will be removed in a future release. Please use 'experimental.OrderBy' instead.\n",
      "  warnings.warn(\n",
      "/nvmefs1/daranhe/llm-shearing/LLM-Shearing/further/experiments/launch.py:7: FutureWarning: The 'determined.common.experimental' module is deprecated and will be removed in future versions. Please import from 'determined.experimental' instead. Example: `from determined.experimental import Determined`\n",
      "  from determined.common.experimental import Determined, experiment\n"
     ]
    },
    {
     "name": "stdout",
     "output_type": "stream",
     "text": [
      "Experiment started at http://mlds-determined.us.rdlabs.hpecorp.net:8080/det/experiments/13624/logs\n",
      "Preparing files to send to master... 508.4KB and 90 files\n"
     ]
    },
    {
     "name": "stderr",
     "output_type": "stream",
     "text": [
      "/nvmefs1/daranhe/.conda/envs/default/lib/python3.10/site-packages/determined/common/experimental/checkpoint/_checkpoint.py:62: FutureWarning: 'CheckpointOrderBy' is deprecated and will be removed in a future release. Please use 'experimental.OrderBy' instead.\n",
      "  warnings.warn(\n",
      "/nvmefs1/daranhe/.conda/envs/default/lib/python3.10/site-packages/determined/common/experimental/trial.py:579: FutureWarning: 'TrialOrderBy' is deprecated and will be removed in a future release. Please use 'experimental.OrderBy' instead.\n",
      "  warnings.warn(\n",
      "/nvmefs1/daranhe/.conda/envs/default/lib/python3.10/site-packages/determined/common/experimental/experiment.py:78: FutureWarning: 'ExperimentOrderBy' is deprecated and will be removed in a future release. Please use 'experimental.OrderBy' instead.\n",
      "  warnings.warn(\n",
      "/nvmefs1/daranhe/.conda/envs/default/lib/python3.10/site-packages/determined/common/experimental/model.py:186: FutureWarning: 'ModelOrderBy' is deprecated and will be removed in a future release. Please use 'experimental.OrderBy' instead.\n",
      "  warnings.warn(\n",
      "/nvmefs1/daranhe/llm-shearing/LLM-Shearing/further/experiments/launch.py:7: FutureWarning: The 'determined.common.experimental' module is deprecated and will be removed in future versions. Please import from 'determined.experimental' instead. Example: `from determined.experimental import Determined`\n",
      "  from determined.common.experimental import Determined, experiment\n"
     ]
    },
    {
     "name": "stdout",
     "output_type": "stream",
     "text": [
      "Experiment started at http://mlds-determined.us.rdlabs.hpecorp.net:8080/det/experiments/13625/logs\n",
      "Experiment 13616 completed with state ExperimentState.COMPLETED\n",
      "Launching workflow: evaluate_model\n"
     ]
    },
    {
     "name": "stderr",
     "output_type": "stream",
     "text": [
      "/nvmefs1/daranhe/.conda/envs/default/lib/python3.10/site-packages/determined/common/experimental/checkpoint/_checkpoint.py:62: FutureWarning: 'CheckpointOrderBy' is deprecated and will be removed in a future release. Please use 'experimental.OrderBy' instead.\n",
      "  warnings.warn(\n",
      "/nvmefs1/daranhe/.conda/envs/default/lib/python3.10/site-packages/determined/common/experimental/trial.py:579: FutureWarning: 'TrialOrderBy' is deprecated and will be removed in a future release. Please use 'experimental.OrderBy' instead.\n",
      "  warnings.warn(\n",
      "/nvmefs1/daranhe/.conda/envs/default/lib/python3.10/site-packages/determined/common/experimental/experiment.py:78: FutureWarning: 'ExperimentOrderBy' is deprecated and will be removed in a future release. Please use 'experimental.OrderBy' instead.\n",
      "  warnings.warn(\n",
      "/nvmefs1/daranhe/.conda/envs/default/lib/python3.10/site-packages/determined/common/experimental/model.py:186: FutureWarning: 'ModelOrderBy' is deprecated and will be removed in a future release. Please use 'experimental.OrderBy' instead.\n",
      "  warnings.warn(\n",
      "/nvmefs1/daranhe/llm-shearing/LLM-Shearing/further/experiments/launch.py:7: FutureWarning: The 'determined.common.experimental' module is deprecated and will be removed in future versions. Please import from 'determined.experimental' instead. Example: `from determined.experimental import Determined`\n",
      "  from determined.common.experimental import Determined, experiment\n"
     ]
    },
    {
     "name": "stdout",
     "output_type": "stream",
     "text": [
      "Preparing files to send to master... 508.4KB and 90 files\n",
      "Experiment started at http://mlds-determined.us.rdlabs.hpecorp.net:8080/det/experiments/13626/logs\n",
      "Experiment 13610 completed with state ExperimentState.COMPLETED\n",
      "Launching workflow: evaluate_model\n"
     ]
    },
    {
     "name": "stderr",
     "output_type": "stream",
     "text": [
      "/nvmefs1/daranhe/.conda/envs/default/lib/python3.10/site-packages/determined/common/experimental/checkpoint/_checkpoint.py:62: FutureWarning: 'CheckpointOrderBy' is deprecated and will be removed in a future release. Please use 'experimental.OrderBy' instead.\n",
      "  warnings.warn(\n",
      "/nvmefs1/daranhe/.conda/envs/default/lib/python3.10/site-packages/determined/common/experimental/trial.py:579: FutureWarning: 'TrialOrderBy' is deprecated and will be removed in a future release. Please use 'experimental.OrderBy' instead.\n",
      "  warnings.warn(\n",
      "/nvmefs1/daranhe/.conda/envs/default/lib/python3.10/site-packages/determined/common/experimental/experiment.py:78: FutureWarning: 'ExperimentOrderBy' is deprecated and will be removed in a future release. Please use 'experimental.OrderBy' instead.\n",
      "  warnings.warn(\n",
      "/nvmefs1/daranhe/.conda/envs/default/lib/python3.10/site-packages/determined/common/experimental/model.py:186: FutureWarning: 'ModelOrderBy' is deprecated and will be removed in a future release. Please use 'experimental.OrderBy' instead.\n",
      "  warnings.warn(\n",
      "/nvmefs1/daranhe/llm-shearing/LLM-Shearing/further/experiments/launch.py:7: FutureWarning: The 'determined.common.experimental' module is deprecated and will be removed in future versions. Please import from 'determined.experimental' instead. Example: `from determined.experimental import Determined`\n",
      "  from determined.common.experimental import Determined, experiment\n"
     ]
    },
    {
     "name": "stdout",
     "output_type": "stream",
     "text": [
      "Experiment 13620 completed with state ExperimentState.COMPLETED\n",
      "Preparing files to send to master... 508.4KB and 90 files\n",
      "Launching workflow: evaluate_model\n",
      "Experiment started at http://mlds-determined.us.rdlabs.hpecorp.net:8080/det/experiments/13627/logs\n",
      "Preparing files to send to master... 508.4KB and 90 files\n"
     ]
    },
    {
     "name": "stderr",
     "output_type": "stream",
     "text": [
      "/nvmefs1/daranhe/.conda/envs/default/lib/python3.10/site-packages/determined/common/experimental/checkpoint/_checkpoint.py:62: FutureWarning: 'CheckpointOrderBy' is deprecated and will be removed in a future release. Please use 'experimental.OrderBy' instead.\n",
      "  warnings.warn(\n",
      "/nvmefs1/daranhe/.conda/envs/default/lib/python3.10/site-packages/determined/common/experimental/trial.py:579: FutureWarning: 'TrialOrderBy' is deprecated and will be removed in a future release. Please use 'experimental.OrderBy' instead.\n",
      "  warnings.warn(\n",
      "/nvmefs1/daranhe/.conda/envs/default/lib/python3.10/site-packages/determined/common/experimental/experiment.py:78: FutureWarning: 'ExperimentOrderBy' is deprecated and will be removed in a future release. Please use 'experimental.OrderBy' instead.\n",
      "  warnings.warn(\n",
      "/nvmefs1/daranhe/.conda/envs/default/lib/python3.10/site-packages/determined/common/experimental/model.py:186: FutureWarning: 'ModelOrderBy' is deprecated and will be removed in a future release. Please use 'experimental.OrderBy' instead.\n",
      "  warnings.warn(\n",
      "/nvmefs1/daranhe/llm-shearing/LLM-Shearing/further/experiments/launch.py:7: FutureWarning: The 'determined.common.experimental' module is deprecated and will be removed in future versions. Please import from 'determined.experimental' instead. Example: `from determined.experimental import Determined`\n",
      "  from determined.common.experimental import Determined, experiment\n"
     ]
    },
    {
     "name": "stdout",
     "output_type": "stream",
     "text": [
      "Experiment started at http://mlds-determined.us.rdlabs.hpecorp.net:8080/det/experiments/13628/logs\n"
     ]
    },
    {
     "name": "stderr",
     "output_type": "stream",
     "text": [
      "Waiting for Experiment 13575 to complete. Elapsed 2.0 minutes\n",
      "Waiting for Experiment 13545 to complete. Elapsed 2.0 minutes\n",
      "Waiting for Experiment 13568 to complete. Elapsed 2.0 minutes\n",
      "Waiting for Experiment 13573 to complete. Elapsed 2.0 minutes\n",
      "Waiting for Experiment 13558 to complete. Elapsed 2.0 minutes\n",
      "Waiting for Experiment 13566 to complete. Elapsed 2.0 minutes\n",
      "Waiting for Experiment 13574 to complete. Elapsed 2.0 minutes\n",
      "Waiting for Experiment 13561 to complete. Elapsed 2.0 minutes\n",
      "Waiting for Experiment 13555 to complete. Elapsed 2.0 minutes\n"
     ]
    },
    {
     "name": "stdout",
     "output_type": "stream",
     "text": [
      "Experiment 13561 completed with state ExperimentState.COMPLETED\n",
      "Experiment 13622 completed with state ExperimentState.COMPLETED\n",
      "Launching workflow: evaluate_model\n",
      "Launching workflow: evaluate_model\n"
     ]
    },
    {
     "name": "stderr",
     "output_type": "stream",
     "text": [
      "/nvmefs1/daranhe/.conda/envs/default/lib/python3.10/site-packages/determined/common/experimental/checkpoint/_checkpoint.py:62: FutureWarning: 'CheckpointOrderBy' is deprecated and will be removed in a future release. Please use 'experimental.OrderBy' instead.\n",
      "  warnings.warn(\n",
      "/nvmefs1/daranhe/.conda/envs/default/lib/python3.10/site-packages/determined/common/experimental/trial.py:579: FutureWarning: 'TrialOrderBy' is deprecated and will be removed in a future release. Please use 'experimental.OrderBy' instead.\n",
      "  warnings.warn(\n",
      "/nvmefs1/daranhe/.conda/envs/default/lib/python3.10/site-packages/determined/common/experimental/experiment.py:78: FutureWarning: 'ExperimentOrderBy' is deprecated and will be removed in a future release. Please use 'experimental.OrderBy' instead.\n",
      "  warnings.warn(\n",
      "/nvmefs1/daranhe/.conda/envs/default/lib/python3.10/site-packages/determined/common/experimental/model.py:186: FutureWarning: 'ModelOrderBy' is deprecated and will be removed in a future release. Please use 'experimental.OrderBy' instead.\n",
      "  warnings.warn(\n",
      "/nvmefs1/daranhe/llm-shearing/LLM-Shearing/further/experiments/launch.py:7: FutureWarning: The 'determined.common.experimental' module is deprecated and will be removed in future versions. Please import from 'determined.experimental' instead. Example: `from determined.experimental import Determined`\n",
      "  from determined.common.experimental import Determined, experiment\n",
      "/nvmefs1/daranhe/.conda/envs/default/lib/python3.10/site-packages/determined/common/experimental/checkpoint/_checkpoint.py:62: FutureWarning: 'CheckpointOrderBy' is deprecated and will be removed in a future release. Please use 'experimental.OrderBy' instead.\n",
      "  warnings.warn(\n",
      "/nvmefs1/daranhe/.conda/envs/default/lib/python3.10/site-packages/determined/common/experimental/trial.py:579: FutureWarning: 'TrialOrderBy' is deprecated and will be removed in a future release. Please use 'experimental.OrderBy' instead.\n",
      "  warnings.warn(\n",
      "/nvmefs1/daranhe/.conda/envs/default/lib/python3.10/site-packages/determined/common/experimental/experiment.py:78: FutureWarning: 'ExperimentOrderBy' is deprecated and will be removed in a future release. Please use 'experimental.OrderBy' instead.\n",
      "  warnings.warn(\n",
      "/nvmefs1/daranhe/.conda/envs/default/lib/python3.10/site-packages/determined/common/experimental/model.py:186: FutureWarning: 'ModelOrderBy' is deprecated and will be removed in a future release. Please use 'experimental.OrderBy' instead.\n",
      "  warnings.warn(\n",
      "/nvmefs1/daranhe/llm-shearing/LLM-Shearing/further/experiments/launch.py:7: FutureWarning: The 'determined.common.experimental' module is deprecated and will be removed in future versions. Please import from 'determined.experimental' instead. Example: `from determined.experimental import Determined`\n",
      "  from determined.common.experimental import Determined, experiment\n"
     ]
    },
    {
     "name": "stdout",
     "output_type": "stream",
     "text": [
      "Preparing files to send to master... 508.4KB and 90 files                                                      \n",
      "Preparing files to send to master... 508.4KB and 90 files\n",
      "Experiment started at http://mlds-determined.us.rdlabs.hpecorp.net:8080/det/experiments/13630/logs\n",
      "Experiment 13611 completed with state ExperimentState.COMPLETED\n",
      "Experiment started at http://mlds-determined.us.rdlabs.hpecorp.net:8080/det/experiments/13629/logs\n",
      "Launching workflow: evaluate_model\n",
      "Experiment 13614 completed with state ExperimentState.COMPLETED\n",
      "Launching workflow: evaluate_model.. 316.3KB and 44 files\n",
      "Preparing files to send to master... 508.4KB and 90 files\n"
     ]
    },
    {
     "name": "stderr",
     "output_type": "stream",
     "text": [
      "/nvmefs1/daranhe/.conda/envs/default/lib/python3.10/site-packages/determined/common/experimental/checkpoint/_checkpoint.py:62: FutureWarning: 'CheckpointOrderBy' is deprecated and will be removed in a future release. Please use 'experimental.OrderBy' instead.\n",
      "  warnings.warn(\n",
      "/nvmefs1/daranhe/.conda/envs/default/lib/python3.10/site-packages/determined/common/experimental/trial.py:579: FutureWarning: 'TrialOrderBy' is deprecated and will be removed in a future release. Please use 'experimental.OrderBy' instead.\n",
      "  warnings.warn(\n",
      "/nvmefs1/daranhe/.conda/envs/default/lib/python3.10/site-packages/determined/common/experimental/experiment.py:78: FutureWarning: 'ExperimentOrderBy' is deprecated and will be removed in a future release. Please use 'experimental.OrderBy' instead.\n",
      "  warnings.warn(\n",
      "/nvmefs1/daranhe/.conda/envs/default/lib/python3.10/site-packages/determined/common/experimental/model.py:186: FutureWarning: 'ModelOrderBy' is deprecated and will be removed in a future release. Please use 'experimental.OrderBy' instead.\n",
      "  warnings.warn(\n",
      "/nvmefs1/daranhe/llm-shearing/LLM-Shearing/further/experiments/launch.py:7: FutureWarning: The 'determined.common.experimental' module is deprecated and will be removed in future versions. Please import from 'determined.experimental' instead. Example: `from determined.experimental import Determined`\n",
      "  from determined.common.experimental import Determined, experiment\n",
      "Waiting for Experiment 13597 to complete. Elapsed 1.0 minutes\n",
      "/nvmefs1/daranhe/.conda/envs/default/lib/python3.10/site-packages/determined/common/experimental/checkpoint/_checkpoint.py:62: FutureWarning: 'CheckpointOrderBy' is deprecated and will be removed in a future release. Please use 'experimental.OrderBy' instead.\n",
      "  warnings.warn(\n",
      "/nvmefs1/daranhe/.conda/envs/default/lib/python3.10/site-packages/determined/common/experimental/trial.py:579: FutureWarning: 'TrialOrderBy' is deprecated and will be removed in a future release. Please use 'experimental.OrderBy' instead.\n",
      "  warnings.warn(\n",
      "/nvmefs1/daranhe/.conda/envs/default/lib/python3.10/site-packages/determined/common/experimental/experiment.py:78: FutureWarning: 'ExperimentOrderBy' is deprecated and will be removed in a future release. Please use 'experimental.OrderBy' instead.\n",
      "  warnings.warn(\n",
      "/nvmefs1/daranhe/.conda/envs/default/lib/python3.10/site-packages/determined/common/experimental/model.py:186: FutureWarning: 'ModelOrderBy' is deprecated and will be removed in a future release. Please use 'experimental.OrderBy' instead.\n",
      "  warnings.warn(\n",
      "/nvmefs1/daranhe/llm-shearing/LLM-Shearing/further/experiments/launch.py:7: FutureWarning: The 'determined.common.experimental' module is deprecated and will be removed in future versions. Please import from 'determined.experimental' instead. Example: `from determined.experimental import Determined`\n",
      "  from determined.common.experimental import Determined, experiment\n"
     ]
    },
    {
     "name": "stdout",
     "output_type": "stream",
     "text": [
      "Experiment started at http://mlds-determined.us.rdlabs.hpecorp.net:8080/det/experiments/13631/logs\n",
      "Preparing files to send to master... 508.4KB and 90 files\n",
      "Experiment started at http://mlds-determined.us.rdlabs.hpecorp.net:8080/det/experiments/13632/logs\n",
      "Experiment 13621 completed with state ExperimentState.COMPLETED\n",
      "Launching workflow: evaluate_model\n"
     ]
    },
    {
     "name": "stderr",
     "output_type": "stream",
     "text": [
      "/nvmefs1/daranhe/.conda/envs/default/lib/python3.10/site-packages/determined/common/experimental/checkpoint/_checkpoint.py:62: FutureWarning: 'CheckpointOrderBy' is deprecated and will be removed in a future release. Please use 'experimental.OrderBy' instead.\n",
      "  warnings.warn(\n",
      "/nvmefs1/daranhe/.conda/envs/default/lib/python3.10/site-packages/determined/common/experimental/trial.py:579: FutureWarning: 'TrialOrderBy' is deprecated and will be removed in a future release. Please use 'experimental.OrderBy' instead.\n",
      "  warnings.warn(\n",
      "/nvmefs1/daranhe/.conda/envs/default/lib/python3.10/site-packages/determined/common/experimental/experiment.py:78: FutureWarning: 'ExperimentOrderBy' is deprecated and will be removed in a future release. Please use 'experimental.OrderBy' instead.\n",
      "  warnings.warn(\n",
      "/nvmefs1/daranhe/.conda/envs/default/lib/python3.10/site-packages/determined/common/experimental/model.py:186: FutureWarning: 'ModelOrderBy' is deprecated and will be removed in a future release. Please use 'experimental.OrderBy' instead.\n",
      "  warnings.warn(\n",
      "/nvmefs1/daranhe/llm-shearing/LLM-Shearing/further/experiments/launch.py:7: FutureWarning: The 'determined.common.experimental' module is deprecated and will be removed in future versions. Please import from 'determined.experimental' instead. Example: `from determined.experimental import Determined`\n",
      "  from determined.common.experimental import Determined, experiment\n"
     ]
    },
    {
     "name": "stdout",
     "output_type": "stream",
     "text": [
      "Preparing files to send to master... 508.4KB and 90 files\n",
      "Experiment started at http://mlds-determined.us.rdlabs.hpecorp.net:8080/det/experiments/13633/logs\n"
     ]
    },
    {
     "name": "stderr",
     "output_type": "stream",
     "text": [
      "Waiting for Experiment 13600 to complete. Elapsed 1.0 minutes\n",
      "Waiting for Experiment 13603 to complete. Elapsed 1.0 minutes\n",
      "Waiting for Experiment 13602 to complete. Elapsed 1.0 minutes\n"
     ]
    },
    {
     "name": "stdout",
     "output_type": "stream",
     "text": [
      "Experiment 13624 completed with state ExperimentState.COMPLETED\n",
      "Launching workflow: evaluate_model\n"
     ]
    },
    {
     "name": "stderr",
     "output_type": "stream",
     "text": [
      "/nvmefs1/daranhe/.conda/envs/default/lib/python3.10/site-packages/determined/common/experimental/checkpoint/_checkpoint.py:62: FutureWarning: 'CheckpointOrderBy' is deprecated and will be removed in a future release. Please use 'experimental.OrderBy' instead.\n",
      "  warnings.warn(\n",
      "/nvmefs1/daranhe/.conda/envs/default/lib/python3.10/site-packages/determined/common/experimental/trial.py:579: FutureWarning: 'TrialOrderBy' is deprecated and will be removed in a future release. Please use 'experimental.OrderBy' instead.\n",
      "  warnings.warn(\n",
      "/nvmefs1/daranhe/.conda/envs/default/lib/python3.10/site-packages/determined/common/experimental/experiment.py:78: FutureWarning: 'ExperimentOrderBy' is deprecated and will be removed in a future release. Please use 'experimental.OrderBy' instead.\n",
      "  warnings.warn(\n",
      "/nvmefs1/daranhe/.conda/envs/default/lib/python3.10/site-packages/determined/common/experimental/model.py:186: FutureWarning: 'ModelOrderBy' is deprecated and will be removed in a future release. Please use 'experimental.OrderBy' instead.\n",
      "  warnings.warn(\n",
      "/nvmefs1/daranhe/llm-shearing/LLM-Shearing/further/experiments/launch.py:7: FutureWarning: The 'determined.common.experimental' module is deprecated and will be removed in future versions. Please import from 'determined.experimental' instead. Example: `from determined.experimental import Determined`\n",
      "  from determined.common.experimental import Determined, experiment\n"
     ]
    },
    {
     "name": "stdout",
     "output_type": "stream",
     "text": [
      "Preparing files to send to master... 508.4KB and 90 files\n",
      "Experiment started at http://mlds-determined.us.rdlabs.hpecorp.net:8080/det/experiments/13634/logs\n"
     ]
    },
    {
     "name": "stderr",
     "output_type": "stream",
     "text": [
      "Waiting for Experiment 13605 to complete. Elapsed 1.0 minutes\n",
      "Waiting for Experiment 13606 to complete. Elapsed 1.0 minutes\n",
      "Waiting for Experiment 13607 to complete. Elapsed 1.0 minutes\n"
     ]
    },
    {
     "name": "stdout",
     "output_type": "stream",
     "text": [
      "Experiment 13631 completed with state ExperimentState.COMPLETED\n",
      "Launching workflow: evaluate_model\n"
     ]
    },
    {
     "name": "stderr",
     "output_type": "stream",
     "text": [
      "/nvmefs1/daranhe/.conda/envs/default/lib/python3.10/site-packages/determined/common/experimental/checkpoint/_checkpoint.py:62: FutureWarning: 'CheckpointOrderBy' is deprecated and will be removed in a future release. Please use 'experimental.OrderBy' instead.\n",
      "  warnings.warn(\n",
      "/nvmefs1/daranhe/.conda/envs/default/lib/python3.10/site-packages/determined/common/experimental/trial.py:579: FutureWarning: 'TrialOrderBy' is deprecated and will be removed in a future release. Please use 'experimental.OrderBy' instead.\n",
      "  warnings.warn(\n",
      "/nvmefs1/daranhe/.conda/envs/default/lib/python3.10/site-packages/determined/common/experimental/experiment.py:78: FutureWarning: 'ExperimentOrderBy' is deprecated and will be removed in a future release. Please use 'experimental.OrderBy' instead.\n",
      "  warnings.warn(\n",
      "/nvmefs1/daranhe/.conda/envs/default/lib/python3.10/site-packages/determined/common/experimental/model.py:186: FutureWarning: 'ModelOrderBy' is deprecated and will be removed in a future release. Please use 'experimental.OrderBy' instead.\n",
      "  warnings.warn(\n",
      "/nvmefs1/daranhe/llm-shearing/LLM-Shearing/further/experiments/launch.py:7: FutureWarning: The 'determined.common.experimental' module is deprecated and will be removed in future versions. Please import from 'determined.experimental' instead. Example: `from determined.experimental import Determined`\n",
      "  from determined.common.experimental import Determined, experiment\n"
     ]
    },
    {
     "name": "stdout",
     "output_type": "stream",
     "text": [
      "Preparing files to send to master... 508.4KB and 90 files\n",
      "Experiment started at http://mlds-determined.us.rdlabs.hpecorp.net:8080/det/experiments/13635/logs\n",
      "Experiment 13626 completed with state ExperimentState.COMPLETED\n",
      "Launching workflow: evaluate_model\n"
     ]
    },
    {
     "name": "stderr",
     "output_type": "stream",
     "text": [
      "/nvmefs1/daranhe/.conda/envs/default/lib/python3.10/site-packages/determined/common/experimental/checkpoint/_checkpoint.py:62: FutureWarning: 'CheckpointOrderBy' is deprecated and will be removed in a future release. Please use 'experimental.OrderBy' instead.\n",
      "  warnings.warn(\n",
      "/nvmefs1/daranhe/.conda/envs/default/lib/python3.10/site-packages/determined/common/experimental/trial.py:579: FutureWarning: 'TrialOrderBy' is deprecated and will be removed in a future release. Please use 'experimental.OrderBy' instead.\n",
      "  warnings.warn(\n",
      "/nvmefs1/daranhe/.conda/envs/default/lib/python3.10/site-packages/determined/common/experimental/experiment.py:78: FutureWarning: 'ExperimentOrderBy' is deprecated and will be removed in a future release. Please use 'experimental.OrderBy' instead.\n",
      "  warnings.warn(\n",
      "/nvmefs1/daranhe/.conda/envs/default/lib/python3.10/site-packages/determined/common/experimental/model.py:186: FutureWarning: 'ModelOrderBy' is deprecated and will be removed in a future release. Please use 'experimental.OrderBy' instead.\n",
      "  warnings.warn(\n",
      "/nvmefs1/daranhe/llm-shearing/LLM-Shearing/further/experiments/launch.py:7: FutureWarning: The 'determined.common.experimental' module is deprecated and will be removed in future versions. Please import from 'determined.experimental' instead. Example: `from determined.experimental import Determined`\n",
      "  from determined.common.experimental import Determined, experiment\n"
     ]
    },
    {
     "name": "stdout",
     "output_type": "stream",
     "text": [
      "Preparing files to send to master... 508.4KB and 90 files\n",
      "Experiment started at http://mlds-determined.us.rdlabs.hpecorp.net:8080/det/experiments/13636/logs\n",
      "Experiment 13632 completed with state ExperimentState.COMPLETED\n",
      "Launching workflow: convert_composer_to_hf\n"
     ]
    },
    {
     "name": "stderr",
     "output_type": "stream",
     "text": [
      "/nvmefs1/daranhe/.conda/envs/default/lib/python3.10/site-packages/determined/common/experimental/checkpoint/_checkpoint.py:62: FutureWarning: 'CheckpointOrderBy' is deprecated and will be removed in a future release. Please use 'experimental.OrderBy' instead.\n",
      "  warnings.warn(\n",
      "/nvmefs1/daranhe/.conda/envs/default/lib/python3.10/site-packages/determined/common/experimental/trial.py:579: FutureWarning: 'TrialOrderBy' is deprecated and will be removed in a future release. Please use 'experimental.OrderBy' instead.\n",
      "  warnings.warn(\n",
      "/nvmefs1/daranhe/.conda/envs/default/lib/python3.10/site-packages/determined/common/experimental/experiment.py:78: FutureWarning: 'ExperimentOrderBy' is deprecated and will be removed in a future release. Please use 'experimental.OrderBy' instead.\n",
      "  warnings.warn(\n",
      "/nvmefs1/daranhe/.conda/envs/default/lib/python3.10/site-packages/determined/common/experimental/model.py:186: FutureWarning: 'ModelOrderBy' is deprecated and will be removed in a future release. Please use 'experimental.OrderBy' instead.\n",
      "  warnings.warn(\n",
      "/nvmefs1/daranhe/llm-shearing/LLM-Shearing/further/experiments/launch.py:7: FutureWarning: The 'determined.common.experimental' module is deprecated and will be removed in future versions. Please import from 'determined.experimental' instead. Example: `from determined.experimental import Determined`\n",
      "  from determined.common.experimental import Determined, experiment\n"
     ]
    },
    {
     "name": "stdout",
     "output_type": "stream",
     "text": [
      "Preparing files to send to master... 508.4KB and 90 files\n",
      "Experiment started at http://mlds-determined.us.rdlabs.hpecorp.net:8080/det/experiments/13637/logs\n"
     ]
    },
    {
     "name": "stderr",
     "output_type": "stream",
     "text": [
      "Waiting for Experiment 13608 to complete. Elapsed 1.0 minutes\n"
     ]
    },
    {
     "name": "stdout",
     "output_type": "stream",
     "text": [
      "Experiment 13633 completed with state ExperimentState.COMPLETED\n",
      "Launching workflow: evaluate_model\n"
     ]
    },
    {
     "name": "stderr",
     "output_type": "stream",
     "text": [
      "/nvmefs1/daranhe/.conda/envs/default/lib/python3.10/site-packages/determined/common/experimental/checkpoint/_checkpoint.py:62: FutureWarning: 'CheckpointOrderBy' is deprecated and will be removed in a future release. Please use 'experimental.OrderBy' instead.\n",
      "  warnings.warn(\n",
      "/nvmefs1/daranhe/.conda/envs/default/lib/python3.10/site-packages/determined/common/experimental/trial.py:579: FutureWarning: 'TrialOrderBy' is deprecated and will be removed in a future release. Please use 'experimental.OrderBy' instead.\n",
      "  warnings.warn(\n",
      "/nvmefs1/daranhe/.conda/envs/default/lib/python3.10/site-packages/determined/common/experimental/experiment.py:78: FutureWarning: 'ExperimentOrderBy' is deprecated and will be removed in a future release. Please use 'experimental.OrderBy' instead.\n",
      "  warnings.warn(\n",
      "/nvmefs1/daranhe/.conda/envs/default/lib/python3.10/site-packages/determined/common/experimental/model.py:186: FutureWarning: 'ModelOrderBy' is deprecated and will be removed in a future release. Please use 'experimental.OrderBy' instead.\n",
      "  warnings.warn(\n",
      "/nvmefs1/daranhe/llm-shearing/LLM-Shearing/further/experiments/launch.py:7: FutureWarning: The 'determined.common.experimental' module is deprecated and will be removed in future versions. Please import from 'determined.experimental' instead. Example: `from determined.experimental import Determined`\n",
      "  from determined.common.experimental import Determined, experiment\n"
     ]
    },
    {
     "name": "stdout",
     "output_type": "stream",
     "text": [
      "Preparing files to send to master... 508.4KB and 90 files\n",
      "Experiment started at http://mlds-determined.us.rdlabs.hpecorp.net:8080/det/experiments/13638/logs\n",
      "Experiment 13635 completed with state ExperimentState.COMPLETED\n",
      "Launching workflow: evaluate_model\n"
     ]
    },
    {
     "name": "stderr",
     "output_type": "stream",
     "text": [
      "/nvmefs1/daranhe/.conda/envs/default/lib/python3.10/site-packages/determined/common/experimental/checkpoint/_checkpoint.py:62: FutureWarning: 'CheckpointOrderBy' is deprecated and will be removed in a future release. Please use 'experimental.OrderBy' instead.\n",
      "  warnings.warn(\n",
      "/nvmefs1/daranhe/.conda/envs/default/lib/python3.10/site-packages/determined/common/experimental/trial.py:579: FutureWarning: 'TrialOrderBy' is deprecated and will be removed in a future release. Please use 'experimental.OrderBy' instead.\n",
      "  warnings.warn(\n",
      "/nvmefs1/daranhe/.conda/envs/default/lib/python3.10/site-packages/determined/common/experimental/experiment.py:78: FutureWarning: 'ExperimentOrderBy' is deprecated and will be removed in a future release. Please use 'experimental.OrderBy' instead.\n",
      "  warnings.warn(\n",
      "/nvmefs1/daranhe/.conda/envs/default/lib/python3.10/site-packages/determined/common/experimental/model.py:186: FutureWarning: 'ModelOrderBy' is deprecated and will be removed in a future release. Please use 'experimental.OrderBy' instead.\n",
      "  warnings.warn(\n",
      "/nvmefs1/daranhe/llm-shearing/LLM-Shearing/further/experiments/launch.py:7: FutureWarning: The 'determined.common.experimental' module is deprecated and will be removed in future versions. Please import from 'determined.experimental' instead. Example: `from determined.experimental import Determined`\n",
      "  from determined.common.experimental import Determined, experiment\n"
     ]
    },
    {
     "name": "stdout",
     "output_type": "stream",
     "text": [
      "Preparing files to send to master... 508.4KB and 90 files\n",
      "Experiment started at http://mlds-determined.us.rdlabs.hpecorp.net:8080/det/experiments/13639/logs\n"
     ]
    },
    {
     "name": "stderr",
     "output_type": "stream",
     "text": [
      "Waiting for Experiment 13612 to complete. Elapsed 1.0 minutes\n"
     ]
    },
    {
     "name": "stdout",
     "output_type": "stream",
     "text": [
      "Experiment 13636 completed with state ExperimentState.COMPLETED\n"
     ]
    },
    {
     "name": "stderr",
     "output_type": "stream",
     "text": [
      "Waiting for Experiment 13615 to complete. Elapsed 1.0 minutes\n"
     ]
    },
    {
     "name": "stdout",
     "output_type": "stream",
     "text": [
      "Experiment 13606 completed with state ExperimentState.COMPLETED\n",
      "Launching workflow: evaluate_model\n"
     ]
    },
    {
     "name": "stderr",
     "output_type": "stream",
     "text": [
      "Waiting for Experiment 13617 to complete. Elapsed 1.0 minutes\n",
      "/nvmefs1/daranhe/.conda/envs/default/lib/python3.10/site-packages/determined/common/experimental/checkpoint/_checkpoint.py:62: FutureWarning: 'CheckpointOrderBy' is deprecated and will be removed in a future release. Please use 'experimental.OrderBy' instead.\n",
      "  warnings.warn(\n",
      "/nvmefs1/daranhe/.conda/envs/default/lib/python3.10/site-packages/determined/common/experimental/trial.py:579: FutureWarning: 'TrialOrderBy' is deprecated and will be removed in a future release. Please use 'experimental.OrderBy' instead.\n",
      "  warnings.warn(\n",
      "/nvmefs1/daranhe/.conda/envs/default/lib/python3.10/site-packages/determined/common/experimental/experiment.py:78: FutureWarning: 'ExperimentOrderBy' is deprecated and will be removed in a future release. Please use 'experimental.OrderBy' instead.\n",
      "  warnings.warn(\n",
      "/nvmefs1/daranhe/.conda/envs/default/lib/python3.10/site-packages/determined/common/experimental/model.py:186: FutureWarning: 'ModelOrderBy' is deprecated and will be removed in a future release. Please use 'experimental.OrderBy' instead.\n",
      "  warnings.warn(\n",
      "/nvmefs1/daranhe/llm-shearing/LLM-Shearing/further/experiments/launch.py:7: FutureWarning: The 'determined.common.experimental' module is deprecated and will be removed in future versions. Please import from 'determined.experimental' instead. Example: `from determined.experimental import Determined`\n",
      "  from determined.common.experimental import Determined, experiment\n"
     ]
    },
    {
     "name": "stdout",
     "output_type": "stream",
     "text": [
      "Preparing files to send to master... 508.4KB and 90 files\n"
     ]
    },
    {
     "name": "stderr",
     "output_type": "stream",
     "text": [
      "Waiting for Experiment 13618 to complete. Elapsed 1.0 minutes\n"
     ]
    },
    {
     "name": "stdout",
     "output_type": "stream",
     "text": [
      "Experiment started at http://mlds-determined.us.rdlabs.hpecorp.net:8080/det/experiments/13640/logs\n"
     ]
    },
    {
     "name": "stderr",
     "output_type": "stream",
     "text": [
      "Waiting for Experiment 13619 to complete. Elapsed 1.0 minutes\n"
     ]
    },
    {
     "name": "stdout",
     "output_type": "stream",
     "text": [
      "Experiment 13638 completed with state ExperimentState.COMPLETED\n",
      "Launching workflow: evaluate_model\n"
     ]
    },
    {
     "name": "stderr",
     "output_type": "stream",
     "text": [
      "/nvmefs1/daranhe/.conda/envs/default/lib/python3.10/site-packages/determined/common/experimental/checkpoint/_checkpoint.py:62: FutureWarning: 'CheckpointOrderBy' is deprecated and will be removed in a future release. Please use 'experimental.OrderBy' instead.\n",
      "  warnings.warn(\n",
      "/nvmefs1/daranhe/.conda/envs/default/lib/python3.10/site-packages/determined/common/experimental/trial.py:579: FutureWarning: 'TrialOrderBy' is deprecated and will be removed in a future release. Please use 'experimental.OrderBy' instead.\n",
      "  warnings.warn(\n",
      "/nvmefs1/daranhe/.conda/envs/default/lib/python3.10/site-packages/determined/common/experimental/experiment.py:78: FutureWarning: 'ExperimentOrderBy' is deprecated and will be removed in a future release. Please use 'experimental.OrderBy' instead.\n",
      "  warnings.warn(\n",
      "/nvmefs1/daranhe/.conda/envs/default/lib/python3.10/site-packages/determined/common/experimental/model.py:186: FutureWarning: 'ModelOrderBy' is deprecated and will be removed in a future release. Please use 'experimental.OrderBy' instead.\n",
      "  warnings.warn(\n",
      "/nvmefs1/daranhe/llm-shearing/LLM-Shearing/further/experiments/launch.py:7: FutureWarning: The 'determined.common.experimental' module is deprecated and will be removed in future versions. Please import from 'determined.experimental' instead. Example: `from determined.experimental import Determined`\n",
      "  from determined.common.experimental import Determined, experiment\n"
     ]
    },
    {
     "name": "stdout",
     "output_type": "stream",
     "text": [
      "Preparing files to send to master... 508.4KB and 90 files\n",
      "Experiment started at http://mlds-determined.us.rdlabs.hpecorp.net:8080/det/experiments/13641/logs\n"
     ]
    },
    {
     "name": "stderr",
     "output_type": "stream",
     "text": [
      "Waiting for Experiment 13623 to complete. Elapsed 1.0 minutes\n"
     ]
    },
    {
     "name": "stdout",
     "output_type": "stream",
     "text": [
      "Launching workflow: evaluate_model\n"
     ]
    },
    {
     "name": "stderr",
     "output_type": "stream",
     "text": [
      "/nvmefs1/daranhe/.conda/envs/default/lib/python3.10/site-packages/determined/common/experimental/checkpoint/_checkpoint.py:62: FutureWarning: 'CheckpointOrderBy' is deprecated and will be removed in a future release. Please use 'experimental.OrderBy' instead.\n",
      "  warnings.warn(\n",
      "/nvmefs1/daranhe/.conda/envs/default/lib/python3.10/site-packages/determined/common/experimental/trial.py:579: FutureWarning: 'TrialOrderBy' is deprecated and will be removed in a future release. Please use 'experimental.OrderBy' instead.\n",
      "  warnings.warn(\n",
      "/nvmefs1/daranhe/.conda/envs/default/lib/python3.10/site-packages/determined/common/experimental/experiment.py:78: FutureWarning: 'ExperimentOrderBy' is deprecated and will be removed in a future release. Please use 'experimental.OrderBy' instead.\n",
      "  warnings.warn(\n",
      "/nvmefs1/daranhe/.conda/envs/default/lib/python3.10/site-packages/determined/common/experimental/model.py:186: FutureWarning: 'ModelOrderBy' is deprecated and will be removed in a future release. Please use 'experimental.OrderBy' instead.\n",
      "  warnings.warn(\n",
      "/nvmefs1/daranhe/llm-shearing/LLM-Shearing/further/experiments/launch.py:7: FutureWarning: The 'determined.common.experimental' module is deprecated and will be removed in future versions. Please import from 'determined.experimental' instead. Example: `from determined.experimental import Determined`\n",
      "  from determined.common.experimental import Determined, experiment\n"
     ]
    },
    {
     "name": "stdout",
     "output_type": "stream",
     "text": [
      "Preparing files to send to master... 508.4KB and 90 files\n",
      "Experiment started at http://mlds-determined.us.rdlabs.hpecorp.net:8080/det/experiments/13642/logs\n"
     ]
    },
    {
     "name": "stderr",
     "output_type": "stream",
     "text": [
      "Waiting for Experiment 13625 to complete. Elapsed 1.0 minutes\n"
     ]
    },
    {
     "name": "stdout",
     "output_type": "stream",
     "text": [
      "Experiment 13637 completed with state ExperimentState.COMPLETED\n",
      "Launching workflow: evaluate_model\n"
     ]
    },
    {
     "name": "stderr",
     "output_type": "stream",
     "text": [
      "/nvmefs1/daranhe/.conda/envs/default/lib/python3.10/site-packages/determined/common/experimental/checkpoint/_checkpoint.py:62: FutureWarning: 'CheckpointOrderBy' is deprecated and will be removed in a future release. Please use 'experimental.OrderBy' instead.\n",
      "  warnings.warn(\n",
      "/nvmefs1/daranhe/.conda/envs/default/lib/python3.10/site-packages/determined/common/experimental/trial.py:579: FutureWarning: 'TrialOrderBy' is deprecated and will be removed in a future release. Please use 'experimental.OrderBy' instead.\n",
      "  warnings.warn(\n",
      "/nvmefs1/daranhe/.conda/envs/default/lib/python3.10/site-packages/determined/common/experimental/experiment.py:78: FutureWarning: 'ExperimentOrderBy' is deprecated and will be removed in a future release. Please use 'experimental.OrderBy' instead.\n",
      "  warnings.warn(\n",
      "/nvmefs1/daranhe/.conda/envs/default/lib/python3.10/site-packages/determined/common/experimental/model.py:186: FutureWarning: 'ModelOrderBy' is deprecated and will be removed in a future release. Please use 'experimental.OrderBy' instead.\n",
      "  warnings.warn(\n",
      "/nvmefs1/daranhe/llm-shearing/LLM-Shearing/further/experiments/launch.py:7: FutureWarning: The 'determined.common.experimental' module is deprecated and will be removed in future versions. Please import from 'determined.experimental' instead. Example: `from determined.experimental import Determined`\n",
      "  from determined.common.experimental import Determined, experiment\n"
     ]
    },
    {
     "name": "stdout",
     "output_type": "stream",
     "text": [
      "Preparing files to send to master... 508.4KB and 90 files\n",
      "Experiment started at http://mlds-determined.us.rdlabs.hpecorp.net:8080/det/experiments/13643/logs\n"
     ]
    },
    {
     "name": "stderr",
     "output_type": "stream",
     "text": [
      "Waiting for Experiment 13627 to complete. Elapsed 1.0 minutes\n",
      "Waiting for Experiment 13628 to complete. Elapsed 1.0 minutes\n",
      "Waiting for Experiment 13575 to complete. Elapsed 3.0 minutes\n",
      "Waiting for Experiment 13545 to complete. Elapsed 3.0 minutes\n",
      "Waiting for Experiment 13558 to complete. Elapsed 3.0 minutes\n",
      "Waiting for Experiment 13573 to complete. Elapsed 3.0 minutes\n",
      "Waiting for Experiment 13574 to complete. Elapsed 3.0 minutes\n",
      "Waiting for Experiment 13566 to complete. Elapsed 3.0 minutes\n",
      "Waiting for Experiment 13568 to complete. Elapsed 3.0 minutes\n",
      "Waiting for Experiment 13555 to complete. Elapsed 3.0 minutes\n",
      "Waiting for Experiment 13630 to complete. Elapsed 1.0 minutes\n",
      "Waiting for Experiment 13629 to complete. Elapsed 1.0 minutes\n"
     ]
    },
    {
     "name": "stdout",
     "output_type": "stream",
     "text": [
      "Experiment 13600 completed with state ExperimentState.COMPLETED\n",
      "Launching workflow: evaluate_model\n",
      "Experiment 13603 completed with state ExperimentState.COMPLETED\n"
     ]
    },
    {
     "name": "stderr",
     "output_type": "stream",
     "text": [
      "Waiting for Experiment 13597 to complete. Elapsed 2.0 minutes\n",
      "/nvmefs1/daranhe/.conda/envs/default/lib/python3.10/site-packages/determined/common/experimental/checkpoint/_checkpoint.py:62: FutureWarning: 'CheckpointOrderBy' is deprecated and will be removed in a future release. Please use 'experimental.OrderBy' instead.\n",
      "  warnings.warn(\n",
      "/nvmefs1/daranhe/.conda/envs/default/lib/python3.10/site-packages/determined/common/experimental/trial.py:579: FutureWarning: 'TrialOrderBy' is deprecated and will be removed in a future release. Please use 'experimental.OrderBy' instead.\n",
      "  warnings.warn(\n",
      "/nvmefs1/daranhe/.conda/envs/default/lib/python3.10/site-packages/determined/common/experimental/experiment.py:78: FutureWarning: 'ExperimentOrderBy' is deprecated and will be removed in a future release. Please use 'experimental.OrderBy' instead.\n",
      "  warnings.warn(\n",
      "/nvmefs1/daranhe/.conda/envs/default/lib/python3.10/site-packages/determined/common/experimental/model.py:186: FutureWarning: 'ModelOrderBy' is deprecated and will be removed in a future release. Please use 'experimental.OrderBy' instead.\n",
      "  warnings.warn(\n",
      "/nvmefs1/daranhe/llm-shearing/LLM-Shearing/further/experiments/launch.py:7: FutureWarning: The 'determined.common.experimental' module is deprecated and will be removed in future versions. Please import from 'determined.experimental' instead. Example: `from determined.experimental import Determined`\n",
      "  from determined.common.experimental import Determined, experiment\n"
     ]
    },
    {
     "name": "stdout",
     "output_type": "stream",
     "text": [
      "Preparing files to send to master... 508.4KB and 90 files\n",
      "Experiment started at http://mlds-determined.us.rdlabs.hpecorp.net:8080/det/experiments/13644/logs\n"
     ]
    },
    {
     "name": "stderr",
     "output_type": "stream",
     "text": [
      "Waiting for Experiment 13602 to complete. Elapsed 2.0 minutes\n",
      "Waiting for Experiment 13634 to complete. Elapsed 1.0 minutes\n",
      "Waiting for Experiment 13605 to complete. Elapsed 2.0 minutes\n",
      "Waiting for Experiment 13607 to complete. Elapsed 2.0 minutes\n"
     ]
    },
    {
     "name": "stdout",
     "output_type": "stream",
     "text": [
      "Experiment 13602 completed with state ExperimentState.COMPLETED\n",
      "Experiment 13642 completed with state ExperimentState.COMPLETED\n",
      "Experiment 13643 completed with state ExperimentState.COMPLETED\n",
      "Launching workflow: evaluate_model\n",
      "Launching workflow: evaluate_model\n",
      "Launching workflow: evaluate_model\n",
      "Preparing files to send to master... 508.4KB and 90 files                                                         \n",
      "Preparing files to send to master... 508.4KB and 90 files\n"
     ]
    },
    {
     "name": "stderr",
     "output_type": "stream",
     "text": [
      "/nvmefs1/daranhe/.conda/envs/default/lib/python3.10/site-packages/determined/common/experimental/checkpoint/_checkpoint.py:62: FutureWarning: 'CheckpointOrderBy' is deprecated and will be removed in a future release. Please use 'experimental.OrderBy' instead.\n",
      "  warnings.warn(\n",
      "/nvmefs1/daranhe/.conda/envs/default/lib/python3.10/site-packages/determined/common/experimental/checkpoint/_checkpoint.py:62: FutureWarning: 'CheckpointOrderBy' is deprecated and will be removed in a future release. Please use 'experimental.OrderBy' instead.\n",
      "  warnings.warn(\n",
      "/nvmefs1/daranhe/.conda/envs/default/lib/python3.10/site-packages/determined/common/experimental/trial.py:579: FutureWarning: 'TrialOrderBy' is deprecated and will be removed in a future release. Please use 'experimental.OrderBy' instead.\n",
      "  warnings.warn(\n",
      "/nvmefs1/daranhe/.conda/envs/default/lib/python3.10/site-packages/determined/common/experimental/experiment.py:78: FutureWarning: 'ExperimentOrderBy' is deprecated and will be removed in a future release. Please use 'experimental.OrderBy' instead.\n",
      "  warnings.warn(\n",
      "/nvmefs1/daranhe/.conda/envs/default/lib/python3.10/site-packages/determined/common/experimental/trial.py:579: FutureWarning: 'TrialOrderBy' is deprecated and will be removed in a future release. Please use 'experimental.OrderBy' instead.\n",
      "  warnings.warn(\n",
      "/nvmefs1/daranhe/.conda/envs/default/lib/python3.10/site-packages/determined/common/experimental/model.py:186: FutureWarning: 'ModelOrderBy' is deprecated and will be removed in a future release. Please use 'experimental.OrderBy' instead.\n",
      "  warnings.warn(\n",
      "/nvmefs1/daranhe/llm-shearing/LLM-Shearing/further/experiments/launch.py:7: FutureWarning: The 'determined.common.experimental' module is deprecated and will be removed in future versions. Please import from 'determined.experimental' instead. Example: `from determined.experimental import Determined`\n",
      "  from determined.common.experimental import Determined, experiment\n",
      "/nvmefs1/daranhe/.conda/envs/default/lib/python3.10/site-packages/determined/common/experimental/experiment.py:78: FutureWarning: 'ExperimentOrderBy' is deprecated and will be removed in a future release. Please use 'experimental.OrderBy' instead.\n",
      "  warnings.warn(\n",
      "/nvmefs1/daranhe/.conda/envs/default/lib/python3.10/site-packages/determined/common/experimental/model.py:186: FutureWarning: 'ModelOrderBy' is deprecated and will be removed in a future release. Please use 'experimental.OrderBy' instead.\n",
      "  warnings.warn(\n",
      "/nvmefs1/daranhe/llm-shearing/LLM-Shearing/further/experiments/launch.py:7: FutureWarning: The 'determined.common.experimental' module is deprecated and will be removed in future versions. Please import from 'determined.experimental' instead. Example: `from determined.experimental import Determined`\n",
      "  from determined.common.experimental import Determined, experiment\n",
      "/nvmefs1/daranhe/.conda/envs/default/lib/python3.10/site-packages/determined/common/experimental/checkpoint/_checkpoint.py:62: FutureWarning: 'CheckpointOrderBy' is deprecated and will be removed in a future release. Please use 'experimental.OrderBy' instead.\n",
      "  warnings.warn(\n",
      "/nvmefs1/daranhe/.conda/envs/default/lib/python3.10/site-packages/determined/common/experimental/trial.py:579: FutureWarning: 'TrialOrderBy' is deprecated and will be removed in a future release. Please use 'experimental.OrderBy' instead.\n",
      "  warnings.warn(\n",
      "/nvmefs1/daranhe/.conda/envs/default/lib/python3.10/site-packages/determined/common/experimental/experiment.py:78: FutureWarning: 'ExperimentOrderBy' is deprecated and will be removed in a future release. Please use 'experimental.OrderBy' instead.\n",
      "  warnings.warn(\n",
      "/nvmefs1/daranhe/.conda/envs/default/lib/python3.10/site-packages/determined/common/experimental/model.py:186: FutureWarning: 'ModelOrderBy' is deprecated and will be removed in a future release. Please use 'experimental.OrderBy' instead.\n",
      "  warnings.warn(\n",
      "/nvmefs1/daranhe/llm-shearing/LLM-Shearing/further/experiments/launch.py:7: FutureWarning: The 'determined.common.experimental' module is deprecated and will be removed in future versions. Please import from 'determined.experimental' instead. Example: `from determined.experimental import Determined`\n",
      "  from determined.common.experimental import Determined, experiment\n"
     ]
    },
    {
     "name": "stdout",
     "output_type": "stream",
     "text": [
      "Preparing files to send to master... 508.4KB and 90 files\n",
      "Experiment started at http://mlds-determined.us.rdlabs.hpecorp.net:8080/det/experiments/13646/logs\n",
      "Experiment started at http://mlds-determined.us.rdlabs.hpecorp.net:8080/det/experiments/13645/logs\n",
      "Experiment started at http://mlds-determined.us.rdlabs.hpecorp.net:8080/det/experiments/13647/logs\n"
     ]
    },
    {
     "name": "stderr",
     "output_type": "stream",
     "text": [
      "Waiting for Experiment 13608 to complete. Elapsed 2.0 minutes\n"
     ]
    },
    {
     "name": "stdout",
     "output_type": "stream",
     "text": [
      "Experiment 13623 completed with state ExperimentState.COMPLETED\n"
     ]
    },
    {
     "name": "stderr",
     "output_type": "stream",
     "text": [
      "Waiting for Experiment 13639 to complete. Elapsed 1.0 minutes\n"
     ]
    },
    {
     "name": "stdout",
     "output_type": "stream",
     "text": [
      "Experiment 13573 completed with state ExperimentState.COMPLETED\n"
     ]
    },
    {
     "name": "stderr",
     "output_type": "stream",
     "text": [
      "Waiting for Experiment 13612 to complete. Elapsed 2.0 minutes\n"
     ]
    },
    {
     "name": "stdout",
     "output_type": "stream",
     "text": [
      "Experiment 13617 completed with state ExperimentState.COMPLETED\n"
     ]
    },
    {
     "name": "stderr",
     "output_type": "stream",
     "text": [
      "Waiting for Experiment 13615 to complete. Elapsed 2.0 minutes\n"
     ]
    },
    {
     "name": "stdout",
     "output_type": "stream",
     "text": [
      "Experiment 13618 completed with state ExperimentState.COMPLETED\n",
      "Experiment 13605 completed with state ExperimentState.COMPLETED\n",
      "Experiment 13619 completed with state ExperimentState.COMPLETED\n"
     ]
    },
    {
     "name": "stderr",
     "output_type": "stream",
     "text": [
      "Waiting for Experiment 13640 to complete. Elapsed 1.0 minutes\n"
     ]
    },
    {
     "name": "stdout",
     "output_type": "stream",
     "text": [
      "Experiment 13625 completed with state ExperimentState.COMPLETED\n",
      "Experiment 13627 completed with state ExperimentState.COMPLETED\n",
      "Experiment 13628 completed with state ExperimentState.COMPLETED\n",
      "Experiment 13645 completed with state ExperimentState.COMPLETED\n"
     ]
    },
    {
     "name": "stderr",
     "output_type": "stream",
     "text": [
      "Waiting for Experiment 13641 to complete. Elapsed 1.0 minutes\n"
     ]
    },
    {
     "name": "stdout",
     "output_type": "stream",
     "text": [
      "Experiment 13629 completed with state ExperimentState.COMPLETED\n",
      "Experiment 13630 completed with state ExperimentState.COMPLETED\n",
      "Experiment 13646 completed with state ExperimentState.COMPLETED\n",
      "Experiment 13575 completed with state ExperimentState.COMPLETED\n",
      "Launching workflow: evaluate_model\n"
     ]
    },
    {
     "name": "stderr",
     "output_type": "stream",
     "text": [
      "/nvmefs1/daranhe/.conda/envs/default/lib/python3.10/site-packages/determined/common/experimental/checkpoint/_checkpoint.py:62: FutureWarning: 'CheckpointOrderBy' is deprecated and will be removed in a future release. Please use 'experimental.OrderBy' instead.\n",
      "  warnings.warn(\n",
      "/nvmefs1/daranhe/.conda/envs/default/lib/python3.10/site-packages/determined/common/experimental/trial.py:579: FutureWarning: 'TrialOrderBy' is deprecated and will be removed in a future release. Please use 'experimental.OrderBy' instead.\n",
      "  warnings.warn(\n",
      "/nvmefs1/daranhe/.conda/envs/default/lib/python3.10/site-packages/determined/common/experimental/experiment.py:78: FutureWarning: 'ExperimentOrderBy' is deprecated and will be removed in a future release. Please use 'experimental.OrderBy' instead.\n",
      "  warnings.warn(\n",
      "/nvmefs1/daranhe/.conda/envs/default/lib/python3.10/site-packages/determined/common/experimental/model.py:186: FutureWarning: 'ModelOrderBy' is deprecated and will be removed in a future release. Please use 'experimental.OrderBy' instead.\n",
      "  warnings.warn(\n",
      "/nvmefs1/daranhe/llm-shearing/LLM-Shearing/further/experiments/launch.py:7: FutureWarning: The 'determined.common.experimental' module is deprecated and will be removed in future versions. Please import from 'determined.experimental' instead. Example: `from determined.experimental import Determined`\n",
      "  from determined.common.experimental import Determined, experiment\n"
     ]
    },
    {
     "name": "stdout",
     "output_type": "stream",
     "text": [
      "Preparing files to send to master... 508.4KB and 90 files\n",
      "Experiment started at http://mlds-determined.us.rdlabs.hpecorp.net:8080/det/experiments/13648/logs\n",
      "Experiment 13607 completed with state ExperimentState.COMPLETED\n",
      "Experiment 13647 completed with state ExperimentState.COMPLETED\n"
     ]
    },
    {
     "name": "stderr",
     "output_type": "stream",
     "text": [
      "Waiting for Experiment 13545 to complete. Elapsed 4.0 minutes\n",
      "Waiting for Experiment 13566 to complete. Elapsed 4.0 minutes\n",
      "Waiting for Experiment 13568 to complete. Elapsed 4.0 minutes\n",
      "Waiting for Experiment 13558 to complete. Elapsed 4.0 minutes\n",
      "Waiting for Experiment 13574 to complete. Elapsed 4.0 minutes\n",
      "Waiting for Experiment 13555 to complete. Elapsed 4.0 minutes\n",
      "Waiting for Experiment 13597 to complete. Elapsed 3.0 minutes\n",
      "Waiting for Experiment 13644 to complete. Elapsed 1.0 minutes\n"
     ]
    },
    {
     "name": "stdout",
     "output_type": "stream",
     "text": [
      "Experiment 13634 completed with state ExperimentState.COMPLETED\n",
      "Experiment 13558 completed with state ExperimentState.COMPLETED\n",
      "Launching workflow: evaluate_model\n"
     ]
    },
    {
     "name": "stderr",
     "output_type": "stream",
     "text": [
      "/nvmefs1/daranhe/.conda/envs/default/lib/python3.10/site-packages/determined/common/experimental/checkpoint/_checkpoint.py:62: FutureWarning: 'CheckpointOrderBy' is deprecated and will be removed in a future release. Please use 'experimental.OrderBy' instead.\n",
      "  warnings.warn(\n",
      "/nvmefs1/daranhe/.conda/envs/default/lib/python3.10/site-packages/determined/common/experimental/trial.py:579: FutureWarning: 'TrialOrderBy' is deprecated and will be removed in a future release. Please use 'experimental.OrderBy' instead.\n",
      "  warnings.warn(\n",
      "/nvmefs1/daranhe/.conda/envs/default/lib/python3.10/site-packages/determined/common/experimental/experiment.py:78: FutureWarning: 'ExperimentOrderBy' is deprecated and will be removed in a future release. Please use 'experimental.OrderBy' instead.\n",
      "  warnings.warn(\n",
      "/nvmefs1/daranhe/.conda/envs/default/lib/python3.10/site-packages/determined/common/experimental/model.py:186: FutureWarning: 'ModelOrderBy' is deprecated and will be removed in a future release. Please use 'experimental.OrderBy' instead.\n",
      "  warnings.warn(\n",
      "/nvmefs1/daranhe/llm-shearing/LLM-Shearing/further/experiments/launch.py:7: FutureWarning: The 'determined.common.experimental' module is deprecated and will be removed in future versions. Please import from 'determined.experimental' instead. Example: `from determined.experimental import Determined`\n",
      "  from determined.common.experimental import Determined, experiment\n"
     ]
    },
    {
     "name": "stdout",
     "output_type": "stream",
     "text": [
      "Preparing files to send to master... 508.4KB and 90 files\n",
      "Experiment started at http://mlds-determined.us.rdlabs.hpecorp.net:8080/det/experiments/13649/logs\n",
      "Experiment 13555 completed with state ExperimentState.COMPLETED\n",
      "Launching workflow: evaluate_model\n",
      "Experiment 13648 completed with state ExperimentState.COMPLETED\n"
     ]
    },
    {
     "name": "stderr",
     "output_type": "stream",
     "text": [
      "/nvmefs1/daranhe/.conda/envs/default/lib/python3.10/site-packages/determined/common/experimental/checkpoint/_checkpoint.py:62: FutureWarning: 'CheckpointOrderBy' is deprecated and will be removed in a future release. Please use 'experimental.OrderBy' instead.\n",
      "  warnings.warn(\n",
      "/nvmefs1/daranhe/.conda/envs/default/lib/python3.10/site-packages/determined/common/experimental/trial.py:579: FutureWarning: 'TrialOrderBy' is deprecated and will be removed in a future release. Please use 'experimental.OrderBy' instead.\n",
      "  warnings.warn(\n",
      "/nvmefs1/daranhe/.conda/envs/default/lib/python3.10/site-packages/determined/common/experimental/experiment.py:78: FutureWarning: 'ExperimentOrderBy' is deprecated and will be removed in a future release. Please use 'experimental.OrderBy' instead.\n",
      "  warnings.warn(\n",
      "/nvmefs1/daranhe/.conda/envs/default/lib/python3.10/site-packages/determined/common/experimental/model.py:186: FutureWarning: 'ModelOrderBy' is deprecated and will be removed in a future release. Please use 'experimental.OrderBy' instead.\n",
      "  warnings.warn(\n",
      "/nvmefs1/daranhe/llm-shearing/LLM-Shearing/further/experiments/launch.py:7: FutureWarning: The 'determined.common.experimental' module is deprecated and will be removed in future versions. Please import from 'determined.experimental' instead. Example: `from determined.experimental import Determined`\n",
      "  from determined.common.experimental import Determined, experiment\n"
     ]
    },
    {
     "name": "stdout",
     "output_type": "stream",
     "text": [
      "Preparing files to send to master... 508.4KB and 90 files\n",
      "Experiment started at http://mlds-determined.us.rdlabs.hpecorp.net:8080/det/experiments/13650/logs\n",
      "Experiment 13615 completed with state ExperimentState.COMPLETED\n",
      "Experiment 13574 completed with state ExperimentState.COMPLETED\n",
      "Launching workflow: evaluate_model\n"
     ]
    },
    {
     "name": "stderr",
     "output_type": "stream",
     "text": [
      "/nvmefs1/daranhe/.conda/envs/default/lib/python3.10/site-packages/determined/common/experimental/checkpoint/_checkpoint.py:62: FutureWarning: 'CheckpointOrderBy' is deprecated and will be removed in a future release. Please use 'experimental.OrderBy' instead.\n",
      "  warnings.warn(\n",
      "/nvmefs1/daranhe/.conda/envs/default/lib/python3.10/site-packages/determined/common/experimental/trial.py:579: FutureWarning: 'TrialOrderBy' is deprecated and will be removed in a future release. Please use 'experimental.OrderBy' instead.\n",
      "  warnings.warn(\n",
      "/nvmefs1/daranhe/.conda/envs/default/lib/python3.10/site-packages/determined/common/experimental/experiment.py:78: FutureWarning: 'ExperimentOrderBy' is deprecated and will be removed in a future release. Please use 'experimental.OrderBy' instead.\n",
      "  warnings.warn(\n",
      "/nvmefs1/daranhe/.conda/envs/default/lib/python3.10/site-packages/determined/common/experimental/model.py:186: FutureWarning: 'ModelOrderBy' is deprecated and will be removed in a future release. Please use 'experimental.OrderBy' instead.\n",
      "  warnings.warn(\n",
      "/nvmefs1/daranhe/llm-shearing/LLM-Shearing/further/experiments/launch.py:7: FutureWarning: The 'determined.common.experimental' module is deprecated and will be removed in future versions. Please import from 'determined.experimental' instead. Example: `from determined.experimental import Determined`\n",
      "  from determined.common.experimental import Determined, experiment\n"
     ]
    },
    {
     "name": "stdout",
     "output_type": "stream",
     "text": [
      "Preparing files to send to master... 508.4KB and 90 files\n",
      "Experiment started at http://mlds-determined.us.rdlabs.hpecorp.net:8080/det/experiments/13651/logs\n",
      "Experiment 13545 completed with state ExperimentState.COMPLETED\n",
      "Experiment 13566 completed with state ExperimentState.COMPLETED\n",
      "Experiment 13568 completed with state ExperimentState.COMPLETED\n",
      "Launching workflow: evaluate_model\n",
      "Launching workflow: evaluate_model\n",
      "Launching workflow: evaluate_model\n"
     ]
    },
    {
     "name": "stderr",
     "output_type": "stream",
     "text": [
      "/nvmefs1/daranhe/.conda/envs/default/lib/python3.10/site-packages/determined/common/experimental/checkpoint/_checkpoint.py:62: FutureWarning: 'CheckpointOrderBy' is deprecated and will be removed in a future release. Please use 'experimental.OrderBy' instead.\n",
      "  warnings.warn(\n",
      "/nvmefs1/daranhe/.conda/envs/default/lib/python3.10/site-packages/determined/common/experimental/trial.py:579: FutureWarning: 'TrialOrderBy' is deprecated and will be removed in a future release. Please use 'experimental.OrderBy' instead.\n",
      "  warnings.warn(\n",
      "/nvmefs1/daranhe/.conda/envs/default/lib/python3.10/site-packages/determined/common/experimental/experiment.py:78: FutureWarning: 'ExperimentOrderBy' is deprecated and will be removed in a future release. Please use 'experimental.OrderBy' instead.\n",
      "  warnings.warn(\n",
      "/nvmefs1/daranhe/.conda/envs/default/lib/python3.10/site-packages/determined/common/experimental/model.py:186: FutureWarning: 'ModelOrderBy' is deprecated and will be removed in a future release. Please use 'experimental.OrderBy' instead.\n",
      "  warnings.warn(\n",
      "/nvmefs1/daranhe/llm-shearing/LLM-Shearing/further/experiments/launch.py:7: FutureWarning: The 'determined.common.experimental' module is deprecated and will be removed in future versions. Please import from 'determined.experimental' instead. Example: `from determined.experimental import Determined`\n",
      "  from determined.common.experimental import Determined, experiment\n",
      "/nvmefs1/daranhe/.conda/envs/default/lib/python3.10/site-packages/determined/common/experimental/checkpoint/_checkpoint.py:62: FutureWarning: 'CheckpointOrderBy' is deprecated and will be removed in a future release. Please use 'experimental.OrderBy' instead.\n",
      "  warnings.warn(\n",
      "/nvmefs1/daranhe/.conda/envs/default/lib/python3.10/site-packages/determined/common/experimental/trial.py:579: FutureWarning: 'TrialOrderBy' is deprecated and will be removed in a future release. Please use 'experimental.OrderBy' instead.\n",
      "  warnings.warn(\n",
      "/nvmefs1/daranhe/.conda/envs/default/lib/python3.10/site-packages/determined/common/experimental/experiment.py:78: FutureWarning: 'ExperimentOrderBy' is deprecated and will be removed in a future release. Please use 'experimental.OrderBy' instead.\n",
      "  warnings.warn(\n",
      "/nvmefs1/daranhe/.conda/envs/default/lib/python3.10/site-packages/determined/common/experimental/model.py:186: FutureWarning: 'ModelOrderBy' is deprecated and will be removed in a future release. Please use 'experimental.OrderBy' instead.\n",
      "  warnings.warn(\n",
      "/nvmefs1/daranhe/llm-shearing/LLM-Shearing/further/experiments/launch.py:7: FutureWarning: The 'determined.common.experimental' module is deprecated and will be removed in future versions. Please import from 'determined.experimental' instead. Example: `from determined.experimental import Determined`\n",
      "  from determined.common.experimental import Determined, experiment\n",
      "/nvmefs1/daranhe/.conda/envs/default/lib/python3.10/site-packages/determined/common/experimental/checkpoint/_checkpoint.py:62: FutureWarning: 'CheckpointOrderBy' is deprecated and will be removed in a future release. Please use 'experimental.OrderBy' instead.\n",
      "  warnings.warn(\n",
      "/nvmefs1/daranhe/.conda/envs/default/lib/python3.10/site-packages/determined/common/experimental/trial.py:579: FutureWarning: 'TrialOrderBy' is deprecated and will be removed in a future release. Please use 'experimental.OrderBy' instead.\n",
      "  warnings.warn(\n",
      "/nvmefs1/daranhe/.conda/envs/default/lib/python3.10/site-packages/determined/common/experimental/experiment.py:78: FutureWarning: 'ExperimentOrderBy' is deprecated and will be removed in a future release. Please use 'experimental.OrderBy' instead.\n",
      "  warnings.warn(\n",
      "/nvmefs1/daranhe/.conda/envs/default/lib/python3.10/site-packages/determined/common/experimental/model.py:186: FutureWarning: 'ModelOrderBy' is deprecated and will be removed in a future release. Please use 'experimental.OrderBy' instead.\n",
      "  warnings.warn(\n",
      "/nvmefs1/daranhe/llm-shearing/LLM-Shearing/further/experiments/launch.py:7: FutureWarning: The 'determined.common.experimental' module is deprecated and will be removed in future versions. Please import from 'determined.experimental' instead. Example: `from determined.experimental import Determined`\n",
      "  from determined.common.experimental import Determined, experiment\n"
     ]
    },
    {
     "name": "stdout",
     "output_type": "stream",
     "text": [
      "Preparing files to send to master... 508.4KB and 90 files\n",
      "Preparing files to send to master... 508.4KB and 90 files\n",
      "Preparing files to send to master... 508.4KB and 90 files\n",
      "Experiment started at http://mlds-determined.us.rdlabs.hpecorp.net:8080/det/experiments/13652/logs\n",
      "Experiment started at http://mlds-determined.us.rdlabs.hpecorp.net:8080/det/experiments/13653/logs\n",
      "Experiment started at http://mlds-determined.us.rdlabs.hpecorp.net:8080/det/experiments/13654/logs\n",
      "Experiment 13649 completed with state ExperimentState.COMPLETED\n"
     ]
    },
    {
     "name": "stderr",
     "output_type": "stream",
     "text": [
      "Waiting for Experiment 13608 to complete. Elapsed 3.0 minutes\n"
     ]
    },
    {
     "name": "stdout",
     "output_type": "stream",
     "text": [
      "Experiment 13608 completed with state ExperimentState.COMPLETED\n",
      "Experiment 13640 completed with state ExperimentState.COMPLETED\n"
     ]
    },
    {
     "name": "stderr",
     "output_type": "stream",
     "text": [
      "Waiting for Experiment 13639 to complete. Elapsed 2.0 minutes\n"
     ]
    },
    {
     "name": "stdout",
     "output_type": "stream",
     "text": [
      "Experiment 13639 completed with state ExperimentState.COMPLETED\n",
      "Experiment 13651 completed with state ExperimentState.COMPLETED\n"
     ]
    },
    {
     "name": "stderr",
     "output_type": "stream",
     "text": [
      "Waiting for Experiment 13612 to complete. Elapsed 3.0 minutes\n"
     ]
    },
    {
     "name": "stdout",
     "output_type": "stream",
     "text": [
      "Experiment 13641 completed with state ExperimentState.COMPLETED\n",
      "Experiment 13652 completed with state ExperimentState.COMPLETED\n",
      "Experiment 13653 completed with state ExperimentState.COMPLETED\n",
      "Experiment 13654 completed with state ExperimentState.COMPLETED\n",
      "Experiment 13644 completed with state ExperimentState.COMPLETED\n"
     ]
    },
    {
     "name": "stderr",
     "output_type": "stream",
     "text": [
      "Waiting for Experiment 13597 to complete. Elapsed 4.0 minutes\n",
      "Waiting for Experiment 13650 to complete. Elapsed 1.0 minutes\n"
     ]
    },
    {
     "name": "stdout",
     "output_type": "stream",
     "text": [
      "Experiment 13597 completed with state ExperimentState.COMPLETED\n"
     ]
    },
    {
     "name": "stderr",
     "output_type": "stream",
     "text": [
      "Waiting for Experiment 13612 to complete. Elapsed 4.0 minutes\n"
     ]
    },
    {
     "name": "stdout",
     "output_type": "stream",
     "text": [
      "Experiment 13612 completed with state ExperimentState.COMPLETED\n",
      "Experiment 13650 completed with state ExperimentState.COMPLETED\n"
     ]
    }
   ],
   "source": [
    "from pathlib import Path\n",
    "\n",
    "import dask\n",
    "from dask.graph_manipulation import bind\n",
    "from dask.distributed import Client\n",
    "\n",
    "from convert_composer_to_hf import ConvertComposerToHfConfig, convert_composer_to_hf\n",
    "from evaluate_model import EvaluationConfig, evaluate_model\n",
    "from pipeline import PipelineConfig\n",
    "\n",
    "# from continued_pretraining import run_continued_pretraining\n",
    "from further.experiments.scripts.dispatch import launch_workflow\n",
    "\n",
    "configs = {\n",
    "    \"7b_to_370m\": PipelineConfig(\n",
    "        from_model_name=\"NousResearch/Llama-2-7b-hf\",\n",
    "        from_model_size=\"7b\",\n",
    "        to_model_size=\"370m\",\n",
    "    ),\n",
    "    \"1.3b_to_370m\": PipelineConfig(\n",
    "        from_model_name=\"princeton-nlp/Sheared-LLaMA-1.3B\",\n",
    "        from_model_size=\"1.3b\",\n",
    "        to_model_size=\"370m\",\n",
    "    ),\n",
    "}\n",
    "\n",
    "\n",
    "@dask.delayed\n",
    "def export_task(group: str, config: ConvertComposerToHfConfig):\n",
    "    launch_workflow(convert_composer_to_hf, group=group, gpu=2, no_follow=True)(config)\n",
    "\n",
    "\n",
    "@dask.delayed\n",
    "def eval_task(group: str, config: EvaluationConfig):\n",
    "    launch_workflow(evaluate_model, group=group, gpu=2, no_follow=True)(config)\n",
    "\n",
    "\n",
    "if __name__ == \"__main__\":\n",
    "    client = Client()\n",
    "    print(client.dashboard_link)\n",
    "\n",
    "    futures = []\n",
    "\n",
    "    for exp_name, config in configs.items():\n",
    "        assert config.to_model_dims is not None\n",
    "\n",
    "        \"\"\"Create configs\"\"\"\n",
    "\n",
    "        # original\n",
    "        original_eval_config = config.from_model_eval_config\n",
    "\n",
    "        # pruned\n",
    "        pruned_export_config = config.pruned_to_hf_config\n",
    "        pruned_eval_config = config.pruning_eval_config\n",
    "\n",
    "        # continued pretraining\n",
    "        checkpoint_paths = config.continued_pretraining_config.get_checkpoint_paths()\n",
    "        export_and_eval_configs = []\n",
    "        for checkpoint_path in checkpoint_paths:\n",
    "            export_config = ConvertComposerToHfConfig(\n",
    "                model_path=str(checkpoint_path),\n",
    "                model_name=checkpoint_path.name,\n",
    "                network_dims=config.to_model_dims,\n",
    "            )\n",
    "            eval_config = EvaluationConfig(model=export_config.output_path)\n",
    "            export_and_eval_configs.append((export_config, eval_config))\n",
    "\n",
    "        \"\"\"Run tasks\"\"\"\n",
    "\n",
    "        group = f\"{exp_name}-original\"\n",
    "        futures.append(eval_task(group, original_eval_config))\n",
    "\n",
    "        group = f\"{exp_name}-pruned\"\n",
    "        future = export_task(group, pruned_export_config)\n",
    "        futures.append(bind(eval_task, [future])(group, pruned_eval_config))\n",
    "\n",
    "        for export_config, eval_config in export_and_eval_configs:\n",
    "            ba = config.continued_pretraining_config.get_checkpoint_id(\n",
    "                export_config.model_path\n",
    "            )\n",
    "            group = f\"{exp_name}-pretraining-ba{ba}\"\n",
    "            future = export_task(group, export_config)\n",
    "            futures.append(bind(eval_task, [future])(group, eval_config))\n",
    "\n",
    "    dask.compute(*futures)"
   ]
  },
  {
   "cell_type": "code",
   "execution_count": 2,
   "metadata": {},
   "outputs": [
    {
     "data": {
      "text/html": [
       "<div>\n",
       "<style scoped>\n",
       "    .dataframe tbody tr th:only-of-type {\n",
       "        vertical-align: middle;\n",
       "    }\n",
       "\n",
       "    .dataframe tbody tr th {\n",
       "        vertical-align: top;\n",
       "    }\n",
       "\n",
       "    .dataframe thead th {\n",
       "        text-align: right;\n",
       "    }\n",
       "</style>\n",
       "<table border=\"1\" class=\"dataframe\">\n",
       "  <thead>\n",
       "    <tr style=\"text-align: right;\">\n",
       "      <th></th>\n",
       "      <th>size</th>\n",
       "      <th>type</th>\n",
       "      <th>task</th>\n",
       "      <th>accuracy</th>\n",
       "      <th>batch</th>\n",
       "    </tr>\n",
       "  </thead>\n",
       "  <tbody>\n",
       "    <tr>\n",
       "      <th>0</th>\n",
       "      <td>1.3b</td>\n",
       "      <td>original</td>\n",
       "      <td>arc_easy</td>\n",
       "      <td>0.609848</td>\n",
       "      <td>0</td>\n",
       "    </tr>\n",
       "    <tr>\n",
       "      <th>1</th>\n",
       "      <td>1.3b</td>\n",
       "      <td>original</td>\n",
       "      <td>piqa</td>\n",
       "      <td>0.735582</td>\n",
       "      <td>0</td>\n",
       "    </tr>\n",
       "    <tr>\n",
       "      <th>2</th>\n",
       "      <td>1.3b</td>\n",
       "      <td>original</td>\n",
       "      <td>sciq</td>\n",
       "      <td>0.870000</td>\n",
       "      <td>0</td>\n",
       "    </tr>\n",
       "    <tr>\n",
       "      <th>3</th>\n",
       "      <td>1.3b</td>\n",
       "      <td>original</td>\n",
       "      <td>winogrande</td>\n",
       "      <td>0.580900</td>\n",
       "      <td>0</td>\n",
       "    </tr>\n",
       "    <tr>\n",
       "      <th>4</th>\n",
       "      <td>1.3b</td>\n",
       "      <td>pruned</td>\n",
       "      <td>arc_easy</td>\n",
       "      <td>0.346801</td>\n",
       "      <td>0</td>\n",
       "    </tr>\n",
       "    <tr>\n",
       "      <th>...</th>\n",
       "      <td>...</td>\n",
       "      <td>...</td>\n",
       "      <td>...</td>\n",
       "      <td>...</td>\n",
       "      <td>...</td>\n",
       "    </tr>\n",
       "    <tr>\n",
       "      <th>219</th>\n",
       "      <td>7b</td>\n",
       "      <td>continued_pretraining</td>\n",
       "      <td>winogrande</td>\n",
       "      <td>0.524073</td>\n",
       "      <td>46800</td>\n",
       "    </tr>\n",
       "    <tr>\n",
       "      <th>220</th>\n",
       "      <td>7b</td>\n",
       "      <td>continued_pretraining</td>\n",
       "      <td>arc_easy</td>\n",
       "      <td>0.496633</td>\n",
       "      <td>43200</td>\n",
       "    </tr>\n",
       "    <tr>\n",
       "      <th>221</th>\n",
       "      <td>7b</td>\n",
       "      <td>continued_pretraining</td>\n",
       "      <td>piqa</td>\n",
       "      <td>0.653428</td>\n",
       "      <td>43200</td>\n",
       "    </tr>\n",
       "    <tr>\n",
       "      <th>222</th>\n",
       "      <td>7b</td>\n",
       "      <td>continued_pretraining</td>\n",
       "      <td>sciq</td>\n",
       "      <td>0.819000</td>\n",
       "      <td>43200</td>\n",
       "    </tr>\n",
       "    <tr>\n",
       "      <th>223</th>\n",
       "      <td>7b</td>\n",
       "      <td>continued_pretraining</td>\n",
       "      <td>winogrande</td>\n",
       "      <td>0.514601</td>\n",
       "      <td>43200</td>\n",
       "    </tr>\n",
       "  </tbody>\n",
       "</table>\n",
       "<p>224 rows × 5 columns</p>\n",
       "</div>"
      ],
      "text/plain": [
       "     size                   type        task  accuracy  batch\n",
       "0    1.3b               original    arc_easy  0.609848      0\n",
       "1    1.3b               original        piqa  0.735582      0\n",
       "2    1.3b               original        sciq  0.870000      0\n",
       "3    1.3b               original  winogrande  0.580900      0\n",
       "4    1.3b                 pruned    arc_easy  0.346801      0\n",
       "..    ...                    ...         ...       ...    ...\n",
       "219    7b  continued_pretraining  winogrande  0.524073  46800\n",
       "220    7b  continued_pretraining    arc_easy  0.496633  43200\n",
       "221    7b  continued_pretraining        piqa  0.653428  43200\n",
       "222    7b  continued_pretraining        sciq  0.819000  43200\n",
       "223    7b  continued_pretraining  winogrande  0.514601  43200\n",
       "\n",
       "[224 rows x 5 columns]"
      ]
     },
     "execution_count": 2,
     "metadata": {},
     "output_type": "execute_result"
    }
   ],
   "source": [
    "import json\n",
    "import os\n",
    "import glob\n",
    "import re\n",
    "import matplotlib.pyplot as plt\n",
    "import seaborn as sns\n",
    "import pandas as pd\n",
    "from pathlib import Path\n",
    "\n",
    "\n",
    "# Function to extract batch number from filename\n",
    "def extract_batch(filename):\n",
    "    match = re.search(r\"ba(\\d+)-rank0\", filename)\n",
    "    return int(match.group(1)) if match else 0\n",
    "\n",
    "\n",
    "# Function to read JSON file and extract accuracy\n",
    "def read_json(file_path):\n",
    "    with open(file_path, \"r\") as f:\n",
    "        data = json.load(f)\n",
    "    return {task: results[\"acc,none\"] for task, results in data[\"results\"].items()}\n",
    "\n",
    "\n",
    "# Paths\n",
    "lm_eval_dir = \"/nvmefs1/daranhe/llm-shearing/out/lm_eval\"\n",
    "results_dir = Path(\"results\")\n",
    "results_dir.mkdir(exist_ok=True, parents=True)\n",
    "\n",
    "\n",
    "# Collect data\n",
    "data = []\n",
    "for size in [\"1.3b\", \"7b\"]:\n",
    "    # Original model\n",
    "    original_file = glob.glob(\n",
    "        os.path.join(\n",
    "            lm_eval_dir,\n",
    "            f\"*{'Sheared-LLaMA-1.3B' if size == '1.3b' else 'Llama-2-7b-hf'}\",\n",
    "            \"*.json\",\n",
    "        )\n",
    "    )[0]\n",
    "    original_data = read_json(original_file)\n",
    "    for task, acc in original_data.items():\n",
    "        data.append(\n",
    "            {\n",
    "                \"size\": size,\n",
    "                \"type\": \"original\",\n",
    "                \"task\": task,\n",
    "                \"accuracy\": acc,\n",
    "                \"batch\": 0,\n",
    "            }\n",
    "        )\n",
    "\n",
    "    # Pruned model\n",
    "    pruned_file = glob.glob(\n",
    "        os.path.join(\n",
    "            lm_eval_dir, f\"*pruning_{size}_to_370m*pruned-latest-rank0.hf\", \"*.json\"\n",
    "        )\n",
    "    )[0]\n",
    "    pruned_data = read_json(pruned_file)\n",
    "    for task, acc in pruned_data.items():\n",
    "        data.append(\n",
    "            {\"size\": size, \"type\": \"pruned\", \"task\": task, \"accuracy\": acc, \"batch\": 0}\n",
    "        )\n",
    "\n",
    "    # Continued pretraining checkpoints\n",
    "    checkpoint_files = glob.glob(\n",
    "        os.path.join(\n",
    "            lm_eval_dir,\n",
    "            f\"*pruning_{size}_to_370m*continued_pretraining*rank0.hf\",\n",
    "            \"*.json\",\n",
    "        )\n",
    "    )\n",
    "    for file in checkpoint_files:\n",
    "        batch = extract_batch(file)\n",
    "        checkpoint_data = read_json(file)\n",
    "        for task, acc in checkpoint_data.items():\n",
    "            data.append(\n",
    "                {\n",
    "                    \"size\": size,\n",
    "                    \"type\": \"continued_pretraining\",\n",
    "                    \"task\": task,\n",
    "                    \"accuracy\": acc,\n",
    "                    \"batch\": batch,\n",
    "                }\n",
    "            )\n",
    "\n",
    "# Convert to DataFrame\n",
    "df = pd.DataFrame(data)\n",
    "df.to_csv(results_dir / \"task_metrics_progression_data.csv\", index=False)\n",
    "df"
   ]
  },
  {
   "cell_type": "code",
   "execution_count": 3,
   "metadata": {},
   "outputs": [
    {
     "name": "stdout",
     "output_type": "stream",
     "text": [
      "Plots have been saved as JPG files.\n"
     ]
    }
   ],
   "source": [
    "# Create plots\n",
    "tasks = df[\"task\"].unique()\n",
    "for task in tasks:\n",
    "    plt.figure(figsize=(12, 6))\n",
    "    for size in [\"1.3b\", \"7b\"]:\n",
    "        task_df = df[(df[\"task\"] == task) & (df[\"size\"] == size)]\n",
    "\n",
    "        # Plot original and pruned\n",
    "        sns.scatterplot(\n",
    "            data=task_df[task_df[\"type\"].isin([\"original\", \"pruned\"])],\n",
    "            x=\"batch\",\n",
    "            y=\"accuracy\",\n",
    "            style=\"type\",\n",
    "            markers={\"original\": \"o\", \"pruned\": \"*\"},\n",
    "            s=100,\n",
    "        )\n",
    "\n",
    "        # Plot continued pretraining\n",
    "        sns.lineplot(\n",
    "            data=task_df[task_df[\"type\"] == \"continued_pretraining\"],\n",
    "            x=\"batch\",\n",
    "            y=\"accuracy\",\n",
    "            label=f\"{size} continued pretraining\",\n",
    "        )\n",
    "\n",
    "    plt.ylim(0, None)\n",
    "    plt.title(f\"Accuracy for {task}\")\n",
    "    plt.xlabel(\"Batch\")\n",
    "    plt.ylabel(\"Accuracy\")\n",
    "    plt.legend(title=\"Model\")\n",
    "    plt.tight_layout()\n",
    "    plt.savefig(results_dir / f\"task_metrics_progression_{task}.jpg\")\n",
    "    plt.close()\n",
    "\n",
    "print(\"Plots have been saved as JPG files.\")"
   ]
  }
 ],
 "metadata": {
  "kernelspec": {
   "display_name": "default",
   "language": "python",
   "name": "python3"
  },
  "language_info": {
   "codemirror_mode": {
    "name": "ipython",
    "version": 3
   },
   "file_extension": ".py",
   "mimetype": "text/x-python",
   "name": "python",
   "nbconvert_exporter": "python",
   "pygments_lexer": "ipython3",
   "version": "3.10.14"
  }
 },
 "nbformat": 4,
 "nbformat_minor": 2
}
