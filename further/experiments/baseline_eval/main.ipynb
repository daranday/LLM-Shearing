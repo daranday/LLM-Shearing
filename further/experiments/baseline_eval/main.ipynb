{
 "cells": [
  {
   "cell_type": "code",
   "execution_count": null,
   "metadata": {},
   "outputs": [],
   "source": [
    "from transformers import AutoModelForCausalLM, AutoTokenizer\n",
    "from langchain.llms import HuggingFacePipeline\n",
    "from transformers import pipeline\n",
    "\n",
    "\n",
    "# Load the tokenizer\n",
    "tokenizer = AutoTokenizer.from_pretrained(\"princeton-nlp/Sheared-LLaMA-1.3B\")\n",
    "\n",
    "# Load the model\n",
    "model = AutoModelForCausalLM.from_pretrained(\"princeton-nlp/Sheared-LLaMA-1.3B\")"
   ]
  },
  {
   "cell_type": "code",
   "execution_count": null,
   "metadata": {},
   "outputs": [],
   "source": [
    "\n",
    "# Create a text generation pipeline\n",
    "hf_pipeline = pipeline(\n",
    "    \"question-answering\",\n",
    "    model=model,\n",
    "    tokenizer=tokenizer,\n",
    "    max_length=50,\n",
    "    pad_token_id=tokenizer.eos_token_id,\n",
    "    device=0,\n",
    ")\n",
    "\n",
    "# Load the pipeline into LangChain\n",
    "llm = HuggingFacePipeline(pipeline=hf_pipeline)"
   ]
  },
  {
   "cell_type": "code",
   "execution_count": null,
   "metadata": {},
   "outputs": [],
   "source": [
    "# Example question and context\n",
    "question = \"What is the capital of France?\"\n",
    "context = \"France, in Western Europe, encompasses medieval cities, alpine villages and Mediterranean beaches. Paris is its capital.\"\n",
    "\n",
    "# Format input for `generate`\n",
    "formatted_input = f\"Question: {question}\\nContext: {context}\"\n",
    "\n",
    "# Perform question-answering using `generate`\n",
    "response = llm.generate([formatted_input])"
   ]
  },
  {
   "cell_type": "code",
   "execution_count": null,
   "metadata": {},
   "outputs": [],
   "source": []
  }
 ],
 "metadata": {
  "kernelspec": {
   "display_name": "base",
   "language": "python",
   "name": "python3"
  },
  "language_info": {
   "codemirror_mode": {
    "name": "ipython",
    "version": 3
   },
   "file_extension": ".py",
   "mimetype": "text/x-python",
   "name": "python",
   "nbconvert_exporter": "python",
   "pygments_lexer": "ipython3",
   "version": "3.9.19"
  }
 },
 "nbformat": 4,
 "nbformat_minor": 2
}
