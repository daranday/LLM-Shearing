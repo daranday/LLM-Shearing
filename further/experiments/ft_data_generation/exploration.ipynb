{
 "cells": [
  {
   "cell_type": "code",
   "execution_count": 1,
   "metadata": {},
   "outputs": [],
   "source": [
    "import config"
   ]
  },
  {
   "cell_type": "code",
   "execution_count": 12,
   "metadata": {},
   "outputs": [
    {
     "data": {
      "text/html": [
       "<div>\n",
       "<style scoped>\n",
       "    .dataframe tbody tr th:only-of-type {\n",
       "        vertical-align: middle;\n",
       "    }\n",
       "\n",
       "    .dataframe tbody tr th {\n",
       "        vertical-align: top;\n",
       "    }\n",
       "\n",
       "    .dataframe thead th {\n",
       "        text-align: right;\n",
       "    }\n",
       "</style>\n",
       "<table border=\"1\" class=\"dataframe\">\n",
       "  <thead>\n",
       "    <tr style=\"text-align: right;\">\n",
       "      <th></th>\n",
       "      <th>text</th>\n",
       "      <th>meta</th>\n",
       "    </tr>\n",
       "  </thead>\n",
       "  <tbody>\n",
       "    <tr>\n",
       "      <th>0</th>\n",
       "      <td>Pre-requisite programmes such as GAP, GMP and ...</td>\n",
       "      <td>{'redpajama_set_name': 'RedPajamaC4'}</td>\n",
       "    </tr>\n",
       "    <tr>\n",
       "      <th>1</th>\n",
       "      <td>The Oxford Facsimiles of the Herculaneum Papyr...</td>\n",
       "      <td>{'redpajama_set_name': 'RedPajamaCommonCrawl'}</td>\n",
       "    </tr>\n",
       "    <tr>\n",
       "      <th>2</th>\n",
       "      <td>Thanksgiving is inching ever closer, and if yo...</td>\n",
       "      <td>{'redpajama_set_name': 'RedPajamaC4'}</td>\n",
       "    </tr>\n",
       "    <tr>\n",
       "      <th>3</th>\n",
       "      <td>Talk To Me Today: fax:021 685 910\\nAbout Nigel...</td>\n",
       "      <td>{'redpajama_set_name': 'RedPajamaCommonCrawl'}</td>\n",
       "    </tr>\n",
       "    <tr>\n",
       "      <th>4</th>\n",
       "      <td>// utilities\\n// generally static helpers (no...</td>\n",
       "      <td>{'redpajama_set_name': 'RedPajamaGithub'}</td>\n",
       "    </tr>\n",
       "  </tbody>\n",
       "</table>\n",
       "</div>"
      ],
      "text/plain": [
       "                                                text  \\\n",
       "0  Pre-requisite programmes such as GAP, GMP and ...   \n",
       "1  The Oxford Facsimiles of the Herculaneum Papyr...   \n",
       "2  Thanksgiving is inching ever closer, and if yo...   \n",
       "3  Talk To Me Today: fax:021 685 910\\nAbout Nigel...   \n",
       "4   // utilities\\n// generally static helpers (no...   \n",
       "\n",
       "                                             meta  \n",
       "0           {'redpajama_set_name': 'RedPajamaC4'}  \n",
       "1  {'redpajama_set_name': 'RedPajamaCommonCrawl'}  \n",
       "2           {'redpajama_set_name': 'RedPajamaC4'}  \n",
       "3  {'redpajama_set_name': 'RedPajamaCommonCrawl'}  \n",
       "4       {'redpajama_set_name': 'RedPajamaGithub'}  "
      ]
     },
     "execution_count": 12,
     "metadata": {},
     "output_type": "execute_result"
    }
   ],
   "source": [
    "from datasets import Dataset\n",
    "\n",
    "from pathlib import Path\n",
    "\n",
    "# Define the path to the Arrow file\n",
    "p = \"/nvmefs1/mk/datasets/cerebras___slim_pajama-627_b/default/0.0.0/2d0accdd58c5d5511943ca1f5ff0e3eb5e293543/slim_pajama-627_b-train-04486-of-10190.arrow\"\n",
    "dataset = Dataset.from_file(p)\n",
    "df = dataset.to_pandas()\n",
    "df.head()"
   ]
  },
  {
   "cell_type": "code",
   "execution_count": null,
   "metadata": {},
   "outputs": [],
   "source": []
  }
 ],
 "metadata": {
  "kernelspec": {
   "display_name": "default",
   "language": "python",
   "name": "python3"
  },
  "language_info": {
   "codemirror_mode": {
    "name": "ipython",
    "version": 3
   },
   "file_extension": ".py",
   "mimetype": "text/x-python",
   "name": "python",
   "nbconvert_exporter": "python",
   "pygments_lexer": "ipython3",
   "version": "3.10.14"
  }
 },
 "nbformat": 4,
 "nbformat_minor": 2
}
